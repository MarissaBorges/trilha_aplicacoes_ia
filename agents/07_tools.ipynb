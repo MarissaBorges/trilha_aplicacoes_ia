{
 "cells": [
  {
   "cell_type": "markdown",
   "metadata": {},
   "source": [
    "# Tools - Ferramentas\n",
    "\n",
    "Ferramentas são interfaces que um agente, cadeia ou LLM podem usar para interagir com o mundo. Elas combinam algumas coisas:\n",
    "- O nome da ferramenta\n",
    "- Uma descrição do que é a ferramenta\n",
    "- Esquema JSON dos inputs (entradas) da ferramenta\n",
    "- A função a ser chamada\n",
    "- Se o resultado de uma ferramenta deve ser retornado diretamente para o usuário\n",
    "\n",
    "É útil ter todas essas informações porque essas informações podem ser usadas para construir sistemas que tomam ações! O nome, a descrição e o esquema JSON podem ser usados para solicitar ao LLM que ele saiba como especificar qual ação tomar, e então a função a ser chamada é equivalente a tomar essa ação.\n",
    "\n",
    "Quanto mais simples for a entrada de uma ferramenta, mais fácil será para um LLM conseguir usá-la. Importante ressaltar que o nome, a descrição e o esquema JSON (se utilizados) são todos utilizados no prompt. Portanto, é muito importante que eles sejam claros e descrevam exatamente como a ferramenta deve ser usada. Pode ser necessário alterar o nome padrão, a descrição ou o esquema JSON se o LLM não estiver entendendo como usar a ferramenta."
   ]
  },
  {
   "cell_type": "markdown",
   "metadata": {},
   "source": [
    "## Criando tools com o decorador @tools"
   ]
  },
  {
   "cell_type": "code",
   "execution_count": 1,
   "metadata": {},
   "outputs": [
    {
     "data": {
      "text/plain": [
       "StructuredTool(name='retorna_temperatura_atual', description='Faz uma busca online de temperatura de uma localidade', args_schema=<class 'langchain_core.utils.pydantic.retorna_temperatura_atual'>, func=<function retorna_temperatura_atual at 0x0000028BC1559940>)"
      ]
     },
     "execution_count": 1,
     "metadata": {},
     "output_type": "execute_result"
    }
   ],
   "source": [
    "from  langchain.agents import tool\n",
    "\n",
    "@tool\n",
    "def retorna_temperatura_atual(local: str):\n",
    "    \"\"\"Faz uma busca online de temperatura de uma localidade\"\"\"\n",
    "    return '25°C'\n",
    "\n",
    "retorna_temperatura_atual"
   ]
  },
  {
   "cell_type": "code",
   "execution_count": 2,
   "metadata": {},
   "outputs": [
    {
     "data": {
      "text/plain": [
       "'retorna_temperatura_atual'"
      ]
     },
     "execution_count": 2,
     "metadata": {},
     "output_type": "execute_result"
    }
   ],
   "source": [
    "retorna_temperatura_atual.name"
   ]
  },
  {
   "cell_type": "code",
   "execution_count": 3,
   "metadata": {},
   "outputs": [
    {
     "data": {
      "text/plain": [
       "'Faz uma busca online de temperatura de uma localidade'"
      ]
     },
     "execution_count": 3,
     "metadata": {},
     "output_type": "execute_result"
    }
   ],
   "source": [
    "retorna_temperatura_atual.description"
   ]
  },
  {
   "cell_type": "code",
   "execution_count": 4,
   "metadata": {},
   "outputs": [
    {
     "data": {
      "text/plain": [
       "{'local': {'title': 'Local', 'type': 'string'}}"
      ]
     },
     "execution_count": 4,
     "metadata": {},
     "output_type": "execute_result"
    }
   ],
   "source": [
    "retorna_temperatura_atual.args"
   ]
  },
  {
   "cell_type": "markdown",
   "metadata": {},
   "source": [
    "### Descrevendo os argumentos"
   ]
  },
  {
   "cell_type": "code",
   "execution_count": 7,
   "metadata": {},
   "outputs": [
    {
     "data": {
      "text/plain": [
       "StructuredTool(name='retorna_temperatura_atual', description='Faz uma busca online de temperatura de um local', args_schema=<class '__main__.RetornaTempArgs'>, func=<function retorna_temperatura_atual at 0x0000028BD3CE20C0>)"
      ]
     },
     "execution_count": 7,
     "metadata": {},
     "output_type": "execute_result"
    }
   ],
   "source": [
    "from pydantic import BaseModel, Field\n",
    "from langchain.agents import tool\n",
    "\n",
    "class RetornaTempArgs(BaseModel):\n",
    "    local: str = Field(description='Local a ser buscado', examples=['São Paulo', 'Porto Alegre', 'Florianópolis'])\n",
    "\n",
    "@tool(args_schema=RetornaTempArgs)\n",
    "\n",
    "def retorna_temperatura_atual(local: str):\n",
    "    \"\"\"Faz uma busca online de temperatura de um local\"\"\"\n",
    "    return '25°C'\n",
    "\n",
    "retorna_temperatura_atual"
   ]
  },
  {
   "cell_type": "code",
   "execution_count": 8,
   "metadata": {},
   "outputs": [
    {
     "data": {
      "text/plain": [
       "{'local': {'description': 'Local a ser buscado',\n",
       "  'examples': ['São Paulo', 'Porto Alegre', 'Florianópolis'],\n",
       "  'title': 'Local',\n",
       "  'type': 'string'}}"
      ]
     },
     "execution_count": 8,
     "metadata": {},
     "output_type": "execute_result"
    }
   ],
   "source": [
    "retorna_temperatura_atual.args"
   ]
  },
  {
   "cell_type": "markdown",
   "metadata": {},
   "source": [
    "### Chamando a tool"
   ]
  },
  {
   "cell_type": "code",
   "execution_count": 9,
   "metadata": {},
   "outputs": [
    {
     "data": {
      "text/plain": [
       "'25°C'"
      ]
     },
     "execution_count": 9,
     "metadata": {},
     "output_type": "execute_result"
    }
   ],
   "source": [
    "retorna_temperatura_atual.invoke({'local': 'Porto Alegre'})"
   ]
  },
  {
   "cell_type": "markdown",
   "metadata": {},
   "source": [
    "## Criando tool com StructuredTool\n",
    "\n",
    "Outra forma de criar uma tool sem o decorador é utilizando a metaclasse StructuredTool do LangChain. As funcionalidades são bem similares, então você pode utilizar um ou outro dependendo da sua preferência."
   ]
  },
  {
   "cell_type": "code",
   "execution_count": 10,
   "metadata": {},
   "outputs": [
    {
     "data": {
      "text/plain": [
       "StructuredTool(name='ToolTemperatura', description='Faz uma busca online de temperatura de um local', args_schema=<class '__main__.RetornaTempArgs'>, return_direct=True, func=<function retorna_temperatura_atual at 0x0000028BD3D78540>)"
      ]
     },
     "execution_count": 10,
     "metadata": {},
     "output_type": "execute_result"
    }
   ],
   "source": [
    "from langchain.tools import StructuredTool\n",
    "from pydantic import BaseModel, Field\n",
    "\n",
    "class RetornaTempArgs(BaseModel):\n",
    "    local: str = Field(description='Local a ser buscado', examples=['São Paulo', 'Porto Alegre', 'Florianópolis'])\n",
    "\n",
    "def retorna_temperatura_atual(local: str):\n",
    "    return '25°C'\n",
    "\n",
    "tool_temp = StructuredTool.from_function(\n",
    "    func=retorna_temperatura_atual,\n",
    "    name='ToolTemperatura',\n",
    "    args_schema=RetornaTempArgs,\n",
    "    description=\"Faz uma busca online de temperatura de um local\",\n",
    "    return_direct=True\n",
    ")\n",
    "\n",
    "tool_temp"
   ]
  },
  {
   "cell_type": "code",
   "execution_count": 11,
   "metadata": {},
   "outputs": [
    {
     "data": {
      "text/plain": [
       "'ToolTemperatura'"
      ]
     },
     "execution_count": 11,
     "metadata": {},
     "output_type": "execute_result"
    }
   ],
   "source": [
    "tool_temp.name"
   ]
  },
  {
   "cell_type": "code",
   "execution_count": 13,
   "metadata": {},
   "outputs": [
    {
     "data": {
      "text/plain": [
       "{'local': {'description': 'Local a ser buscado',\n",
       "  'examples': ['São Paulo', 'Porto Alegre', 'Florianópolis'],\n",
       "  'title': 'Local',\n",
       "  'type': 'string'}}"
      ]
     },
     "execution_count": 13,
     "metadata": {},
     "output_type": "execute_result"
    }
   ],
   "source": [
    "tool_temp.args"
   ]
  },
  {
   "cell_type": "code",
   "execution_count": 14,
   "metadata": {},
   "outputs": [
    {
     "data": {
      "text/plain": [
       "'Faz uma busca online de temperatura de um local'"
      ]
     },
     "execution_count": 14,
     "metadata": {},
     "output_type": "execute_result"
    }
   ],
   "source": [
    "tool_temp.description"
   ]
  },
  {
   "cell_type": "code",
   "execution_count": 15,
   "metadata": {},
   "outputs": [
    {
     "data": {
      "text/plain": [
       "'25°C'"
      ]
     },
     "execution_count": 15,
     "metadata": {},
     "output_type": "execute_result"
    }
   ],
   "source": [
    "tool_temp.invoke({'local': 'Porto Alegre'})"
   ]
  }
 ],
 "metadata": {
  "kernelspec": {
   "display_name": "venv311",
   "language": "python",
   "name": "python3"
  },
  "language_info": {
   "codemirror_mode": {
    "name": "ipython",
    "version": 3
   },
   "file_extension": ".py",
   "mimetype": "text/x-python",
   "name": "python",
   "nbconvert_exporter": "python",
   "pygments_lexer": "ipython3",
   "version": "3.11.9"
  }
 },
 "nbformat": 4,
 "nbformat_minor": 2
}
