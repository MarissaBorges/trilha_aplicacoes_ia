{
 "cells": [
  {
   "cell_type": "markdown",
   "id": "366b85fd",
   "metadata": {},
   "source": [
    "# Desafio - Criando uma Função para Obter Emails"
   ]
  },
  {
   "cell_type": "markdown",
   "id": "065cc436",
   "metadata": {},
   "source": [
    "**Crie uma função chamada obter_emails que tenha os seguintes parâmetros:**\n",
    "\n",
    "- tipo: um argumento que define o tipo de emails a serem obtidos. Os valores possíveis são:\n",
    "    * ``'todos'``: para obter todos os emails.\n",
    "    * ``'não lidos'``: para obter apenas os emails que ainda não foram lidos.\n",
    "    * ``'lidos'``: para obter apenas os emails que já foram lidos.\n",
    "- quantidade: um argumento que define quantos emails você deseja obter.\n",
    "\n",
    "Essa função será o primeiro passo para criar um assistente pessoal que possa ler e responder aos nossos emails. Pense em como você pode estruturar a função e quais dados ela deve retornar."
   ]
  },
  {
   "cell_type": "code",
   "execution_count": null,
   "id": "6d20246a",
   "metadata": {},
   "outputs": [
    {
     "data": {
      "text/plain": [
       "AIMessage(content='Desculpe, mas não consigo acessar informações específicas sobre a sua conta de e-mail ou verificar quantos e-mails estão na sua caixa de entrada. Posso ajudar com outras informações ou orientações!', additional_kwargs={'refusal': None}, response_metadata={'token_usage': {'completion_tokens': 41, 'prompt_tokens': 104, 'total_tokens': 145, 'completion_tokens_details': {'accepted_prediction_tokens': 0, 'audio_tokens': 0, 'reasoning_tokens': 0, 'rejected_prediction_tokens': 0}, 'prompt_tokens_details': {'audio_tokens': 0, 'cached_tokens': 0}}, 'model_name': 'gpt-4o-mini-2024-07-18', 'system_fingerprint': 'fp_34a54ae93c', 'finish_reason': 'stop', 'logprobs': None}, id='run-f886fa93-7c4d-4af0-837c-1d6db4ac4093-0', usage_metadata={'input_tokens': 104, 'output_tokens': 41, 'total_tokens': 145, 'input_token_details': {'audio': 0, 'cache_read': 0}, 'output_token_details': {'audio': 0, 'reasoning': 0}})"
      ]
     },
     "execution_count": 13,
     "metadata": {},
     "output_type": "execute_result"
    }
   ],
   "source": [
    "from pydantic import BaseModel, Field\n",
    "from typing import Optional\n",
    "from enum import Enum\n",
    "from dotenv import load_dotenv, find_dotenv\n",
    "from langchain_openai.chat_models import ChatOpenAI\n",
    "from langchain_core.utils.function_calling import convert_to_openai_function\n",
    "from langchain.prompts import ChatPromptTemplate as cpt\n",
    "\n",
    "_ = load_dotenv(find_dotenv())\n",
    "\n",
    "class TipoEnum(str, Enum):\n",
    "    todos = 'todos'\n",
    "    nao_lidos = 'não lidos'\n",
    "    lidos = 'lidos'\n",
    "\n",
    "class ObterEmails(BaseModel):\n",
    "    '''Obtém emails baseados no tipo e quantidade desejada'''\n",
    "    tipo: TipoEnum = Field(default=TipoEnum.todos, description='Tipo de email a ser analisado')\n",
    "    quantidade: Optional[int] = Field(default=3, description='Quantidade a ser analisada')\n",
    "\n",
    "tool_emails = convert_to_openai_function(ObterEmails)\n",
    "\n",
    "prompt = cpt.from_messages(\n",
    "    [\n",
    "        ('system', 'Você é um assistente gentil chamado Dudu'),\n",
    "        ('user', '{input}')\n",
    "    ]\n",
    ")\n",
    "\n",
    "chat = ChatOpenAI(model='gpt-4o-mini')\n",
    "\n",
    "chain = prompt | chat.bind(functions=[tool_emails])\n",
    "\n",
    "resposta = chain.invoke({'input': 'Quantos e-mails lidos tem na minha caixa de entrada?'})\n",
    "# RESPOSTA\n",
    "# AIMessage(content='', additional_kwargs={'function_call': {'arguments': '{\"tipo\":\"lidos\"}', 'name': 'ObterEmails'}, 'refusal': None}\n",
    "\n",
    "resposta = chain.invoke({'input': 'Quantos e-mails tem na minha caixa de entrada?'})\n",
    "# RESPOSTA\n",
    "# AIMessage(content='Desculpe, não tenho acesso direto à sua caixa de entrada de e-mails. Posso ajudar com outra informação relacionada a e-mails ou assistir com uma tarefa específica?', additional_kwargs={'refusal': None}\n",
    "\n",
    "resposta = chain.invoke({'input': 'Quantos e-mails não lidos tem na minha caixa de entrada?'})\n",
    "# RESPOSTA\n",
    "# AIMessage(content='', additional_kwargs={'function_call': {'arguments': '{\"tipo\":\"não lidos\"}', 'name': 'ObterEmails'}, 'refusal': None}\n",
    "\n",
    "resposta\n"
   ]
  },
  {
   "cell_type": "code",
   "execution_count": null,
   "id": "e3cdea16",
   "metadata": {},
   "outputs": [],
   "source": []
  }
 ],
 "metadata": {
  "kernelspec": {
   "display_name": "venv311",
   "language": "python",
   "name": "python3"
  },
  "language_info": {
   "codemirror_mode": {
    "name": "ipython",
    "version": 3
   },
   "file_extension": ".py",
   "mimetype": "text/x-python",
   "name": "python",
   "nbconvert_exporter": "python",
   "pygments_lexer": "ipython3",
   "version": "3.11.9"
  }
 },
 "nbformat": 4,
 "nbformat_minor": 5
}
