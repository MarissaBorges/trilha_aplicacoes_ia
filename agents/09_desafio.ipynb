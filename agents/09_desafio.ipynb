{
 "cells": [
  {
   "cell_type": "markdown",
   "id": "cb079705",
   "metadata": {},
   "source": [
    "# Desafio - Enviando um Email"
   ]
  },
  {
   "cell_type": "markdown",
   "id": "8d22a96c",
   "metadata": {},
   "source": [
    "### Vocês precisam fazer o seguinte:\n",
    "\n",
    "* A partir da função, criem uma tool\n",
    "* Desenvolvam o argschema da tool, lembrando que todos os argumentos são strings.\n",
    "* Combinem a tool a um modelo de linguagem.\n",
    "* Enviem um email utilizando o modelo de linguagem para ‘aluno@asimov.academy’ com o título ‘Enviando um email com llm’ e uma mensagem bonita no corpo do texto."
   ]
  },
  {
   "cell_type": "code",
   "execution_count": 6,
   "id": "ebfdb2d7",
   "metadata": {},
   "outputs": [],
   "source": [
    "from dotenv import load_dotenv, find_dotenv\n",
    "_=load_dotenv(find_dotenv())"
   ]
  },
  {
   "cell_type": "code",
   "execution_count": 14,
   "id": "0de5d9f2",
   "metadata": {},
   "outputs": [],
   "source": [
    "from langchain.agents import tool\n",
    "from email.message import EmailMessage\n",
    "from pydantic import BaseModel, Field\n",
    "import smtplib\n",
    "import ssl\n",
    "\n",
    "class EnviaEmailArgs(BaseModel):\n",
    "    destinatario: str = Field(description='Destinatário do E-mail')\n",
    "    titulo: str = Field(description='Título do E-mail, deve ser breve e intuitivo')\n",
    "    corpo: str = Field(description='Corpo do E-mail. Deve ser breve, formal e abordando o assunto com clareza')\n",
    "\n",
    "@tool(args_schema=EnviaEmailArgs)\n",
    "def envia_email(destinatario: str, titulo: str, corpo: str):\n",
    "    \"\"\"Envia emails para um destinatário com um título e corpo\"\"\"\n",
    "    email_usuario = 'marissaborges2006@gmail.com'\n",
    "    senha_app = 'edzt hxgo rtvt wtsy'\n",
    "    message_email = EmailMessage()\n",
    "    message_email['From'] = email_usuario\n",
    "    message_email['To'] = destinatario\n",
    "    message_email['Subject'] = titulo\n",
    "\n",
    "    message_email.set_content(corpo)\n",
    "    safe = ssl.create_default_context()\n",
    "\n",
    "    with smtplib.SMTP_SSL('smtp.gmail.com', 465, context=safe) as smtp:\n",
    "        smtp.login(email_usuario, senha_app)\n",
    "        smtp.sendmail(email_usuario, destinatario, message_email.as_string())"
   ]
  },
  {
   "cell_type": "code",
   "execution_count": 21,
   "id": "d13b0ce4",
   "metadata": {},
   "outputs": [],
   "source": [
    "from langchain.prompts import ChatPromptTemplate as cpt\n",
    "from langchain_core.utils.function_calling import convert_to_openai_function\n",
    "from langchain_openai.chat_models import ChatOpenAI\n",
    "\n",
    "prompt = cpt.from_messages([\n",
    "    ('system', 'Você é um assistente amigável e formal de envio de e-mails'),\n",
    "    ('user', '{input}')\n",
    "])\n",
    "\n",
    "chat = ChatOpenAI(model='gpt-4o-mini')\n",
    "\n",
    "tools = [envia_email]\n",
    "tools_json = [convert_to_openai_function(tool) for tool in tools]\n",
    "tool_run = {tool.name: tool for tool in tools}\n",
    "\n",
    "chat_com_func = chat.bind(functions=tools_json)"
   ]
  },
  {
   "cell_type": "code",
   "execution_count": 22,
   "id": "382add8f",
   "metadata": {},
   "outputs": [],
   "source": [
    "from langchain.agents.output_parsers import OpenAIFunctionsAgentOutputParser\n",
    "from langchain.agents.agent import AgentFinish\n",
    "\n",
    "def roteamento(resultado):\n",
    "    if isinstance(resultado, AgentFinish):\n",
    "        return resultado.return_values['output']\n",
    "    else:\n",
    "        return tool_run[resultado.tool].run(resultado.tool_input)"
   ]
  },
  {
   "cell_type": "code",
   "execution_count": 23,
   "id": "293a95c4",
   "metadata": {},
   "outputs": [],
   "source": [
    "chain = prompt | chat_com_func | OpenAIFunctionsAgentOutputParser() | roteamento"
   ]
  },
  {
   "cell_type": "code",
   "execution_count": 26,
   "id": "f6a0daa3",
   "metadata": {},
   "outputs": [],
   "source": [
    "chain.invoke({'input': 'Envie um e-mail para aluno@asimov.academy com o título \"Enviando um email com llm\" e uma mensagem bonita no corpo do texto dizendo o quanto essa escola de python é incrível'})"
   ]
  }
 ],
 "metadata": {
  "kernelspec": {
   "display_name": "venv311",
   "language": "python",
   "name": "python3"
  },
  "language_info": {
   "codemirror_mode": {
    "name": "ipython",
    "version": 3
   },
   "file_extension": ".py",
   "mimetype": "text/x-python",
   "name": "python",
   "nbconvert_exporter": "python",
   "pygments_lexer": "ipython3",
   "version": "3.11.9"
  }
 },
 "nbformat": 4,
 "nbformat_minor": 5
}
