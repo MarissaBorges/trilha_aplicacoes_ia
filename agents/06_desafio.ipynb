{
 "cells": [
  {
   "cell_type": "markdown",
   "id": "6f082ba7",
   "metadata": {},
   "source": [
    "# Desafio - Extraindo informações de receitas para uma lista de compras"
   ]
  },
  {
   "cell_type": "markdown",
   "id": "44e69e5d",
   "metadata": {},
   "source": [
    "### A partir da receita, você deve extrair as seguintes informações:\n",
    "\n",
    "* ``Utensílios de Cozinha:`` Liste todos os utensílios que são mencionados na receita (por exemplo, liquidificador, tigela, batedeira).\n",
    "* ``Ingredientes:`` Liste todos os ingredientes necessários para preparar o bolo (por exemplo, cenoura, ovos, óleo, açúcar, farinha de trigo, fermento, manteiga, chocolate em pó, leite).\n",
    "* ``Salvar em CSV:`` Após extrair as informações, salve os dados de ingredientes em um arquivo CSV e os utensílios em outro."
   ]
  },
  {
   "cell_type": "code",
   "execution_count": 14,
   "id": "66fa42cf",
   "metadata": {},
   "outputs": [
    {
     "data": {
      "text/plain": [
       "{'utensilios': 'Liquidificador, Tigela, Batedeira, Colher, Forma para assar, Panela',\n",
       " 'ingredientes': 'Cenoura, Ovos, Óleo, Açúcar, Farinha de trigo, Fermento, Manteiga, Chocolate em pó, Leite'}"
      ]
     },
     "execution_count": 14,
     "metadata": {},
     "output_type": "execute_result"
    }
   ],
   "source": [
    "from langchain_core.utils.function_calling import convert_to_openai_function\n",
    "from pydantic import BaseModel, Field\n",
    "from langchain_openai import ChatOpenAI\n",
    "from langchain.prompts import ChatPromptTemplate as cpt\n",
    "from langchain.output_parsers.openai_functions import JsonOutputFunctionsParser\n",
    "\n",
    "from dotenv import load_dotenv, find_dotenv\n",
    "_= load_dotenv(find_dotenv())\n",
    "\n",
    "receita = '''Receita de Bolo de Cenoura\n",
    "Massa\n",
    "\n",
    "Em um liquidificador, adicione a cenoura, os ovos e o óleo, depois misture.\n",
    "Acrescente o açúcar e bata novamente por 5 minutos.\n",
    "Em uma tigela ou na batedeira, adicione a farinha de trigo e depois misture novamente.\n",
    "Acrescente o fermento e misture lentamente com uma colher.\n",
    "Asse em um forno preaquecido a 180° C por aproximadamente 40 minutos.\n",
    "Cobertura\n",
    "Despeje em uma tigela a manteiga, o chocolate em pó, o açúcar e o leite, depois misture.\n",
    "Leve a mistura ao fogo e continue misturando até obter uma consistência cremosa, depois despeje a calda por cima do bolo.\n",
    "'''\n",
    "\n",
    "class UtensiliosIngredientes(BaseModel):\n",
    "    '''Lista de utensílios e ingredientes necessários para fazer uma receita'''\n",
    "    utensilios: str = Field(description='Lista de utensílios de cozinha necessários para fazer a receita', examples=['Liquidificador', 'Tigela', 'Batedeira'])\n",
    "    ingredientes: str = Field(description='Lista de ingredientes necessários para fazer a receita', examples=['Farinha', 'Ovos', 'Leite'])\n",
    "\n",
    "tool_compras = convert_to_openai_function(UtensiliosIngredientes)\n",
    "\n",
    "prompt = cpt.from_messages([\n",
    "    ('system', 'Extraia dessa receita todos os utensílios de cozinha e ingredientes necessários'),\n",
    "    ('user', '{input}')\n",
    "])\n",
    "\n",
    "chat = ChatOpenAI(model='gpt-4o-mini')\n",
    "chat = chat.bind(functions=[tool_compras], function_call={'name': 'UtensiliosIngredientes'})\n",
    "\n",
    "chain = prompt | chat | JsonOutputFunctionsParser()\n",
    "\n",
    "chain.invoke({'input': receita})"
   ]
  }
 ],
 "metadata": {
  "kernelspec": {
   "display_name": "venv311",
   "language": "python",
   "name": "python3"
  },
  "language_info": {
   "codemirror_mode": {
    "name": "ipython",
    "version": 3
   },
   "file_extension": ".py",
   "mimetype": "text/x-python",
   "name": "python",
   "nbconvert_exporter": "python",
   "pygments_lexer": "ipython3",
   "version": "3.11.9"
  }
 },
 "nbformat": 4,
 "nbformat_minor": 5
}
