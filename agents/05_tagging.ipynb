{
 "cells": [
  {
   "cell_type": "markdown",
   "metadata": {},
   "source": [
    "# Tagging - Interpretando dados com funções\n",
    "\n",
    "Uma das principais aplicações das funções externas por desenvolvedores não é exatamente na utilização dessas funções e sim, na utilização desta sintaxe e estruturação de dados gerado pela API da OpenAI para a categorização e estruturação de dados em texto. Daremos um exemplo aqui ao categorizanto sentimentos de falas."
   ]
  },
  {
   "cell_type": "code",
   "execution_count": 6,
   "metadata": {},
   "outputs": [
    {
     "data": {
      "text/plain": [
       "{'name': 'Sentimento',\n",
       " 'description': 'Define o sentimento e a língua da mensagem enviada',\n",
       " 'parameters': {'properties': {'sentimento': {'description': 'Sentimento da mensagem. Deve ser \"positivo\", \"negativo\" ou \"não definido\"',\n",
       "    'type': 'string'},\n",
       "   'lingua': {'description': 'Língua que a mensagem foi escrita. Deve estar no formato ISO 639-1',\n",
       "    'type': 'string'}},\n",
       "  'required': ['sentimento', 'lingua'],\n",
       "  'type': 'object'}}"
      ]
     },
     "execution_count": 6,
     "metadata": {},
     "output_type": "execute_result"
    }
   ],
   "source": [
    "from pydantic import BaseModel, Field\n",
    "from langchain_core.utils.function_calling import convert_to_openai_function\n",
    "\n",
    "class Sentimento(BaseModel):\n",
    "    '''Define o sentimento e a língua da mensagem enviada'''\n",
    "    sentimento: str = Field(description='Sentimento da mensagem. Deve ser \"positivo\", \"negativo\" ou \"não definido\"')\n",
    "    lingua: str = Field(description='Língua que a mensagem foi escrita. Deve estar no formato ISO 639-1')\n",
    "\n",
    "tool_sentimento = convert_to_openai_function(Sentimento)\n",
    "tool_sentimento"
   ]
  },
  {
   "cell_type": "code",
   "execution_count": 7,
   "metadata": {},
   "outputs": [],
   "source": [
    "texto = 'Eu gosto muito de massa aos quatro queijos'"
   ]
  },
  {
   "cell_type": "code",
   "execution_count": 10,
   "metadata": {},
   "outputs": [],
   "source": [
    "from langchain.prompts import ChatPromptTemplate as cpt\n",
    "from langchain_openai.chat_models import ChatOpenAI\n",
    "from dotenv import load_dotenv, find_dotenv\n",
    "\n",
    "_=load_dotenv(find_dotenv())\n",
    "\n",
    "prompt = cpt.from_messages([    \n",
    "        ('system', 'Pense com cuidado ao categorizar o texto conforme as instruções'),\n",
    "        ('user', '{input}')\n",
    "    ])\n",
    "\n",
    "chat = ChatOpenAI(model='gpt-4o-mini')\n",
    "\n",
    "chain = prompt | chat.bind(functions=[tool_sentimento], function_call={'name': 'Sentimento'})"
   ]
  },
  {
   "cell_type": "code",
   "execution_count": 14,
   "metadata": {},
   "outputs": [
    {
     "data": {
      "text/plain": [
       "AIMessage(content='', additional_kwargs={'function_call': {'arguments': '{\"sentimento\":\"positivo\",\"lingua\":\"pt\"}', 'name': 'Sentimento'}, 'refusal': None}, response_metadata={'token_usage': {'completion_tokens': 11, 'prompt_tokens': 122, 'total_tokens': 133, 'completion_tokens_details': {'accepted_prediction_tokens': 0, 'audio_tokens': 0, 'reasoning_tokens': 0, 'rejected_prediction_tokens': 0}, 'prompt_tokens_details': {'audio_tokens': 0, 'cached_tokens': 0}}, 'model_name': 'gpt-4o-mini-2024-07-18', 'system_fingerprint': 'fp_34a54ae93c', 'finish_reason': 'stop', 'logprobs': None}, id='run-ae51e9b7-ff32-43ed-a085-296c5bcffcdf-0', usage_metadata={'input_tokens': 122, 'output_tokens': 11, 'total_tokens': 133, 'input_token_details': {'audio': 0, 'cache_read': 0}, 'output_token_details': {'audio': 0, 'reasoning': 0}})"
      ]
     },
     "execution_count": 14,
     "metadata": {},
     "output_type": "execute_result"
    }
   ],
   "source": [
    "chain.invoke({'input':'Eu gosto muito de Laranjas'})"
   ]
  },
  {
   "cell_type": "code",
   "execution_count": 15,
   "metadata": {},
   "outputs": [
    {
     "data": {
      "text/plain": [
       "AIMessage(content='', additional_kwargs={'function_call': {'arguments': '{\"sentimento\":\"negativo\",\"lingua\":\"en\"}', 'name': 'Sentimento'}, 'refusal': None}, response_metadata={'token_usage': {'completion_tokens': 12, 'prompt_tokens': 120, 'total_tokens': 132, 'completion_tokens_details': {'accepted_prediction_tokens': 0, 'audio_tokens': 0, 'reasoning_tokens': 0, 'rejected_prediction_tokens': 0}, 'prompt_tokens_details': {'audio_tokens': 0, 'cached_tokens': 0}}, 'model_name': 'gpt-4o-mini-2024-07-18', 'system_fingerprint': 'fp_34a54ae93c', 'finish_reason': 'stop', 'logprobs': None}, id='run-6e07dca0-ba4c-4faa-9e14-62d61001d646-0', usage_metadata={'input_tokens': 120, 'output_tokens': 12, 'total_tokens': 132, 'input_token_details': {'audio': 0, 'cache_read': 0}, 'output_token_details': {'audio': 0, 'reasoning': 0}})"
      ]
     },
     "execution_count": 15,
     "metadata": {},
     "output_type": "execute_result"
    }
   ],
   "source": [
    "chain.invoke({'input': 'I dont like this place'})"
   ]
  },
  {
   "cell_type": "markdown",
   "metadata": {},
   "source": [
    "## Parseando a saída para obtermos apenas o que interessa\n",
    "\n",
    "Podemos utilizar o JsonOutputFunctionsParser para obtermos como resultado final da nossa chain apenas o que nos interessa, que é o dicionário com as tags do conteúdo."
   ]
  },
  {
   "cell_type": "code",
   "execution_count": 18,
   "metadata": {},
   "outputs": [
    {
     "data": {
      "text/plain": [
       "{'sentimento': 'positivo', 'lingua': 'pt'}"
      ]
     },
     "execution_count": 18,
     "metadata": {},
     "output_type": "execute_result"
    }
   ],
   "source": [
    "from langchain.output_parsers.openai_functions import JsonOutputFunctionsParser\n",
    "\n",
    "chain = prompt | chat.bind(functions=[tool_sentimento], function_call={'name': 'Sentimento'}) | JsonOutputFunctionsParser()\n",
    "\n",
    "chain.invoke({'input': 'Eu gosto muito de pizza'})"
   ]
  },
  {
   "cell_type": "code",
   "execution_count": 19,
   "metadata": {},
   "outputs": [
    {
     "data": {
      "text/plain": [
       "{'sentimento': 'positivo', 'lingua': 'en'}"
      ]
     },
     "execution_count": 19,
     "metadata": {},
     "output_type": "execute_result"
    }
   ],
   "source": [
    "chain.invoke({'input': 'I love my girlfriend'})"
   ]
  },
  {
   "cell_type": "markdown",
   "metadata": {},
   "source": [
    "## Um exemplo mais interessante\n",
    "\n",
    "Indo para um exemplo um pouco mais complexo. Digamos que temos um chatbot e queremos fazer um roteamento para os setores de interesse, no nosso caso atendimento_cliente, duvidas_alunos, vendas, spam. A primeira etapa é criar um modelo que entenda a solicitação do cliente e direcione para o setor certo. Nas próximas etapas o atendimento pode ser continuado por pessoas ou por agentes especializados para as tarefas do setor.\n",
    "Retiramos as seguintes mensagens de email recebidos pela nossa equipe de atendimento e vamos tentar criar um direcionamento para elas:"
   ]
  },
  {
   "cell_type": "code",
   "execution_count": 21,
   "metadata": {},
   "outputs": [],
   "source": [
    "duvidas = [\n",
    "    'Bom dia, gostaria de saber se há um certificado final para cada trilha ou se os certificados são somente para os cursos e projetos? Obrigado!',\n",
    "    'In Etsy, Amazon, eBay, Shopify https://pint77.com Pinterest+SEO +II = high sales results',\n",
    "    'Boa tarde, estou iniciando hoje e estou perdido. Tenho vários objetivos. Não sei nada programação, exceto que utilizo o Power automate desktop da Microsoft. Quero aprender tudo na plataforma que se relacione ao Trading de criptomoedas. Quero automatizar Tradings, fazer o sistema reconhecer padrões, comprar e vender segundo critérios que eu defina, etc. Também tenho objetivos de aprender o máximo para utilizar em automações no trabalho também, que envolve a área jurídica e trabalho em processos. Como sou fã de eletrônica e tenho cursos na área, também queria aprender o que precisa para automatizacões diversas. Existe algum curso ou trilha que me prepare com base para todas essas áreas ao mesmo tempo e a partir dele eu aprenda isoladamente aquilo que seria exigido para aplicar aos meus projetos?',\n",
    "    'Bom dia, Havia pedido cancelamento de minha mensalidade no mes 2 e continuaram cobrando. Peço cancelamento da assinatura. Peço por gentileza, para efetivarem o cancelamento da assomatura e pagamento.',\n",
    "    'Bom dia. Não estou conseguindo tirar os certificados dos cursos que concluí. Por exemplo, já consegui 100% no python starter, porém, não consigo tirar o certificado. Como faço?',\n",
    "    'Bom dia. Não enconte no site o preço de um curso avulso. SAberiam me informar?'\n",
    "    ]"
   ]
  },
  {
   "cell_type": "code",
   "execution_count": 22,
   "metadata": {},
   "outputs": [],
   "source": [
    "from enum import Enum\n",
    "from pydantic import BaseModel, Field\n",
    "\n",
    "class SetorEnum(str, Enum):\n",
    "    atendimento_cliente = 'atendimento_cliente'\n",
    "    duvidas_aluno = 'duvidas_aluno'\n",
    "    vendas = 'vendas'\n",
    "    spam = 'spam'\n",
    "\n",
    "class DirecionaSetorResponsavel(BaseModel):\n",
    "    '''Direciona a dúvida de um cliente ou aluno da escola de programação Asimov para o setor responsável'''\n",
    "    setor : SetorEnum"
   ]
  },
  {
   "cell_type": "code",
   "execution_count": 27,
   "metadata": {},
   "outputs": [],
   "source": [
    "from dotenv import load_dotenv, find_dotenv\n",
    "from langchain_core.utils.function_calling import convert_to_openai_function\n",
    "from langchain_openai.chat_models import ChatOpenAI\n",
    "from langchain.prompts import ChatPromptTemplate as cpt\n",
    "from langchain.output_parsers.openai_functions import JsonOutputFunctionsParser\n",
    "_=load_dotenv(find_dotenv())\n",
    "\n",
    "tool_setor = convert_to_openai_function(DirecionaSetorResponsavel)\n",
    "\n",
    "prompt = cpt.from_messages([\n",
    "    ('system', 'Pense com cuidado ao categorizar o texto conforme as instruções'),\n",
    "    ('user', '{input}')\n",
    "])\n",
    "\n",
    "chat = ChatOpenAI(model='gpt-4o-mini')\n",
    "chat_func = chat.bind(functions=[tool_setor], function_call={'name': 'DirecionaSetorResponsavel'})\n",
    "\n",
    "chain = prompt | chat_func | JsonOutputFunctionsParser()"
   ]
  },
  {
   "cell_type": "code",
   "execution_count": 29,
   "metadata": {},
   "outputs": [
    {
     "name": "stdout",
     "output_type": "stream",
     "text": [
      "Dúvida  Bom dia, gostaria de saber se há um certificado final para cada trilha ou se os certificados são somente para os cursos e projetos? Obrigado!\n",
      "Resposta  {'setor': 'duvidas_aluno'}\n"
     ]
    }
   ],
   "source": [
    "duvida = duvidas[0]\n",
    "resposta = chain.invoke({'input': duvida})\n",
    "print('Dúvida ', duvida)\n",
    "print('Resposta ', resposta)"
   ]
  },
  {
   "cell_type": "code",
   "execution_count": 32,
   "metadata": {},
   "outputs": [
    {
     "name": "stdout",
     "output_type": "stream",
     "text": [
      "Dúvida  Bom dia. Não enconte no site o preço de um curso avulso. SAberiam me informar?\n",
      "Resposta  {'setor': 'vendas'}\n"
     ]
    }
   ],
   "source": [
    "duvida = duvidas[5]\n",
    "resposta = chain.invoke({'input': duvida})\n",
    "print('Dúvida ', duvida)\n",
    "print('Resposta ', resposta)"
   ]
  },
  {
   "cell_type": "markdown",
   "metadata": {},
   "source": [
    "Neste caso, gostaríamos que a dúvida fosse direcionada para vendas. Podemos melhorar nosso prompt para auemntar a chance do modelo responder como gostaríamos:"
   ]
  },
  {
   "cell_type": "code",
   "execution_count": null,
   "metadata": {},
   "outputs": [],
   "source": [
    "system_message = '''Pense com cuidado ao categorizar o texto conforme as instruções.\n",
    "Questões relacionadas a dúvidas de preço, sobre o produto, como funciona devem ser direciodas para \"vendas\".\n",
    "Questões relacionadas a conta, acesso a plataforma, a cancelamento e renovação de assinatura para devem ser direciodas para \"atendimento_cliente\".\n",
    "Questões relacionadas a dúvidas técnicas de programação, conteúdos da plataforma ou tecnologias na área da programação devem ser direciodas para \"duvidas_alunos\".\n",
    "Mensagens suspeitas, em outras línguas que não português, contendo links devem ser direciodas para \"spam\".\n",
    "'''\n"
   ]
  },
  {
   "cell_type": "code",
   "execution_count": 33,
   "metadata": {},
   "outputs": [],
   "source": [
    "from dotenv import load_dotenv, find_dotenv\n",
    "from langchain_core.utils.function_calling import convert_to_openai_function\n",
    "from langchain_openai.chat_models import ChatOpenAI\n",
    "from langchain.prompts import ChatPromptTemplate as cpt\n",
    "from langchain.output_parsers.openai_functions import JsonOutputFunctionsParser\n",
    "_=load_dotenv(find_dotenv())\n",
    "\n",
    "tool_setor = convert_to_openai_function(DirecionaSetorResponsavel)\n",
    "\n",
    "prompt = cpt.from_messages([\n",
    "    ('system', '''Pense com cuidado ao categorizar o texto conforme as instruções.\n",
    "    Questões relacionadas a dúvidas de preço, sobre o produto, como funciona devem ser direciodas para \"vendas\".\n",
    "    Questões relacionadas a conta, acesso a plataforma, a cancelamento e renovação de assinatura para devem ser direciodas para \"atendimento_cliente\".\n",
    "    Questões relacionadas a dúvidas técnicas de programação, conteúdos da plataforma ou tecnologias na área da programação devem ser direciodas para \"duvidas_alunos\".\n",
    "    Mensagens suspeitas, em outras línguas que não português, contendo links devem ser direciodas para \"spam\".\n",
    "    '''),\n",
    "    ('user', '{input}')\n",
    "])\n",
    "\n",
    "chat = ChatOpenAI(model='gpt-4o-mini')\n",
    "chat_func = chat.bind(functions=[tool_setor], function_call={'name': 'DirecionaSetorResponsavel'})\n",
    "\n",
    "chain = prompt | chat_func | JsonOutputFunctionsParser()"
   ]
  },
  {
   "cell_type": "code",
   "execution_count": 34,
   "metadata": {},
   "outputs": [
    {
     "name": "stdout",
     "output_type": "stream",
     "text": [
      "Dúvida  Bom dia. Não enconte no site o preço de um curso avulso. SAberiam me informar?\n",
      "Resposta  {'setor': 'vendas'}\n"
     ]
    }
   ],
   "source": [
    "duvida = duvidas[5]\n",
    "resposta = chain.invoke({'input': duvida})\n",
    "print('Dúvida ', duvida)\n",
    "print('Resposta ', resposta)"
   ]
  }
 ],
 "metadata": {
  "kernelspec": {
   "display_name": "venv311",
   "language": "python",
   "name": "python3"
  },
  "language_info": {
   "codemirror_mode": {
    "name": "ipython",
    "version": 3
   },
   "file_extension": ".py",
   "mimetype": "text/x-python",
   "name": "python",
   "nbconvert_exporter": "python",
   "pygments_lexer": "ipython3",
   "version": "3.11.9"
  }
 },
 "nbformat": 4,
 "nbformat_minor": 2
}
