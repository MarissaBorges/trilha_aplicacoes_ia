{
 "cells": [
  {
   "cell_type": "markdown",
   "metadata": {},
   "source": [
    "# Exemplos de tools funcionais\n",
    "\n",
    "Agora vamos abordar a criação de duas tools com utilidade real para você entender como seria todo o processo."
   ]
  },
  {
   "cell_type": "markdown",
   "metadata": {},
   "source": [
    "## Criando um tool de busca de temperatura\n",
    "\n",
    "https://open-meteo.com/en/docs"
   ]
  },
  {
   "cell_type": "code",
   "execution_count": 15,
   "metadata": {},
   "outputs": [],
   "source": [
    "from dotenv import load_dotenv, find_dotenv\n",
    "_=load_dotenv(find_dotenv())"
   ]
  },
  {
   "cell_type": "code",
   "execution_count": 16,
   "metadata": {},
   "outputs": [],
   "source": [
    "import requests\n",
    "import datetime\n",
    "from langchain.agents import tool\n",
    "from pydantic import BaseModel, Field\n",
    "\n",
    "class RetornaTempArgs(BaseModel):\n",
    "    latitude: float = Field(description='Latitude da localidade que buscamos a temperatura')\n",
    "    longitude: float = Field(description='Longitude da localidade que buscamos a temperatura')\n",
    "\n",
    "@tool\n",
    "def retorna_temperatura_atual(latitude: float, longitude: float):\n",
    "    \"\"\"Retorna a temperatura atual dada uma determinada coordenada\"\"\"\n",
    "    URL = 'https://api.open-meteo.com/v1/forecast'\n",
    "\n",
    "    params = {\n",
    "        'latitude': latitude,\n",
    "        'longitude': longitude,\n",
    "        'hourly': 'temperature_2m',\n",
    "        'forecast_days': 1,\n",
    "    }\n",
    "\n",
    "    resposta = requests.get(URL, params=params)\n",
    "    if resposta.status_code == 200:\n",
    "        resultado = resposta.json()\n",
    "        hora_agora = datetime.datetime.now(datetime.UTC).replace(tzinfo=None)\n",
    "        lista_horas = [datetime.datetime.fromisoformat(temp_str) for temp_str in resultado['hourly']['time']]\n",
    "        index_mais_prox = min(range(len(lista_horas)), key=lambda x: abs(lista_horas[x] - hora_agora))\n",
    "        temp_atual = resultado['hourly']['temperature_2m'][index_mais_prox]\n",
    "        return temp_atual\n",
    "    else:\n",
    "        raise Exception(f'Request para a API {URL} falhou: {resposta.status_code}')"
   ]
  },
  {
   "cell_type": "code",
   "execution_count": 17,
   "metadata": {},
   "outputs": [
    {
     "data": {
      "text/plain": [
       "StructuredTool(name='retorna_temperatura_atual', description='Retorna a temperatura atual dada uma determinada coordenada', args_schema=<class 'langchain_core.utils.pydantic.retorna_temperatura_atual'>, func=<function retorna_temperatura_atual at 0x000001AFD43FDA80>)"
      ]
     },
     "execution_count": 17,
     "metadata": {},
     "output_type": "execute_result"
    }
   ],
   "source": [
    "retorna_temperatura_atual"
   ]
  },
  {
   "cell_type": "code",
   "execution_count": 18,
   "metadata": {},
   "outputs": [
    {
     "data": {
      "text/plain": [
       "{'latitude': {'title': 'Latitude', 'type': 'number'},\n",
       " 'longitude': {'title': 'Longitude', 'type': 'number'}}"
      ]
     },
     "execution_count": 18,
     "metadata": {},
     "output_type": "execute_result"
    }
   ],
   "source": [
    "retorna_temperatura_atual.args"
   ]
  },
  {
   "cell_type": "markdown",
   "metadata": {},
   "source": [
    "### Testando a tool"
   ]
  },
  {
   "cell_type": "code",
   "execution_count": 19,
   "metadata": {},
   "outputs": [
    {
     "data": {
      "text/plain": [
       "24.2"
      ]
     },
     "execution_count": 19,
     "metadata": {},
     "output_type": "execute_result"
    }
   ],
   "source": [
    "retorna_temperatura_atual.invoke({'latitude': -18.64, 'longitude': -48.17})"
   ]
  },
  {
   "cell_type": "markdown",
   "metadata": {},
   "source": [
    "## Criando um tool de busca no wikipedia"
   ]
  },
  {
   "cell_type": "code",
   "execution_count": 20,
   "metadata": {},
   "outputs": [],
   "source": [
    "import wikipedia\n",
    "wikipedia.set_lang('pt')\n",
    "\n",
    "@tool\n",
    "def busca_wikipedia(query: str):\n",
    "    \"\"\"Faz uma busca na Wikipédia e retorna resumos de páginas para a query\"\"\"\n",
    "    titulos_paginas = wikipedia.search(query)\n",
    "    resumos = []\n",
    "    for titulo in titulos_paginas[:3]:\n",
    "        try:\n",
    "            wiki_page = wikipedia.page(title=titulo, auto_suggest=True)\n",
    "            resumos.append(f\"Título da página: {titulo}\\nResumo: {wiki_page.summary}\")\n",
    "        except:\n",
    "            pass\n",
    "    if not resumos:\n",
    "        return \"Busca não teve retorno\"\n",
    "    else:\n",
    "        return '\\n\\n'.join(resumos)\n"
   ]
  },
  {
   "cell_type": "code",
   "execution_count": 21,
   "metadata": {},
   "outputs": [
    {
     "data": {
      "text/plain": [
       "'Título da página: God of War\\nResumo: God of War é uma série de jogos eletrônicos de ação-aventura e hack and slash, criada por David Jaffe da Santa Monica Studio da Sony, e publicado primeiramente para os consoles PlayStation. Iniciada em 2005, exclusivamente no console PlayStation 2 (PS2), a série tornou-se carro-chefe para a marca PlayStation, consistindo em nove jogos lançados, e em várias plataformas até o momento. Baseada em mitologias distintas, o enredo principal da série segue Kratos, um guerreiro espartano que foi levado a matar sua família por seu antigo mestre, chamado de deus da guerra Ares. Isso desencadeia uma série de eventos que levaram às guerras contra os panteões mitológicos. A era da mitologia grega da série, mostra Kratos seguindo um caminho de vingança devido às maquinações dos deuses do Olimpo, enquanto a era da mitologia nórdica, que apresenta seu filho Atreus como um protagonista secundário, e mostra um Kratos diferente, cansado e mais velho em um caminho de redenção, o que inadvertidamente coloca os dois em conflito com os deuses nórdicos e em busca do impedimento do Ragnarök.\\nA Santa Monica desenvolveu todos os títulos principais da franquia, enquanto a Ready at Dawn e Javaground/Sony Online Entertainment-Los Angeles (SOE-LA) desenvolveram os três jogos paralelos da série. A Sony Interactive Entertainment (SIE) publicou todos os jogos, exceto o título de telefone celular, que foi publicado pela Sony Pictures Digital. Os primeiros sete jogos constituem a era grega da franquia. God of War (2005), God of War II (2007) e God of War III (2010) compõem sua trilogia principal; os dois primeiros foram lançados no PlayStation 2 (PS2) e o terceiro no PlayStation 3 (PS3). Uma pré-sequência, Ascension (2013), também foi lançada para PlayStation 3 (PS3). Outros jogos incluem Chains of Olympus (2008) e Ghost of Sparta (2010) para PlayStation Portable (PSP), e Betrayal (2007) para telefones celulares que suportam a plataforma Java Platform, Micro Edition (Java ME). A era nórdica da série começou com o título de lançamento em 2018, também intitulado God of War e lançado inicialmente para o PlayStation 4 (PS4). Foi acompanhado por uma pequena pré-sequência, A Call from the Wilds (2018), um jogo baseado em texto através do Facebook Messenger. Uma sequência do jogo intitulada God of War Ragnarök, foi lançada em 2022 para PlayStation 4 (PS4) e PlayStation 5 (PS5), concluindo assim, a era nórdica.\\nOs títulos da série foram aclamados como alguns dos melhores jogos de todos os tempos. A franquia recebeu diversos prêmios, incluindo vários reconhecimentos de Jogo do Ano para os títulos de 2005 e 2018. Alguns jogos também foram remasterizados para plataformas mais recentes da PlayStation. Até novembro de 2020, a franquia vendeu mais de 51 milhões de unidades em todo o mundo. As fortes vendas e o suporte da série levaram à expansão da franquia para outras mídias, como três séries de quadrinhos e três romances. Uma adaptação cinematográfica do título original estava em desenvolvimento, mas acabou sendo cancelada. Dentre as mercadorias, incluem artes, roupas, brinquedos e réplicas de adereços, bem como trilhas sonoras de jogos, incluindo um álbum de heavy metal, intitulado Blood & Metal (2010), que apresenta músicas originais de várias bandas inspiradas na franquia.\\n\\nTítulo da página: God of War II\\nResumo: God of War II é um jogo eletrônico de ação-aventura e hack and slash desenvolvido pela Santa Monica Studio e publicado pela Sony Computer Entertainment (SCE). Lançado pela primeira vez em 13 de março de 2007 para PlayStation 2, é o segundo jogo da franquia God of War e o sexto em ordem cronológica, sendo a continuação de God of War (2005). O jogo é vagamente baseado na mitologia grega e ambientado na Grécia Antiga, com a vingança sendo o tema central. O personagem do jogador é o protagonista Kratos, o novo deus da guerra que tomou o lugar de Ares depois de ter o matado. Kratos é traído por Zeus, o rei dos deuses do Olimpo, que tira dele sua divindade e o mata. Lentamente arrastado para o submundo, ele é salvo pela titã Gaia, que o instrui a encontrar as Irmãs do Destino, pois elas possuem o poder para fazer Kratos voltar no tempo, impedir a traição de Zeus e consequentemente sua morte.\\nA jogabilidade é muito semelhante ao título anterior, centrando-se no combate baseado em combos, conseguido através da arma principal do jogador — as Lâminas de Atena (Athena\\'s Blades, no original) — e armas secundárias adquiridas ao longo do jogo. Ele apresenta quick time events que exigem que o jogador pressione os botões de ação do controle em uma sequência cronometrada para derrotar inimigos e chefes mais fortes. O jogador pode usar até quatro ataques mágicos e uma habilidade de aprimoramento de poder como opções alternativas de combate. O jogo também apresenta quebra-cabeças e elementos de plataforma. Além de sua jogabilidade muito semelhante, God of War II apresenta quebra-cabeças aprimorados e quatro vezes mais chefes do que o original.\\nGod of War II foi aclamado como um dos melhores jogos de ação para o PlayStation 2, e foi o Jogo de PlayStation do Ano no Golden Joystick Awards 2007. Em 2009, a IGN listou-o como o segundo melhor jogo de PlayStation 2 de todos os tempos, e tanto a IGN como a GameSpot o consideram como a \"canção do cisne\" da era do PlayStation 2. Em 2012, a revista Complex nomeou God of War II como o melhor jogo de PlayStation 2 de todos os tempos. Foi o jogo mais vendido no Reino Unido durante a semana do seu lançamento e vendeu 4,24 milhões de cópias em todo o mundo, tornando-se o décimo quarto jogo mais vendido do PlayStation 2 de todos os tempos. God of War II, juntamente com God of War (2005), foram remasterizados e lançados em 17 de novembro de 2009 como parte de God of War Collection para PlayStation 3. A versão remasterizada foi relançada em 28 de agosto de 2012 como parte de God of War Saga, também para PlayStation 3. Uma romantização do jogo foi publicada em fevereiro de 2013 e sua sequência, God of War III, foi lançada em março de 2010 para PlayStation 3.\\n\\nTítulo da página: Kratos (God of War)\\nResumo: Kratos é um personagem de jogos eletrônicos da franquia God of War, da Santa Monica Studio, que é baseado nas mitologias grega e nórdica. Kratos, também conhecido como \"Fantasma de Esparta\", apareceu pela primeira vez no jogo eletrônico de 2005, God of War, que levou ao desenvolvimento de mais oito jogos com o personagem como protagonista. Kratos também aparece como protagonista em quadrinhos e romances de God of War. O personagem foi dublado originalmente por Terrence C. Carson de 2005 à 2013, com Christopher Judge assumindo o lugar em God of War (2018). Antony Del Rio expressou e deu voz ao personagem quando criança em God of War: Ghost of Sparta. O personagem é dublado e expressado em português do Brasil por Ricardo Juarez em God of War: Ascension (2013), God of War (2018) e God of War Ragnarök (2022); e em português europeu por Ricardo Carriço em God of War III (2010), Ascension (2013), God of War (2018) e Ragnarök (2022).\\nAo longo da era grega da série, Kratos embarca em várias aventuras na tentativa de evitar o desastre ou mudar seu destino. Ele geralmente era retratado como alheio a tudo e de natureza arrogante. Muitas vezes ele se envolveu em atividades moralmente ambíguas e realizou atos de extrema violência. Como um guerreiro espartano, ele se tornou o \"Fantasma de Esparta\" depois de acidentalmente matar sua família devido aos truques de Ares. Mais tarde, ele vinga a morte de sua família e se torna o deus da guerra depois de matar Ares. Posteriormente é revelado que ele é um semideus, o filho de Zeus, que mais tarde traiu Kratos. A vingança era o tema central da era grega, e cada título fornecia informações adicionais sobre as origens de Kratos e suas relações com sua família e os deuses do Olimpo. Na era nórdica da série, Kratos dá uma reviravolta para o bem e encontra-se controlando sua raiva e aprendendo a ser verdadeiramente pai de seu filho, Atreus, enquanto combate contra monstros e deuses do reino nórdico, dos quais fazem inimigos, o que leva a dupla a tentar impedir o Ragnarök.\\nA franquia God of War é um título emblemático para a marca PlayStation e Kratos é um dos seus personagens mais populares. O personagem foi bem recebido pelos críticos e se tornou um ícone dos videogames, um recém-chegado entre personagens de franquias mais estabelecidas, como Mario, Link, Sonic the Hedgehog e Lara Croft. O personagem está também associado a outros produtos e teve várias aparições em jogos de PlayStation fora da série God of War.'"
      ]
     },
     "execution_count": 21,
     "metadata": {},
     "output_type": "execute_result"
    }
   ],
   "source": [
    "busca_wikipedia.invoke({'query': 'God of War'})"
   ]
  },
  {
   "cell_type": "markdown",
   "metadata": {},
   "source": [
    "### Testando a tool"
   ]
  },
  {
   "cell_type": "code",
   "execution_count": 22,
   "metadata": {},
   "outputs": [],
   "source": [
    "from langchain.prompts import ChatPromptTemplate as cpt\n",
    "from langchain_openai.chat_models import ChatOpenAI\n",
    "from langchain_core.utils.function_calling import convert_to_openai_function\n",
    "\n",
    "prompt = cpt.from_messages([\n",
    "    ('system', 'Você é um assitente amigável chamado Isaac'),\n",
    "    ('user', '{input}')\n",
    "])\n",
    "\n",
    "chat = ChatOpenAI(model='gpt-4o-mini')\n",
    "\n",
    "tools = [convert_to_openai_function(busca_wikipedia), convert_to_openai_function(retorna_temperatura_atual)]\n",
    "chain = prompt | chat.bind(functions=tools)"
   ]
  },
  {
   "cell_type": "code",
   "execution_count": 23,
   "metadata": {},
   "outputs": [
    {
     "data": {
      "text/plain": [
       "AIMessage(content='Olá! Como posso ajudar você hoje?', additional_kwargs={'refusal': None}, response_metadata={'token_usage': {'completion_tokens': 9, 'prompt_tokens': 98, 'total_tokens': 107, 'completion_tokens_details': {'accepted_prediction_tokens': 0, 'audio_tokens': 0, 'reasoning_tokens': 0, 'rejected_prediction_tokens': 0}, 'prompt_tokens_details': {'audio_tokens': 0, 'cached_tokens': 0}}, 'model_name': 'gpt-4o-mini-2024-07-18', 'system_fingerprint': 'fp_34a54ae93c', 'finish_reason': 'stop', 'logprobs': None}, id='run-2ddc3dea-1939-4c0c-960d-ab55cf2a9e30-0', usage_metadata={'input_tokens': 98, 'output_tokens': 9, 'total_tokens': 107, 'input_token_details': {'audio': 0, 'cache_read': 0}, 'output_token_details': {'audio': 0, 'reasoning': 0}})"
      ]
     },
     "execution_count": 23,
     "metadata": {},
     "output_type": "execute_result"
    }
   ],
   "source": [
    "chain.invoke({'input': 'Olá'})"
   ]
  },
  {
   "cell_type": "code",
   "execution_count": null,
   "metadata": {},
   "outputs": [
    {
     "data": {
      "text/plain": [
       "AIMessage(content='', additional_kwargs={'function_call': {'arguments': '{\"latitude\":-18.1765,\"longitude\":-47.9381}', 'name': 'retorna_temperatura_atual'}, 'refusal': None}, response_metadata={'token_usage': {'completion_tokens': 32, 'prompt_tokens': 104, 'total_tokens': 136, 'completion_tokens_details': {'accepted_prediction_tokens': 0, 'audio_tokens': 0, 'reasoning_tokens': 0, 'rejected_prediction_tokens': 0}, 'prompt_tokens_details': {'audio_tokens': 0, 'cached_tokens': 0}}, 'model_name': 'gpt-4o-mini-2024-07-18', 'system_fingerprint': 'fp_34a54ae93c', 'finish_reason': 'function_call', 'logprobs': None}, id='run-bcf5fa53-045b-4a9a-b5dd-5bd714f0ff13-0', usage_metadata={'input_tokens': 104, 'output_tokens': 32, 'total_tokens': 136, 'input_token_details': {'audio': 0, 'cache_read': 0}, 'output_token_details': {'audio': 0, 'reasoning': 0}})"
      ]
     },
     "execution_count": 24,
     "metadata": {},
     "output_type": "execute_result"
    }
   ],
   "source": [
    "chain.invoke({'input': 'Qual a temperatura de Catalão Goiás?'})"
   ]
  },
  {
   "cell_type": "code",
   "execution_count": 25,
   "metadata": {},
   "outputs": [
    {
     "data": {
      "text/plain": [
       "AIMessage(content='', additional_kwargs={'function_call': {'arguments': '{\"query\":\"God of War\"}', 'name': 'busca_wikipedia'}, 'refusal': None}, response_metadata={'token_usage': {'completion_tokens': 18, 'prompt_tokens': 104, 'total_tokens': 122, 'completion_tokens_details': {'accepted_prediction_tokens': 0, 'audio_tokens': 0, 'reasoning_tokens': 0, 'rejected_prediction_tokens': 0}, 'prompt_tokens_details': {'audio_tokens': 0, 'cached_tokens': 0}}, 'model_name': 'gpt-4o-mini-2024-07-18', 'system_fingerprint': 'fp_34a54ae93c', 'finish_reason': 'function_call', 'logprobs': None}, id='run-4a519c00-b1f1-4fab-a251-5970b03e878c-0', usage_metadata={'input_tokens': 104, 'output_tokens': 18, 'total_tokens': 122, 'input_token_details': {'audio': 0, 'cache_read': 0}, 'output_token_details': {'audio': 0, 'reasoning': 0}})"
      ]
     },
     "execution_count": 25,
     "metadata": {},
     "output_type": "execute_result"
    }
   ],
   "source": [
    "chain.invoke({'input': 'O que é God of War?'})"
   ]
  }
 ],
 "metadata": {
  "kernelspec": {
   "display_name": "venv311",
   "language": "python",
   "name": "python3"
  },
  "language_info": {
   "codemirror_mode": {
    "name": "ipython",
    "version": 3
   },
   "file_extension": ".py",
   "mimetype": "text/x-python",
   "name": "python",
   "nbconvert_exporter": "python",
   "pygments_lexer": "ipython3",
   "version": "3.11.9"
  }
 },
 "nbformat": 4,
 "nbformat_minor": 2
}
