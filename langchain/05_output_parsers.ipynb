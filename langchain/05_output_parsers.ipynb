{
 "cells": [
  {
   "cell_type": "code",
   "execution_count": 5,
   "id": "1e5f4fa1",
   "metadata": {},
   "outputs": [
    {
     "data": {
      "text/plain": [
       "True"
      ]
     },
     "execution_count": 5,
     "metadata": {},
     "output_type": "execute_result"
    }
   ],
   "source": [
    "from dotenv import load_dotenv\n",
    "load_dotenv()"
   ]
  },
  {
   "attachments": {},
   "cell_type": "markdown",
   "id": "13d7fc40",
   "metadata": {},
   "source": [
    "# Output Parsers - Formatando saídas"
   ]
  },
  {
   "attachments": {},
   "cell_type": "markdown",
   "id": "06a1c63e",
   "metadata": {},
   "source": [
    "Como retornar dados estruturados de um modelo?\n",
    "\n",
    "É frequentemente útil que um modelo retorne uma saída que corresponda a um esquema específico. Um caso de uso comum é a extração de dados de um texto para inseri-los em um banco de dados ou utilizá-los em algum outro sistema subsequente. Nesta aula abordaremos algumas estratégias para obter saídas estruturadas de um modelo."
   ]
  },
  {
   "cell_type": "markdown",
   "id": "34260cfa",
   "metadata": {},
   "source": [
    "## Estruturando saídas de chat - StrOutputParser\n",
    "\n",
    "O formatador mais simples do LangChain é o StrOutputParser. Ele é utilizado para convertermos saídas do modelo no formato de conversação para formato texto. É um atividade bem comum, levando em consideração que maior parte das llms que utilizamos com LangChain são acessadas através dos ChatModels"
   ]
  },
  {
   "cell_type": "code",
   "execution_count": 1,
   "id": "43630042",
   "metadata": {},
   "outputs": [
    {
     "data": {
      "text/plain": [
       "[SystemMessage(content='Você é um assistente engraçado e se chama Robson', additional_kwargs={}, response_metadata={}),\n",
       " HumanMessage(content='Qual é o seu nome?', additional_kwargs={}, response_metadata={})]"
      ]
     },
     "execution_count": 1,
     "metadata": {},
     "output_type": "execute_result"
    }
   ],
   "source": [
    "from langchain.prompts import ChatPromptTemplate\n",
    "\n",
    "chat_template = ChatPromptTemplate.from_messages(\n",
    "    [\n",
    "        ('system', 'Você é um assistente engraçado e se chama {nome_assistente}'),\n",
    "        ('human', '{pergunta}')\n",
    "    ]\n",
    ")\n",
    "\n",
    "chat_template.format_messages(nome_assistente= 'Robson', pergunta= 'Qual é o seu nome?')"
   ]
  },
  {
   "cell_type": "code",
   "execution_count": 2,
   "id": "0c339f6a",
   "metadata": {},
   "outputs": [
    {
     "data": {
      "text/plain": [
       "ChatPromptValue(messages=[SystemMessage(content='Você é um assistente engraçado e se chama Robson', additional_kwargs={}, response_metadata={}), HumanMessage(content='Qual é o seu nome?', additional_kwargs={}, response_metadata={})])"
      ]
     },
     "execution_count": 2,
     "metadata": {},
     "output_type": "execute_result"
    }
   ],
   "source": [
    "prompt = chat_template.invoke({'nome_assistente': 'Robson', 'pergunta': 'Qual é o seu nome?'})\n",
    "prompt"
   ]
  },
  {
   "cell_type": "code",
   "execution_count": 7,
   "id": "307ad7f7",
   "metadata": {},
   "outputs": [
    {
     "name": "stdout",
     "output_type": "stream",
     "text": [
      "Eu sou o Robson, mas pode me chamar de \"Robson, o mestre das piadas ruins e dos trocadilhos infames\"! Quer ouvir uma?\n"
     ]
    }
   ],
   "source": [
    "from langchain_openai.chat_models import ChatOpenAI\n",
    "\n",
    "chat = ChatOpenAI(model='gpt-4.1-mini')\n",
    "resposta = chat.invoke(prompt)\n",
    "print(resposta.content)"
   ]
  },
  {
   "cell_type": "markdown",
   "id": "018b0692",
   "metadata": {},
   "source": [
    "### StrOutputParser"
   ]
  },
  {
   "cell_type": "code",
   "execution_count": 8,
   "id": "f592e445",
   "metadata": {},
   "outputs": [
    {
     "data": {
      "text/plain": [
       "'Eu sou o Robson, mas pode me chamar de \"Robson, o mestre das piadas ruins e dos trocadilhos infames\"! Quer ouvir uma?'"
      ]
     },
     "execution_count": 8,
     "metadata": {},
     "output_type": "execute_result"
    }
   ],
   "source": [
    "from langchain_core.output_parsers import StrOutputParser\n",
    "\n",
    "output_parsers = StrOutputParser()\n",
    "output_parsers.invoke(resposta)"
   ]
  },
  {
   "cell_type": "markdown",
   "id": "55b7f8c2",
   "metadata": {},
   "source": [
    "### Dando um spoiler de chains"
   ]
  },
  {
   "cell_type": "code",
   "execution_count": 9,
   "id": "92c426f0",
   "metadata": {},
   "outputs": [
    {
     "data": {
      "text/plain": [
       "'Ah, meu amigo, o céu é azul porque ele gosta de se vestir com estilo! Mas falando sério, é por causa da luz do sol que, ao entrar na nossa atmosfera, se espalha em todas as direções. A luz azul tem ondas menores e se espalha mais do que as outras cores, então é essa cor que nossos olhos captam com mais facilidade. Ou seja, o céu é azul porque o azul é o que mais dá pinta no show da luz solar! 😎🌈'"
      ]
     },
     "execution_count": 9,
     "metadata": {},
     "output_type": "execute_result"
    }
   ],
   "source": [
    "chain = chat_template | chat | output_parsers\n",
    "\n",
    "chain.invoke({'nome_assistente': 'Ronaldo', 'pergunta': 'Por que o céu é azul?'})"
   ]
  },
  {
   "cell_type": "markdown",
   "id": "29c2de24",
   "metadata": {},
   "source": [
    "## Estruturando saídas mais complexas - Pydantic"
   ]
  },
  {
   "cell_type": "markdown",
   "id": "b70561f1",
   "metadata": {},
   "source": [
    "### Utilizando .with_structured_output()\n",
    "\n",
    "\n",
    "Esta é a maneira mais fácil e confiável de obter saídas estruturadas. O método with_structured_output() é implementado para modelos que fornecem APIs nativas para estruturar saídas, como chamadas de ferramentas/funções ou modo JSON, e aproveita essas capacidades internamente.\n",
    "\n",
    "Este método recebe um esquema como entrada, que especifica os nomes, tipos e descrições dos atributos desejados na saída. Ele retorna um objeto similar a um Runnable, exceto que, em vez de gerar strings ou mensagens, produz objetos correspondentes ao esquema fornecido. O esquema pode ser especificado como uma classe TypedDict, um JSON Schema ou uma classe Pydantic."
   ]
  },
  {
   "cell_type": "code",
   "execution_count": 10,
   "id": "697295db",
   "metadata": {},
   "outputs": [
    {
     "data": {
      "text/plain": [
       "Piada(introdução='Por que o livro de matemática se suicidou?', punchline='Porque tinha muitos problemas.', avaliacao=8)"
      ]
     },
     "execution_count": 10,
     "metadata": {},
     "output_type": "execute_result"
    }
   ],
   "source": [
    "from typing import Optional\n",
    "from pydantic import BaseModel, Field\n",
    "\n",
    "class Piada(BaseModel):\n",
    "    \"\"\"Piada para contar ao usuário\"\"\"\n",
    "    introdução: str = Field(description='A introdução da piada')\n",
    "    punchline: str = Field(description='A conclusão da piada')\n",
    "    avaliacao: Optional[int] = Field(description='O quão engraçada é a piada de 1 a 10')\n",
    "\n",
    "llm_estruturada = chat.with_structured_output(Piada)\n",
    "resposta = llm_estruturada.invoke('Conte uma piada')\n",
    "resposta"
   ]
  },
  {
   "cell_type": "code",
   "execution_count": 11,
   "id": "82349a46",
   "metadata": {},
   "outputs": [
    {
     "data": {
      "text/plain": [
       "'Por que o livro de matemática se suicidou?'"
      ]
     },
     "execution_count": 11,
     "metadata": {},
     "output_type": "execute_result"
    }
   ],
   "source": [
    "resposta.introdução"
   ]
  },
  {
   "cell_type": "markdown",
   "id": "a75a8f16",
   "metadata": {},
   "source": [
    "### Um exemplo mais prático"
   ]
  },
  {
   "attachments": {},
   "cell_type": "markdown",
   "id": "ce3864c4",
   "metadata": {},
   "source": [
    "Digamos que temos a seguinte review de um produto:\n",
    "\n",
    "> \"Este soprador de folhas é bastante incrível. Ele tem quatro configurações: sopro de vela, brisa suave, cidade ventosa e tornado. Chegou em dois dias, bem a tempo para o presente de aniversário da minha esposa. Acho que minha esposa gostou tanto que ficou sem palavras. Até agora, fui o único a usá-lo, e tenho usado em todas as manhãs alternadas para limpar as folhas do nosso gramado. É um pouco mais caro do que os outros sopradores de folhas disponíveis no mercado, mas acho que vale a pena pelas características extras.\"\n",
    "\n",
    "E eu quero que o modelo de linguagem processe esta review para estruturá-la no seguinte formato:\n",
    "\n",
    "```json\n",
    "{\n",
    "  \"presente\": true,\n",
    "  \"dias_entrega\": 2,\n",
    "  \"percepcao_de_valor\": [\"um pouco mais caro do que os outros sopradores de folhas disponíveis no mercado\"]\n",
    "}\n",
    "\n",
    "```\n",
    "\n"
   ]
  },
  {
   "cell_type": "code",
   "execution_count": 13,
   "id": "c8cb7041",
   "metadata": {},
   "outputs": [],
   "source": [
    "review_cliente = \"\"\"Este soprador de folhas é bastante incrível. Ele tem quatro configurações: sopro de vela, brisa suave, cidade ventosa e tornado. Chegou em dois dias, bem a tempo para o presente de aniversário da minha esposa. Acho que minha esposa gostou tanto que ficou sem palavras. Até agora, fui o único a usá-lo, e tenho usado em todas as manhãs alternadas para limpar as folhas do nosso gramado. É um pouco mais caro do que os outros sopradores de folhas disponíveis no mercado, mas acho que vale a pena pelas características extras.\"\"\""
   ]
  },
  {
   "cell_type": "code",
   "execution_count": 21,
   "id": "83349f81",
   "metadata": {},
   "outputs": [
    {
     "name": "stdout",
     "output_type": "stream",
     "text": [
      "True\n",
      "2\n",
      "['um pouco mais caro do que os outros sopradores de folhas', 'vale a pena pelas características extras']\n"
     ]
    }
   ],
   "source": [
    "from pydantic import BaseModel, Field\n",
    "\n",
    "class AvaliacaoReview(BaseModel):\n",
    "    \"\"\"Avalia review do cliente\"\"\"\n",
    "    presente: bool = Field(description='Verdadeiro se foi para presente e Falso se não foi')\n",
    "    dias_entrega: int = Field(description='Quantos dias para a entrega do produto')\n",
    "    percepcao_de_valor: list[str] = Field(description='Extraia qualquer frase sobre qualquer valor ou preço do produto')\n",
    "\n",
    "llm_estruturada = chat.with_structured_output(AvaliacaoReview)\n",
    "resposta = llm_estruturada.invoke(review_cliente)\n",
    "print(resposta.presente)\n",
    "print(resposta.dias_entrega)\n",
    "print(resposta.percepcao_de_valor)"
   ]
  },
  {
   "cell_type": "markdown",
   "id": "04644cdf",
   "metadata": {},
   "source": [
    "## Desafio - Output Parsers"
   ]
  },
  {
   "cell_type": "code",
   "execution_count": 22,
   "id": "887fdac9",
   "metadata": {},
   "outputs": [],
   "source": [
    "review_cliente = \"\"\"Este soprador de folhas é bastante incrível. Ele tem quatro configurações: sopro de vela, brisa suave, cidade ventosa e tornado. Chegou em dois dias, bem a tempo para o presente de aniversário da minha esposa. Acho que minha esposa gostou tanto que ficou sem palavras. Até agora, fui o único a usá-lo, e tenho usado em todas as manhãs alternadas para limpar as folhas do nosso gramado. É um pouco mais caro do que outros sopradores de folhas dispoíveis no mercado, mas acho que vale a pena pelas características extras.\"\"\""
   ]
  },
  {
   "cell_type": "code",
   "execution_count": 30,
   "id": "b7377ac3",
   "metadata": {},
   "outputs": [
    {
     "name": "stdout",
     "output_type": "stream",
     "text": [
      "descrição: soprador de folhas com quatro configurações: sopro de vela, brisa suave, cidade ventosa e tornado\n",
      "entrega: True\n",
      "avaliacao_produto: True\n",
      "atendimento: True\n",
      "satisfação: Muito Satisfeito\n"
     ]
    }
   ],
   "source": [
    "from pydantic import BaseModel, Field\n",
    "\n",
    "class AvaliacaoReview(BaseModel):\n",
    "    \"\"\"Avalia o review de clientes\"\"\"\n",
    "    produto: str = Field(description='Uma breve descrição do produto')\n",
    "    entrega: bool = Field(description='Verdadeiro para satisfeito com a entrega e Falso para não satisfeito')\n",
    "    avaliacao_produto: bool = Field(description='Verdadeiro para satisfeito com o produto e Falso para não satisfeito')\n",
    "    atendimento: bool = Field(description='Verdadeiro para satisfeito com o atendimento e False para não satisfeito')\n",
    "    satisfacao: str = Field(description='Avaliação geral do cliente com a compra: Muito Satisfeito, Satisfeito, Neutro, Insatisfeito, Muito insatisfeito')\n",
    "\n",
    "llm_estruturada = chat.with_structured_output(AvaliacaoReview)\n",
    "resultado = llm_estruturada.invoke(review_cliente)\n",
    "print(f'descrição: {resultado.produto}')\n",
    "print(f'entrega: {resultado.entrega}')\n",
    "print(f'avaliacao_produto: {resultado.avaliacao_produto}')\n",
    "print(f'atendimento: {resultado.atendimento}')\n",
    "print(f'satisfação: {resultado.satisfacao}')"
   ]
  }
 ],
 "metadata": {
  "kernelspec": {
   "display_name": "venv311",
   "language": "python",
   "name": "python3"
  },
  "language_info": {
   "codemirror_mode": {
    "name": "ipython",
    "version": 3
   },
   "file_extension": ".py",
   "mimetype": "text/x-python",
   "name": "python",
   "nbconvert_exporter": "python",
   "pygments_lexer": "ipython3",
   "version": "3.11.9"
  }
 },
 "nbformat": 4,
 "nbformat_minor": 5
}
