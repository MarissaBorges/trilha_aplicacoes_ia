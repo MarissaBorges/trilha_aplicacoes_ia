{
 "cells": [
  {
   "cell_type": "code",
   "execution_count": 1,
   "id": "e3ef5c8f",
   "metadata": {},
   "outputs": [
    {
     "data": {
      "text/plain": [
       "True"
      ]
     },
     "execution_count": 1,
     "metadata": {},
     "output_type": "execute_result"
    }
   ],
   "source": [
    "from dotenv import load_dotenv\n",
    "load_dotenv()"
   ]
  },
  {
   "attachments": {},
   "cell_type": "markdown",
   "id": "13d7fc40",
   "metadata": {},
   "source": [
    "# Conversando com os dados"
   ]
  },
  {
   "cell_type": "code",
   "execution_count": 2,
   "id": "319493c5",
   "metadata": {},
   "outputs": [],
   "source": [
    "from langchain_openai import OpenAIEmbeddings\n",
    "from langchain_community.vectorstores.chroma import Chroma\n",
    "\n",
    "from langchain_community.document_loaders.pdf import PyPDFLoader\n",
    "from langchain_text_splitters import RecursiveCharacterTextSplitter"
   ]
  },
  {
   "cell_type": "code",
   "execution_count": 3,
   "id": "b1cd506c",
   "metadata": {},
   "outputs": [],
   "source": [
    "caminhos = [\n",
    "    'arquivos/Explorando o Universo das IAs com Hugging Face.pdf',\n",
    "    'arquivos/Explorando a API da OpenAI.pdf'\n",
    "]\n",
    "\n",
    "\n",
    "paginas = []\n",
    "for caminho in caminhos:\n",
    "    loader = PyPDFLoader(caminho)\n",
    "    paginas.extend(loader.load())\n",
    "\n",
    "recur_split = RecursiveCharacterTextSplitter(\n",
    "    chunk_size=1000,\n",
    "    chunk_overlap=10,\n",
    "    separators=['\\n\\n', '\\n', '.', ' ', '']\n",
    ")\n",
    "\n",
    "documents = recur_split.split_documents(paginas)\n",
    "\n",
    "for i, doc in enumerate(documents):\n",
    "    doc.metadata['source'] = doc.metadata['source'].replace('arquivos/', '')\n",
    "    doc.metadata['doc_id'] = i"
   ]
  },
  {
   "cell_type": "code",
   "execution_count": 4,
   "id": "9d9fb7be",
   "metadata": {},
   "outputs": [],
   "source": [
    "diretorio = 'arquivos/chat_retrieval_bd'\n",
    "\n",
    "embeddigs_model = OpenAIEmbeddings()\n",
    "vectordb = Chroma.from_documents(\n",
    "    documents=documents,\n",
    "    embedding=embeddigs_model,\n",
    "    persist_directory=diretorio\n",
    ")"
   ]
  },
  {
   "attachments": {},
   "cell_type": "markdown",
   "id": "892e580f",
   "metadata": {},
   "source": [
    "## Criando estrutura de conversa"
   ]
  },
  {
   "cell_type": "code",
   "execution_count": 5,
   "id": "887ad219",
   "metadata": {},
   "outputs": [],
   "source": [
    "from langchain_openai.chat_models import ChatOpenAI\n",
    "\n",
    "chat = ChatOpenAI(model='gpt-4o-mini')"
   ]
  },
  {
   "cell_type": "code",
   "execution_count": 6,
   "id": "2bf8935e",
   "metadata": {},
   "outputs": [],
   "source": [
    "from langchain.chains.retrieval_qa.base import RetrievalQA\n",
    "\n",
    "chat_chain = RetrievalQA.from_chain_type(\n",
    "    llm=chat,\n",
    "    retriever=vectordb.as_retriever(search_type='mmr')\n",
    ")"
   ]
  },
  {
   "cell_type": "code",
   "execution_count": 7,
   "id": "37354279",
   "metadata": {},
   "outputs": [
    {
     "data": {
      "text/plain": [
       "{'query': 'O que é Hugging Face e como faço para acessá-lo?',\n",
       " 'result': 'Hugging Face é uma plataforma que oferece uma variedade de modelos de inteligência artificial, ferramentas e recursos voltados para o desenvolvimento e aplicação de IAs, especialmente em tarefas de processamento de linguagem natural. A plataforma é conhecida por sua comunidade ativa e por fornecer acesso a modelos e datasets.\\n\\nPara acessar o Hugging Face, você pode seguir os seguintes passos:\\n\\n1. Visite o site oficial do Hugging Face.\\n2. Crie uma conta, se ainda não tiver uma.\\n3. Após fazer login, você poderá explorar diversos modelos, datasets e recursos disponíveis na plataforma.\\n4. Se necessário, você pode solicitar acesso a modelos restritos, seguindo as instruções específicas na página do modelo.\\n\\nAlém disso, você pode participar da comunidade, seguir perfis, acessar artigos e cursos, e interagir no servidor de Discord, fórum e GitHub oficial.'}"
      ]
     },
     "execution_count": 7,
     "metadata": {},
     "output_type": "execute_result"
    }
   ],
   "source": [
    "pergunta = 'O que é Hugging Face e como faço para acessá-lo?'\n",
    "chat_chain.invoke({'query': pergunta})"
   ]
  },
  {
   "cell_type": "markdown",
   "id": "b56f613d",
   "metadata": {},
   "source": [
    "## Modificando o prompt da chain"
   ]
  },
  {
   "cell_type": "code",
   "execution_count": 8,
   "id": "fbf473dd",
   "metadata": {},
   "outputs": [],
   "source": [
    "from langchain.prompts import PromptTemplate\n",
    "\n",
    "chain_prompt = PromptTemplate.from_template(\n",
    "'''Utilize o contexto fornecido para responder a pergunta final.\n",
    "Se você não sabe a resposta, apenas diga que não sabe e não tente inventar a resposta.\n",
    "Utilize três frases no máximo, mantenha a resposta concisa.\n",
    "\n",
    "Contexto: {context}\n",
    "\n",
    "Pergunta: {question}\n",
    "'''\n",
    ")"
   ]
  },
  {
   "cell_type": "code",
   "execution_count": 9,
   "id": "29ef5adf",
   "metadata": {},
   "outputs": [],
   "source": [
    "chat_chain = RetrievalQA.from_chain_type(\n",
    "    llm=chat,\n",
    "    retriever=vectordb.as_retriever(search_type='mmr'),\n",
    "    chain_type_kwargs={'prompt': chain_prompt},\n",
    "    return_source_documents=True\n",
    ")"
   ]
  },
  {
   "cell_type": "code",
   "execution_count": 11,
   "id": "6913f724",
   "metadata": {},
   "outputs": [
    {
     "name": "stdout",
     "output_type": "stream",
     "text": [
      "Hugging Face é uma plataforma que oferece uma variedade de modelos de inteligência artificial e ferramentas para desenvolvedores. Para acessá-lo, você deve criar uma conta e, se necessário, solicitar acesso a modelos restritos, concordando com os termos de uso. Após isso, você pode explorar e utilizar os modelos disponíveis na plataforma.\n"
     ]
    }
   ],
   "source": [
    "pergunta = 'O que é Hugging Face e como faço para acessá-lo?'\n",
    "resposta = chat_chain.invoke({'query': pergunta})\n",
    "print(resposta['result'])"
   ]
  },
  {
   "cell_type": "code",
   "execution_count": 12,
   "id": "1153184a",
   "metadata": {},
   "outputs": [
    {
     "name": "stdout",
     "output_type": "stream",
     "text": [
      "[Document(metadata={'doc_id': 1, 'page': 1, 'source': 'Explorando o Universo das IAs com Hugging Face.pdf'}, page_content='Explorando o Universo das IAs com Hugging Face\\nConteúdo\\n01. O que é Hugging Face? 5\\nAfinal, o que é Hugging Face? . . . . . . . . . . . . . . . . . . . . . . . . . . . . . . . . . . 5\\nÉ tudo aberto mesmo? . . . . . . . . . . . . . . . . . . . . . . . . . . . . . . . . . . . 6\\nComo usaremos o Hugging Face? . . . . . . . . . . . . . . . . . . . . . . . . . . . . . . . . 6\\n02. A plataforma Hugging Face 7\\nModelos . . . . . . . . . . . . . . . . . . . . . . . . . . . . . . . . . . . . . . . . . . . . . . 7\\nPágina de um modelo . . . . . . . . . . . . . . . . . . . . . . . . . . . . . . . . . . . 8\\nDatasets . . . . . . . . . . . . . . . . . . . . . . . . . . . . . . . . . . . . . . . . . . . . . . 10\\nSpaces . . . . . . . . . . . . . . . . . . . . . . . . . . . . . . . . . . . . . . . . . . . . . . . 10\\n03. Testando nossa primeira IA em tempo recorde 14\\nNossa primeira IA . . . . . . . . . . . . . . . . . . . . . . . . . . . . . . . . . . . . . . . . . 14'), Document(metadata={'doc_id': 87, 'page': 45, 'source': 'Explorando o Universo das IAs com Hugging Face.pdf'}, page_content='Explorando o Universo das IAs com Hugging Face\\nFigure 19: Criando uma conta no Hugging Face\\nPedindo acesso a um modelo\\nDe volta na página do modelo, você deverá ver um botão para solicitar acesso. O processo é diferente\\npara cada modelo restrito. No caso do modelo do Google, basta ler e concordar com termos de uso.\\nAsimov Academy 45'), Document(metadata={'doc_id': 136, 'page': 71, 'source': 'Explorando o Universo das IAs com Hugging Face.pdf'}, page_content='Explorando o Universo das IAs com Hugging Face\\n16. Conhecendo a comunidade do Hugging Face\\nComo já falamos anteriormente, o Hugging Face tem o tamanho que tem principalmente por causa de\\nsua comunidade. Vamos explorar alguns pontos relacionados a ela nesta aula.\\nPágina inicial\\nQuando você abrir a página inicial do Hugging Face enquanto está logado, verá diversas opções\\nrelacionadas à comunidade. Você receberá sugestões de perfis ou organizações para seguir, e pode\\nacompanhar os “posts” (atualizações) de cada perfil.\\nFigure 25: Página inicial do Hugging Face quando você está logado.\\nOpções de comunidade\\nNo menu à direita, é possível selecionar diversas opções de comunidade, como artigos de blog, páginas\\nde cursos do próprio Hugging Face, e acessos ao servidor de Discord, ao Forum e ao GitHub oficial.\\nAsimov Academy 71'), Document(metadata={'doc_id': 156, 'page': 88, 'source': 'Explorando o Universo das IAs com Hugging Face.pdf'}, page_content='Face.\\nÉ claro que o Hugging Face não acaba aqui. Não tivemos tempo de explorar boa parte das tarefas que\\nexistem no Hugging Face. Dito isso, agora sabemoscomo fazer este processo: conseguimos procurar por\\numa tarefa nova, encontrar o código necessário para baixá-lo (seja pela bibliotecatransformers\\nou alguma outra), avaliar se conseguiremos rodar o modelo localmente, e entender como passar\\nargumentos e obter resultados a partir dele.\\nCom isso, você está apto para combinar funcionalidades de diversos modelos do Hugging Face com\\nsuas aplicações. Não é preciso utilizar o Hugging Face para fazer tudo em uma aplicação: você pode\\napenas pegar um ou alguns modelos específicos que sirvam para alguma tarefa, e combiná-los com\\nalgum outro script ou programa. Ou então combinar as IAs do Hugging Face com outras IAs mais\\n“famosas” , como o ChatGPT , e construir assim um sistema robusto com diversas IAs para uma variedade\\nde tarefas. O céu é o limite!\\nAsimov Academy 88')]\n"
     ]
    }
   ],
   "source": [
    "print(resposta['source_documents'])"
   ]
  },
  {
   "cell_type": "code",
   "execution_count": 13,
   "id": "8487252c",
   "metadata": {},
   "outputs": [
    {
     "name": "stdout",
     "output_type": "stream",
     "text": [
      "\u001b[32;1m\u001b[1;3m[chain/start]\u001b[0m \u001b[1m[chain:RetrievalQA] Entering Chain run with input:\n",
      "\u001b[0m{\n",
      "  \"query\": \"O que é Hugging Face e como faço para acessá-lo?\"\n",
      "}\n",
      "\u001b[32;1m\u001b[1;3m[chain/start]\u001b[0m \u001b[1m[chain:RetrievalQA > chain:StuffDocumentsChain] Entering Chain run with input:\n",
      "\u001b[0m[inputs]\n",
      "\u001b[32;1m\u001b[1;3m[chain/start]\u001b[0m \u001b[1m[chain:RetrievalQA > chain:StuffDocumentsChain > chain:LLMChain] Entering Chain run with input:\n",
      "\u001b[0m{\n",
      "  \"question\": \"O que é Hugging Face e como faço para acessá-lo?\",\n",
      "  \"context\": \"Explorando o Universo das IAs com Hugging Face\\nConteúdo\\n01. O que é Hugging Face? 5\\nAfinal, o que é Hugging Face? . . . . . . . . . . . . . . . . . . . . . . . . . . . . . . . . . . 5\\nÉ tudo aberto mesmo? . . . . . . . . . . . . . . . . . . . . . . . . . . . . . . . . . . . 6\\nComo usaremos o Hugging Face? . . . . . . . . . . . . . . . . . . . . . . . . . . . . . . . . 6\\n02. A plataforma Hugging Face 7\\nModelos . . . . . . . . . . . . . . . . . . . . . . . . . . . . . . . . . . . . . . . . . . . . . . 7\\nPágina de um modelo . . . . . . . . . . . . . . . . . . . . . . . . . . . . . . . . . . . 8\\nDatasets . . . . . . . . . . . . . . . . . . . . . . . . . . . . . . . . . . . . . . . . . . . . . . 10\\nSpaces . . . . . . . . . . . . . . . . . . . . . . . . . . . . . . . . . . . . . . . . . . . . . . . 10\\n03. Testando nossa primeira IA em tempo recorde 14\\nNossa primeira IA . . . . . . . . . . . . . . . . . . . . . . . . . . . . . . . . . . . . . . . . . 14\\n\\nExplorando o Universo das IAs com Hugging Face\\nFigure 19: Criando uma conta no Hugging Face\\nPedindo acesso a um modelo\\nDe volta na página do modelo, você deverá ver um botão para solicitar acesso. O processo é diferente\\npara cada modelo restrito. No caso do modelo do Google, basta ler e concordar com termos de uso.\\nAsimov Academy 45\\n\\nExplorando o Universo das IAs com Hugging Face\\n16. Conhecendo a comunidade do Hugging Face\\nComo já falamos anteriormente, o Hugging Face tem o tamanho que tem principalmente por causa de\\nsua comunidade. Vamos explorar alguns pontos relacionados a ela nesta aula.\\nPágina inicial\\nQuando você abrir a página inicial do Hugging Face enquanto está logado, verá diversas opções\\nrelacionadas à comunidade. Você receberá sugestões de perfis ou organizações para seguir, e pode\\nacompanhar os “posts” (atualizações) de cada perfil.\\nFigure 25: Página inicial do Hugging Face quando você está logado.\\nOpções de comunidade\\nNo menu à direita, é possível selecionar diversas opções de comunidade, como artigos de blog, páginas\\nde cursos do próprio Hugging Face, e acessos ao servidor de Discord, ao Forum e ao GitHub oficial.\\nAsimov Academy 71\\n\\nFace.\\nÉ claro que o Hugging Face não acaba aqui. Não tivemos tempo de explorar boa parte das tarefas que\\nexistem no Hugging Face. Dito isso, agora sabemoscomo fazer este processo: conseguimos procurar por\\numa tarefa nova, encontrar o código necessário para baixá-lo (seja pela bibliotecatransformers\\nou alguma outra), avaliar se conseguiremos rodar o modelo localmente, e entender como passar\\nargumentos e obter resultados a partir dele.\\nCom isso, você está apto para combinar funcionalidades de diversos modelos do Hugging Face com\\nsuas aplicações. Não é preciso utilizar o Hugging Face para fazer tudo em uma aplicação: você pode\\napenas pegar um ou alguns modelos específicos que sirvam para alguma tarefa, e combiná-los com\\nalgum outro script ou programa. Ou então combinar as IAs do Hugging Face com outras IAs mais\\n“famosas” , como o ChatGPT , e construir assim um sistema robusto com diversas IAs para uma variedade\\nde tarefas. O céu é o limite!\\nAsimov Academy 88\"\n",
      "}\n",
      "\u001b[32;1m\u001b[1;3m[llm/start]\u001b[0m \u001b[1m[chain:RetrievalQA > chain:StuffDocumentsChain > chain:LLMChain > llm:ChatOpenAI] Entering LLM run with input:\n",
      "\u001b[0m{\n",
      "  \"prompts\": [\n",
      "    \"Human: Utilize o contexto fornecido para responder a pergunta final.\\nSe você não sabe a resposta, apenas diga que não sabe e não tente inventar a resposta.\\nUtilize três frases no máximo, mantenha a resposta concisa.\\n\\nContexto: Explorando o Universo das IAs com Hugging Face\\nConteúdo\\n01. O que é Hugging Face? 5\\nAfinal, o que é Hugging Face? . . . . . . . . . . . . . . . . . . . . . . . . . . . . . . . . . . 5\\nÉ tudo aberto mesmo? . . . . . . . . . . . . . . . . . . . . . . . . . . . . . . . . . . . 6\\nComo usaremos o Hugging Face? . . . . . . . . . . . . . . . . . . . . . . . . . . . . . . . . 6\\n02. A plataforma Hugging Face 7\\nModelos . . . . . . . . . . . . . . . . . . . . . . . . . . . . . . . . . . . . . . . . . . . . . . 7\\nPágina de um modelo . . . . . . . . . . . . . . . . . . . . . . . . . . . . . . . . . . . 8\\nDatasets . . . . . . . . . . . . . . . . . . . . . . . . . . . . . . . . . . . . . . . . . . . . . . 10\\nSpaces . . . . . . . . . . . . . . . . . . . . . . . . . . . . . . . . . . . . . . . . . . . . . . . 10\\n03. Testando nossa primeira IA em tempo recorde 14\\nNossa primeira IA . . . . . . . . . . . . . . . . . . . . . . . . . . . . . . . . . . . . . . . . . 14\\n\\nExplorando o Universo das IAs com Hugging Face\\nFigure 19: Criando uma conta no Hugging Face\\nPedindo acesso a um modelo\\nDe volta na página do modelo, você deverá ver um botão para solicitar acesso. O processo é diferente\\npara cada modelo restrito. No caso do modelo do Google, basta ler e concordar com termos de uso.\\nAsimov Academy 45\\n\\nExplorando o Universo das IAs com Hugging Face\\n16. Conhecendo a comunidade do Hugging Face\\nComo já falamos anteriormente, o Hugging Face tem o tamanho que tem principalmente por causa de\\nsua comunidade. Vamos explorar alguns pontos relacionados a ela nesta aula.\\nPágina inicial\\nQuando você abrir a página inicial do Hugging Face enquanto está logado, verá diversas opções\\nrelacionadas à comunidade. Você receberá sugestões de perfis ou organizações para seguir, e pode\\nacompanhar os “posts” (atualizações) de cada perfil.\\nFigure 25: Página inicial do Hugging Face quando você está logado.\\nOpções de comunidade\\nNo menu à direita, é possível selecionar diversas opções de comunidade, como artigos de blog, páginas\\nde cursos do próprio Hugging Face, e acessos ao servidor de Discord, ao Forum e ao GitHub oficial.\\nAsimov Academy 71\\n\\nFace.\\nÉ claro que o Hugging Face não acaba aqui. Não tivemos tempo de explorar boa parte das tarefas que\\nexistem no Hugging Face. Dito isso, agora sabemoscomo fazer este processo: conseguimos procurar por\\numa tarefa nova, encontrar o código necessário para baixá-lo (seja pela bibliotecatransformers\\nou alguma outra), avaliar se conseguiremos rodar o modelo localmente, e entender como passar\\nargumentos e obter resultados a partir dele.\\nCom isso, você está apto para combinar funcionalidades de diversos modelos do Hugging Face com\\nsuas aplicações. Não é preciso utilizar o Hugging Face para fazer tudo em uma aplicação: você pode\\napenas pegar um ou alguns modelos específicos que sirvam para alguma tarefa, e combiná-los com\\nalgum outro script ou programa. Ou então combinar as IAs do Hugging Face com outras IAs mais\\n“famosas” , como o ChatGPT , e construir assim um sistema robusto com diversas IAs para uma variedade\\nde tarefas. O céu é o limite!\\nAsimov Academy 88\\n\\nPergunta: O que é Hugging Face e como faço para acessá-lo?\"\n",
      "  ]\n",
      "}\n",
      "\u001b[36;1m\u001b[1;3m[llm/end]\u001b[0m \u001b[1m[chain:RetrievalQA > chain:StuffDocumentsChain > chain:LLMChain > llm:ChatOpenAI] [2.41s] Exiting LLM run with output:\n",
      "\u001b[0m{\n",
      "  \"generations\": [\n",
      "    [\n",
      "      {\n",
      "        \"text\": \"Hugging Face é uma plataforma que oferece modelos de inteligência artificial e ferramentas para desenvolvedores. Para acessá-lo, você deve criar uma conta e, em alguns casos, solicitar acesso a modelos específicos. Após logar, você pode explorar a comunidade e as opções disponíveis na página inicial.\",\n",
      "        \"generation_info\": {\n",
      "          \"finish_reason\": \"stop\",\n",
      "          \"logprobs\": null\n",
      "        },\n",
      "        \"type\": \"ChatGeneration\",\n",
      "        \"message\": {\n",
      "          \"lc\": 1,\n",
      "          \"type\": \"constructor\",\n",
      "          \"id\": [\n",
      "            \"langchain\",\n",
      "            \"schema\",\n",
      "            \"messages\",\n",
      "            \"AIMessage\"\n",
      "          ],\n",
      "          \"kwargs\": {\n",
      "            \"content\": \"Hugging Face é uma plataforma que oferece modelos de inteligência artificial e ferramentas para desenvolvedores. Para acessá-lo, você deve criar uma conta e, em alguns casos, solicitar acesso a modelos específicos. Após logar, você pode explorar a comunidade e as opções disponíveis na página inicial.\",\n",
      "            \"additional_kwargs\": {\n",
      "              \"refusal\": null\n",
      "            },\n",
      "            \"response_metadata\": {\n",
      "              \"token_usage\": {\n",
      "                \"completion_tokens\": 59,\n",
      "                \"prompt_tokens\": 997,\n",
      "                \"total_tokens\": 1056,\n",
      "                \"completion_tokens_details\": {\n",
      "                  \"accepted_prediction_tokens\": 0,\n",
      "                  \"audio_tokens\": 0,\n",
      "                  \"reasoning_tokens\": 0,\n",
      "                  \"rejected_prediction_tokens\": 0\n",
      "                },\n",
      "                \"prompt_tokens_details\": {\n",
      "                  \"audio_tokens\": 0,\n",
      "                  \"cached_tokens\": 0\n",
      "                }\n",
      "              },\n",
      "              \"model_name\": \"gpt-4o-mini-2024-07-18\",\n",
      "              \"system_fingerprint\": \"fp_62a23a81ef\",\n",
      "              \"finish_reason\": \"stop\",\n",
      "              \"logprobs\": null\n",
      "            },\n",
      "            \"type\": \"ai\",\n",
      "            \"id\": \"run-1087c78c-f60f-440c-93f0-f69a8b97a774-0\",\n",
      "            \"usage_metadata\": {\n",
      "              \"input_tokens\": 997,\n",
      "              \"output_tokens\": 59,\n",
      "              \"total_tokens\": 1056,\n",
      "              \"input_token_details\": {\n",
      "                \"audio\": 0,\n",
      "                \"cache_read\": 0\n",
      "              },\n",
      "              \"output_token_details\": {\n",
      "                \"audio\": 0,\n",
      "                \"reasoning\": 0\n",
      "              }\n",
      "            },\n",
      "            \"tool_calls\": [],\n",
      "            \"invalid_tool_calls\": []\n",
      "          }\n",
      "        }\n",
      "      }\n",
      "    ]\n",
      "  ],\n",
      "  \"llm_output\": {\n",
      "    \"token_usage\": {\n",
      "      \"completion_tokens\": 59,\n",
      "      \"prompt_tokens\": 997,\n",
      "      \"total_tokens\": 1056,\n",
      "      \"completion_tokens_details\": {\n",
      "        \"accepted_prediction_tokens\": 0,\n",
      "        \"audio_tokens\": 0,\n",
      "        \"reasoning_tokens\": 0,\n",
      "        \"rejected_prediction_tokens\": 0\n",
      "      },\n",
      "      \"prompt_tokens_details\": {\n",
      "        \"audio_tokens\": 0,\n",
      "        \"cached_tokens\": 0\n",
      "      }\n",
      "    },\n",
      "    \"model_name\": \"gpt-4o-mini-2024-07-18\",\n",
      "    \"system_fingerprint\": \"fp_62a23a81ef\"\n",
      "  },\n",
      "  \"run\": null,\n",
      "  \"type\": \"LLMResult\"\n",
      "}\n",
      "\u001b[36;1m\u001b[1;3m[chain/end]\u001b[0m \u001b[1m[chain:RetrievalQA > chain:StuffDocumentsChain > chain:LLMChain] [2.41s] Exiting Chain run with output:\n",
      "\u001b[0m{\n",
      "  \"text\": \"Hugging Face é uma plataforma que oferece modelos de inteligência artificial e ferramentas para desenvolvedores. Para acessá-lo, você deve criar uma conta e, em alguns casos, solicitar acesso a modelos específicos. Após logar, você pode explorar a comunidade e as opções disponíveis na página inicial.\"\n",
      "}\n",
      "\u001b[36;1m\u001b[1;3m[chain/end]\u001b[0m \u001b[1m[chain:RetrievalQA > chain:StuffDocumentsChain] [2.41s] Exiting Chain run with output:\n",
      "\u001b[0m{\n",
      "  \"output_text\": \"Hugging Face é uma plataforma que oferece modelos de inteligência artificial e ferramentas para desenvolvedores. Para acessá-lo, você deve criar uma conta e, em alguns casos, solicitar acesso a modelos específicos. Após logar, você pode explorar a comunidade e as opções disponíveis na página inicial.\"\n",
      "}\n",
      "\u001b[36;1m\u001b[1;3m[chain/end]\u001b[0m \u001b[1m[chain:RetrievalQA] [3.91s] Exiting Chain run with output:\n",
      "\u001b[0m[outputs]\n"
     ]
    }
   ],
   "source": [
    "from langchain.globals import set_debug\n",
    "\n",
    "set_debug(True)\n",
    "\n",
    "pergunta = 'O que é Hugging Face e como faço para acessá-lo?'\n",
    "resposta = chat_chain.invoke({'query': pergunta})\n",
    "\n",
    "set_debug(False)"
   ]
  },
  {
   "cell_type": "markdown",
   "id": "a0e0ec20",
   "metadata": {},
   "source": [
    "## Outros tipos de chains"
   ]
  },
  {
   "cell_type": "markdown",
   "id": "1b15e37b",
   "metadata": {},
   "source": [
    "### Stuff"
   ]
  },
  {
   "cell_type": "code",
   "execution_count": 14,
   "id": "e0a626b7",
   "metadata": {},
   "outputs": [
    {
     "name": "stdout",
     "output_type": "stream",
     "text": [
      "Hugging Face é uma plataforma que oferece uma variedade de modelos de inteligência artificial, especialmente para tarefas de processamento de linguagem natural. É uma comunidade colaborativa onde os usuários podem compartilhar modelos, datasets e ideias.\n",
      "\n",
      "Para acessar o Hugging Face, você pode criar uma conta no site oficial. Após criar sua conta e fazer login, você poderá explorar diferentes modelos, datasets e opções da comunidade. Para alguns modelos que são restritos, você pode precisar solicitar acesso, o que geralmente envolve ler e concordar com os termos de uso.\n",
      "\n",
      "Se precisar de mais detalhes sobre como utilizar a plataforma, você pode consultar a documentação ou os tutoriais disponíveis no site.\n"
     ]
    }
   ],
   "source": [
    "chat_chain = RetrievalQA.from_chain_type(\n",
    "    llm=chat,\n",
    "    retriever = vectordb.as_retriever(search_type='mmr'),\n",
    "    chain_type='stuff'\n",
    ")\n",
    "\n",
    "pergunta = 'O que é Hugging Face e como faço para acessá-lo?'\n",
    "resposta = chat_chain.invoke({'query': pergunta})\n",
    "print(resposta['result'])"
   ]
  },
  {
   "cell_type": "markdown",
   "id": "00b0ddf3",
   "metadata": {},
   "source": [
    "### Map Reduce"
   ]
  },
  {
   "cell_type": "code",
   "execution_count": 15,
   "id": "d6583123",
   "metadata": {},
   "outputs": [
    {
     "name": "stdout",
     "output_type": "stream",
     "text": [
      "Hugging Face é uma plataforma que fornece ferramentas e modelos para o desenvolvimento de aplicações de inteligência artificial, especialmente em processamento de linguagem natural. Ele oferece uma variedade de modelos que permitem aos usuários realizar tarefas específicas relacionadas à inteligência artificial.\n",
      "\n",
      "Para acessar o Hugging Face, você deve abrir a página inicial da plataforma enquanto está logado. Nela, você encontrará diversas opções relacionadas à comunidade e aos modelos disponíveis. Para acessar um modelo específico, você deve voltar à página do modelo desejado e clicar em um botão para solicitar acesso, dependendo do modelo. O processo pode variar, e em alguns casos, como o modelo do Google, pode ser necessário ler e concordar com os termos de uso. \n",
      "\n",
      "Além disso, você pode buscar por tarefas específicas e seguir o processo de avaliação para rodar os modelos localmente. É possível escolher modelos que atendam às suas necessidades e integrá-los com outros scripts ou programas, além de combiná-los com outras IAs conhecidas.\n"
     ]
    }
   ],
   "source": [
    "chat_chain = RetrievalQA.from_chain_type(\n",
    "    llm=chat,\n",
    "    retriever = vectordb.as_retriever(search_type='mmr'),\n",
    "    chain_type='map_reduce'\n",
    ")\n",
    "\n",
    "pergunta = 'O que é Hugging Face e como faço para acessá-lo?'\n",
    "resposta = chat_chain.invoke({'query': pergunta})\n",
    "print(resposta['result'])"
   ]
  },
  {
   "cell_type": "markdown",
   "id": "8d5877df",
   "metadata": {},
   "source": [
    "### Refine"
   ]
  },
  {
   "cell_type": "code",
   "execution_count": 16,
   "id": "def92a33",
   "metadata": {},
   "outputs": [
    {
     "name": "stdout",
     "output_type": "stream",
     "text": [
      "Hugging Face é uma plataforma que oferece uma ampla gama de ferramentas e modelos para trabalhar com inteligência artificial (IA), especialmente no campo do processamento de linguagem natural (NLP). A plataforma é famosa por sua biblioteca de modelos pré-treinados, que podem ser facilmente utilizados para diversas aplicações de IA, permitindo que desenvolvedores e pesquisadores explorem novas tarefas e integrem diferentes modelos em suas aplicações.\n",
      "\n",
      "Para acessar o Hugging Face, você pode visitar o site oficial (huggingface.co) e criar uma conta, caso ainda não tenha uma. Após a criação da conta, você terá a oportunidade de explorar os modelos disponíveis e as tarefas que o Hugging Face oferece. O menu à direita da página inicial permite acesso a diversos recursos comunitários, incluindo artigos de blog, cursos oferecidos pelo Hugging Face, e links para o servidor do Discord, o Fórum e o GitHub oficial.\n",
      "\n",
      "Uma vez na plataforma, você pode procurar por novas tarefas, encontrar o código necessário para baixar os modelos (seja pela biblioteca transformers ou outra), avaliar a viabilidade de rodar o modelo localmente e entender como passar argumentos e obter resultados a partir dele. Você não precisa utilizar todos os recursos do Hugging Face em uma única aplicação; é possível escolher modelos específicos que atendam às suas necessidades e combiná-los com outros scripts ou programas. Além disso, você pode integrar as IAs do Hugging Face com outras IAs mais conhecidas, como o ChatGPT, para construir um sistema robusto que abranja uma variedade de tarefas. O céu é o limite!\n"
     ]
    }
   ],
   "source": [
    "chat_chain = RetrievalQA.from_chain_type(\n",
    "    llm=chat,\n",
    "    retriever = vectordb.as_retriever(search_type='mmr'),\n",
    "    chain_type='refine'\n",
    ")\n",
    "\n",
    "pergunta = 'O que é Hugging Face e como faço para acessá-lo?'\n",
    "resposta = chat_chain.invoke({'query': pergunta})\n",
    "print(resposta['result'])"
   ]
  }
 ],
 "metadata": {
  "kernelspec": {
   "display_name": "venv311",
   "language": "python",
   "name": "python3"
  },
  "language_info": {
   "codemirror_mode": {
    "name": "ipython",
    "version": 3
   },
   "file_extension": ".py",
   "mimetype": "text/x-python",
   "name": "python",
   "nbconvert_exporter": "python",
   "pygments_lexer": "ipython3",
   "version": "3.11.9"
  }
 },
 "nbformat": 4,
 "nbformat_minor": 5
}
