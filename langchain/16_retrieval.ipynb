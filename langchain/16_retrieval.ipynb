{
 "cells": [
  {
   "cell_type": "code",
   "execution_count": 6,
   "id": "ca96fb97",
   "metadata": {},
   "outputs": [
    {
     "data": {
      "text/plain": [
       "True"
      ]
     },
     "execution_count": 6,
     "metadata": {},
     "output_type": "execute_result"
    }
   ],
   "source": [
    "from dotenv import load_dotenv\n",
    "load_dotenv()"
   ]
  },
  {
   "attachments": {},
   "cell_type": "markdown",
   "id": "13d7fc40",
   "metadata": {},
   "source": [
    "# Retrieval"
   ]
  },
  {
   "cell_type": "code",
   "execution_count": 11,
   "id": "319493c5",
   "metadata": {},
   "outputs": [],
   "source": [
    "from langchain_community.document_loaders.pdf import PyPDFLoader\n",
    "from langchain_text_splitters import RecursiveCharacterTextSplitter"
   ]
  },
  {
   "cell_type": "code",
   "execution_count": 13,
   "id": "b1cd506c",
   "metadata": {},
   "outputs": [
    {
     "data": {
      "text/plain": [
       "265"
      ]
     },
     "execution_count": 13,
     "metadata": {},
     "output_type": "execute_result"
    }
   ],
   "source": [
    "caminhos = [\n",
    "    'arquivos/Explorando o Universo das IAs com Hugging Face.pdf',\n",
    "    'arquivos/Explorando a API da OpenAI.pdf',\n",
    "    'arquivos/Explorando a API da OpenAI.pdf',\n",
    "]\n",
    "\n",
    "paginas = []\n",
    "\n",
    "for caminho in caminhos:\n",
    "    loader = PyPDFLoader(caminho)\n",
    "    paginas.extend(loader.load())\n",
    "\n",
    "recur_split = RecursiveCharacterTextSplitter(\n",
    "    chunk_size=500,\n",
    "    chunk_overlap=50,\n",
    "    separators=['\\n\\n', '\\n', '.', ' ', '']\n",
    ")\n",
    "\n",
    "documents = recur_split.split_documents(paginas)\n",
    "len(paginas)"
   ]
  },
  {
   "attachments": {},
   "cell_type": "markdown",
   "id": "89bb64c5",
   "metadata": {},
   "source": [
    "### Modificando metadata"
   ]
  },
  {
   "cell_type": "code",
   "execution_count": 14,
   "id": "fadef36c",
   "metadata": {},
   "outputs": [],
   "source": [
    "for i, doc in enumerate(documents):\n",
    "    doc.metadata['source'] = doc.metadata['source'].replace('arquivos/', '')\n",
    "    doc.metadata['doc_id'] = i"
   ]
  },
  {
   "cell_type": "code",
   "execution_count": 15,
   "id": "841d2eab",
   "metadata": {},
   "outputs": [
    {
     "name": "stdout",
     "output_type": "stream",
     "text": [
      "{'source': 'Explorando o Universo das IAs com Hugging Face.pdf', 'page': 0, 'doc_id': 0}\n",
      "{'source': 'Explorando a API da OpenAI.pdf', 'page': 79, 'doc_id': 500}\n"
     ]
    }
   ],
   "source": [
    "print(documents[0].metadata)\n",
    "print(documents[500].metadata)"
   ]
  },
  {
   "cell_type": "code",
   "execution_count": 16,
   "id": "af7383b2",
   "metadata": {},
   "outputs": [],
   "source": [
    "from langchain_openai import OpenAIEmbeddings\n",
    "from langchain_community.vectorstores.chroma import Chroma\n",
    "\n",
    "embeddings_model = OpenAIEmbeddings()"
   ]
  },
  {
   "cell_type": "markdown",
   "id": "04f3a5e0",
   "metadata": {},
   "source": [
    "### Criando VectorStore"
   ]
  },
  {
   "cell_type": "code",
   "execution_count": 17,
   "id": "9d9fb7be",
   "metadata": {},
   "outputs": [],
   "source": [
    "diretorio = 'arquivos/chroma_retrieval_bd'\n",
    "\n",
    "vectordb = Chroma.from_documents(\n",
    "    documents=documents,\n",
    "    embedding=embeddings_model,\n",
    "    persist_directory=diretorio\n",
    ")"
   ]
  },
  {
   "attachments": {},
   "cell_type": "markdown",
   "id": "e7389ce9",
   "metadata": {},
   "source": [
    "## Semantic Search"
   ]
  },
  {
   "cell_type": "code",
   "execution_count": 8,
   "id": "b1150ebf",
   "metadata": {},
   "outputs": [
    {
     "name": "stdout",
     "output_type": "stream",
     "text": [
      "Explorando a API da OpenAI\n",
      "01. Bem-vindos ao curso Explorando a API da OpenAI\n",
      "Olá e bem-vindos ao nosso curso “Explorando a API da OpenAI”! Estou super animado por ter vocês\n",
      "aqui e mal posso esperar para explorarmos juntos esse universo fascinante da programação e da\n",
      "inteligência artificial.\n",
      "Vocês já devem ter percebido que a IA está mudando o jogo em muitos campos, certo? É incrível como\n",
      "ela está transformando a maneira como lidamos com informações e realiza tarefas que antes pareciam\n",
      "================={'doc_id': 283, 'page': 4, 'source': 'Explorando a API da OpenAI.pdf'}\n",
      "\n",
      "\n",
      "Explorando a API da OpenAI\n",
      "01. Bem-vindos ao curso Explorando a API da OpenAI\n",
      "Olá e bem-vindos ao nosso curso “Explorando a API da OpenAI”! Estou super animado por ter vocês\n",
      "aqui e mal posso esperar para explorarmos juntos esse universo fascinante da programação e da\n",
      "inteligência artificial.\n",
      "Vocês já devem ter percebido que a IA está mudando o jogo em muitos campos, certo? É incrível como\n",
      "ela está transformando a maneira como lidamos com informações e realiza tarefas que antes pareciam\n",
      "================={'doc_id': 545, 'page': 4, 'source': 'Explorando a API da OpenAI.pdf'}\n",
      "\n",
      "\n",
      "Explorando a API da OpenAI\n",
      "Conteúdo\n",
      "01. Bem-vindos ao curso Explorando a API da OpenAI 4\n",
      "02. Explorando a documentação da API 5\n",
      "O que é uma API? . . . . . . . . . . . . . . . . . . . . . . . . . . . . . . . . . . . . . . . . . 5\n",
      "A OpenAI . . . . . . . . . . . . . . . . . . . . . . . . . . . . . . . . . . . . . . . . . . . . . 6\n",
      "Acessando a documentação da API . . . . . . . . . . . . . . . . . . . . . . . . . . . . . . . 6\n",
      "================={'doc_id': 267, 'page': 1, 'source': 'Explorando a API da OpenAI.pdf'}\n",
      "\n",
      "\n"
     ]
    }
   ],
   "source": [
    "pergunta = 'O que é a OpenAI?'\n",
    "\n",
    "docs = vectordb.similarity_search(pergunta, k=3)\n",
    "\n",
    "for doc in docs:\n",
    "    print(doc.page_content)\n",
    "    print(f'================={doc.metadata}\\n\\n')"
   ]
  },
  {
   "cell_type": "markdown",
   "id": "01d6c64b",
   "metadata": {},
   "source": [
    "### Limitações do semantic search"
   ]
  },
  {
   "cell_type": "markdown",
   "id": "c94c98d0",
   "metadata": {},
   "source": [
    "#### Trechos com muito alta similaridade e pouca infomação adicional"
   ]
  },
  {
   "cell_type": "code",
   "execution_count": null,
   "id": "e144d4fa",
   "metadata": {},
   "outputs": [
    {
     "name": "stdout",
     "output_type": "stream",
     "text": [
      "Explorando a API da OpenAI\n",
      "01. Bem-vindos ao curso Explorando a API da OpenAI\n",
      "Olá e bem-vindos ao nosso curso “Explorando a API da OpenAI”! Estou super animado por ter vocês\n",
      "aqui e mal posso esperar para explorarmos juntos esse universo fascinante da programação e da\n",
      "inteligência artificial.\n",
      "Vocês já devem ter percebido que a IA está mudando o jogo em muitos campos, certo? É incrível como\n",
      "ela está transformando a maneira como lidamos com informações e realiza tarefas que antes pareciam\n",
      "==========={'doc_id': 283, 'page': 4, 'source': 'Explorando a API da OpenAI.pdf'}\n",
      "\n",
      "\n",
      "Explorando a API da OpenAI\n",
      "01. Bem-vindos ao curso Explorando a API da OpenAI\n",
      "Olá e bem-vindos ao nosso curso “Explorando a API da OpenAI”! Estou super animado por ter vocês\n",
      "aqui e mal posso esperar para explorarmos juntos esse universo fascinante da programação e da\n",
      "inteligência artificial.\n",
      "Vocês já devem ter percebido que a IA está mudando o jogo em muitos campos, certo? É incrível como\n",
      "ela está transformando a maneira como lidamos com informações e realiza tarefas que antes pareciam\n",
      "==========={'doc_id': 545, 'page': 4, 'source': 'Explorando a API da OpenAI.pdf'}\n",
      "\n",
      "\n",
      "Explorando a API da OpenAI\n",
      "Conteúdo\n",
      "01. Bem-vindos ao curso Explorando a API da OpenAI 4\n",
      "02. Explorando a documentação da API 5\n",
      "O que é uma API? . . . . . . . . . . . . . . . . . . . . . . . . . . . . . . . . . . . . . . . . . 5\n",
      "A OpenAI . . . . . . . . . . . . . . . . . . . . . . . . . . . . . . . . . . . . . . . . . . . . . 6\n",
      "Acessando a documentação da API . . . . . . . . . . . . . . . . . . . . . . . . . . . . . . . 6\n",
      "==========={'doc_id': 529, 'page': 1, 'source': 'Explorando a API da OpenAI.pdf'}\n",
      "\n",
      "\n"
     ]
    }
   ],
   "source": [
    "pergunta = 'O que é a OpenAI?'\n",
    "\n",
    "docs = vectordb.similarity_search(pergunta, k=3)\n",
    "\n",
    "for doc in docs:\n",
    "    print(doc.page_content)\n",
    "    print(f'================={doc.metadata}\\n\\n')"
   ]
  },
  {
   "cell_type": "code",
   "execution_count": 9,
   "id": "5c7a70cd",
   "metadata": {},
   "outputs": [
    {
     "name": "stdout",
     "output_type": "stream",
     "text": [
      "Explorando o Universo das IAs com Hugging Face\n",
      "06. Modelos de conversação e geração de texto (chatbots)\n",
      "Vamos aprender agora a usar modelos de conversação, que funcionam de forma parecida com chatbots\n",
      "como ChatGPT . Na realidade, estes modelos estão classificados na tarefa de geração de texto (text\n",
      "generation) no Hugging Face:\n",
      "Figure 16: Página principal da tarefatext-generation do Hugging Face.\n",
      "Vamos utilizar o modelo Felladrin/Llama-68M-Chat-v1, disponível no link a seguir:\n",
      "================={'doc_id': 86, 'page': 29, 'source': 'Explorando o Universo das IAs com Hugging Face.pdf'}\n",
      "\n",
      "\n",
      "Explorando o Universo das IAs com Hugging Face\n",
      "01. O que é Hugging Face?\n",
      "Bem-vindos ao curso de Hugging Face da Asimov Academy!\n",
      "Neste curso, vamos explorar as principais utilidades da plataforma de IAHugging Face. Aprenderemos\n",
      "como utilizar a plataforma ao máximo, e como incorporar as bibliotecas de Python do Hugging Face\n",
      "aos nossos scripts de Python.\n",
      "Afinal, o que é Hugging Face?\n",
      "A Hugging Face é uma empresa que iniciou em 2017 na França, com o desenvolvimento de Chatbots.\n",
      "================={'doc_id': 24, 'page': 5, 'source': 'Explorando o Universo das IAs com Hugging Face.pdf'}\n",
      "\n",
      "\n",
      "Explorando a API da OpenAI\n",
      "A OpenAI\n",
      "Nosso objetivo é explorar a API da OpenAI, a maior desenvolvedora de ferramentas de inteligência\n",
      "artificial do mundo na atualidade. O modelo ChatGPT é apenas um dos vários modelos criados pela\n",
      "empresa nos últimos anos. A seguir, apresentamos alguns dos principais modelos e suas funções:\n",
      "• GPT-4: Trata-se de um modelo de linguagem de grande escala (LLM) multimodal, que aceita\n",
      "================={'doc_id': 294, 'page': 6, 'source': 'Explorando a API da OpenAI.pdf'}\n",
      "\n",
      "\n"
     ]
    }
   ],
   "source": [
    "pergunta = 'O que é a apostila de Hugging face fala sobre a OpenAI e o ChatGpt?'\n",
    "\n",
    "docs = vectordb.similarity_search(pergunta, k=3)\n",
    "\n",
    "for doc in docs:\n",
    "    print(doc.page_content)\n",
    "    print(f'================={doc.metadata}\\n\\n')"
   ]
  },
  {
   "attachments": {},
   "cell_type": "markdown",
   "id": "04a7ee51",
   "metadata": {},
   "source": [
    "## MMR"
   ]
  },
  {
   "cell_type": "code",
   "execution_count": 10,
   "id": "b06d0446",
   "metadata": {},
   "outputs": [
    {
     "name": "stdout",
     "output_type": "stream",
     "text": [
      "Explorando a API da OpenAI\n",
      "01. Bem-vindos ao curso Explorando a API da OpenAI\n",
      "Olá e bem-vindos ao nosso curso “Explorando a API da OpenAI”! Estou super animado por ter vocês\n",
      "aqui e mal posso esperar para explorarmos juntos esse universo fascinante da programação e da\n",
      "inteligência artificial.\n",
      "Vocês já devem ter percebido que a IA está mudando o jogo em muitos campos, certo? É incrível como\n",
      "ela está transformando a maneira como lidamos com informações e realiza tarefas que antes pareciam\n",
      "================={'doc_id': 283, 'page': 4, 'source': 'Explorando a API da OpenAI.pdf'}\n",
      "\n",
      "\n",
      "Explorando a API da OpenAI\n",
      "Guias\n",
      "Também está disponível diversos guias de boas práticas recomendadas ao utilizar os modelos da\n",
      "OpenAI.\n",
      "Asimov Academy 9\n",
      "================={'doc_id': 299, 'page': 9, 'source': 'Explorando a API da OpenAI.pdf'}\n",
      "\n",
      "\n",
      "Explorando a API da OpenAI\n",
      "A OpenAI\n",
      "Nosso objetivo é explorar a API da OpenAI, a maior desenvolvedora de ferramentas de inteligência\n",
      "artificial do mundo na atualidade. O modelo ChatGPT é apenas um dos vários modelos criados pela\n",
      "empresa nos últimos anos. A seguir, apresentamos alguns dos principais modelos e suas funções:\n",
      "• GPT-4: Trata-se de um modelo de linguagem de grande escala (LLM) multimodal, que aceita\n",
      "================={'doc_id': 294, 'page': 6, 'source': 'Explorando a API da OpenAI.pdf'}\n",
      "\n",
      "\n"
     ]
    }
   ],
   "source": [
    "pergunta = 'O que é a OpenAI?'\n",
    "\n",
    "docs = vectordb.max_marginal_relevance_search(pergunta, k=3, fetch_k=10)\n",
    "for doc in docs:\n",
    "    print(doc.page_content)\n",
    "    print(f'================={doc.metadata}\\n\\n')"
   ]
  },
  {
   "attachments": {},
   "cell_type": "markdown",
   "id": "23825629",
   "metadata": {},
   "source": [
    "## Filtragem"
   ]
  },
  {
   "cell_type": "code",
   "execution_count": 12,
   "id": "1fdc14d6",
   "metadata": {},
   "outputs": [
    {
     "name": "stdout",
     "output_type": "stream",
     "text": [
      "Explorando o Universo das IAs com Hugging Face\n",
      "06. Modelos de conversação e geração de texto (chatbots)\n",
      "Vamos aprender agora a usar modelos de conversação, que funcionam de forma parecida com chatbots\n",
      "como ChatGPT . Na realidade, estes modelos estão classificados na tarefa de geração de texto (text\n",
      "generation) no Hugging Face:\n",
      "Figure 16: Página principal da tarefatext-generation do Hugging Face.\n",
      "Vamos utilizar o modelo Felladrin/Llama-68M-Chat-v1, disponível no link a seguir:\n",
      "================{'doc_id': 86, 'page': 29, 'source': 'Explorando o Universo das IAs com Hugging Face.pdf'}\n",
      "\n",
      "\n",
      "Explorando o Universo das IAs com Hugging Face\n",
      "06. Modelos de conversação e geração de texto (chatbots) 29\n",
      "Acessando o modelo . . . . . . . . . . . . . . . . . . . . . . . . . . . . . . . . . . . . . . . 29\n",
      "Ajustando o template da mensagem . . . . . . . . . . . . . . . . . . . . . . . . . . . 30\n",
      "Ajustando parâmetros do modelo . . . . . . . . . . . . . . . . . . . . . . . . . . . . . 30\n",
      "07. Criando uma estrutura de chat 31\n",
      "================{'doc_id': 8, 'page': 2, 'source': 'Explorando o Universo das IAs com Hugging Face.pdf'}\n",
      "\n",
      "\n",
      "Explorando o Universo das IAs com Hugging Face\n",
      "• Criamos um dicionário para cada modelo, porque cada um possui um string de token específico\n",
      "(está detalhado à direita do card do modelo).\n",
      "• Aqui, treinamos três modelos: um treinado para múltiplas línguas, um treinado especificamente\n",
      "para português, e um treinado para português com fine-tuning para textos jurídicos. Você\n",
      "consegue gerar frases de teste que gerem resultados distintos para os três?\n",
      "Asimov Academy 24\n",
      "================{'doc_id': 70, 'page': 24, 'source': 'Explorando o Universo das IAs com Hugging Face.pdf'}\n",
      "\n",
      "\n"
     ]
    }
   ],
   "source": [
    "pergunta = 'O que a apostila de HuggingFace fala sobre a OpenAI e o ChatGPT?'\n",
    "\n",
    "docs = vectordb.similarity_search(pergunta, k=3, filter={'source': 'Explorando o Universo das IAs com Hugging Face.pdf'})\n",
    "\n",
    "for doc in docs:\n",
    "    print(doc.page_content)\n",
    "    print(f'================{doc.metadata}\\n\\n')\n"
   ]
  },
  {
   "cell_type": "code",
   "execution_count": 14,
   "id": "707cede1",
   "metadata": {},
   "outputs": [
    {
     "name": "stdout",
     "output_type": "stream",
     "text": [
      "Explorando o Universo das IAs com Hugging Face\n",
      "06. Modelos de conversação e geração de texto (chatbots)\n",
      "Vamos aprender agora a usar modelos de conversação, que funcionam de forma parecida com chatbots\n",
      "como ChatGPT . Na realidade, estes modelos estão classificados na tarefa de geração de texto (text\n",
      "generation) no Hugging Face:\n",
      "Figure 16: Página principal da tarefatext-generation do Hugging Face.\n",
      "Vamos utilizar o modelo Felladrin/Llama-68M-Chat-v1, disponível no link a seguir:\n",
      "================{'doc_id': 86, 'page': 29, 'source': 'Explorando o Universo das IAs com Hugging Face.pdf'}\n",
      "\n",
      "\n",
      "Explorando a API da OpenAI\n",
      "A OpenAI\n",
      "Nosso objetivo é explorar a API da OpenAI, a maior desenvolvedora de ferramentas de inteligência\n",
      "artificial do mundo na atualidade. O modelo ChatGPT é apenas um dos vários modelos criados pela\n",
      "empresa nos últimos anos. A seguir, apresentamos alguns dos principais modelos e suas funções:\n",
      "• GPT-4: Trata-se de um modelo de linguagem de grande escala (LLM) multimodal, que aceita\n",
      "================{'doc_id': 294, 'page': 6, 'source': 'Explorando a API da OpenAI.pdf'}\n",
      "\n",
      "\n",
      "Explorando a API da OpenAI\n",
      "A OpenAI\n",
      "Nosso objetivo é explorar a API da OpenAI, a maior desenvolvedora de ferramentas de inteligência\n",
      "artificial do mundo na atualidade. O modelo ChatGPT é apenas um dos vários modelos criados pela\n",
      "empresa nos últimos anos. A seguir, apresentamos alguns dos principais modelos e suas funções:\n",
      "• GPT-4: Trata-se de um modelo de linguagem de grande escala (LLM) multimodal, que aceita\n",
      "================{'doc_id': 556, 'page': 6, 'source': 'Explorando a API da OpenAI.pdf'}\n",
      "\n",
      "\n"
     ]
    }
   ],
   "source": [
    "pergunta = 'O que a apostila de HuggingFace fala sobre a OpenAI e o ChatGPT?'\n",
    "\n",
    "docs = vectordb.similarity_search(\n",
    "    pergunta, \n",
    "    k=3, \n",
    "    filter={'source': {'$in':['Explorando o Universo das IAs com Hugging Face.pdf', 'Explorando a API da OpenAI.pdf']}})\n",
    "\n",
    "for doc in docs:\n",
    "    print(doc.page_content)\n",
    "    print(f'================{doc.metadata}\\n\\n')"
   ]
  },
  {
   "cell_type": "code",
   "execution_count": 17,
   "id": "4e002c08",
   "metadata": {},
   "outputs": [
    {
     "name": "stdout",
     "output_type": "stream",
     "text": [
      "Explorando o Universo das IAs com Hugging Face\n",
      "Nas próximas aulas, vamos aprender aos poucos a usar toda a informação contida nesta plataforma!\n",
      "Asimov Academy 13\n",
      "================{'doc_id': 42, 'page': 13, 'source': 'Explorando o Universo das IAs com Hugging Face.pdf'}\n",
      "\n",
      "\n",
      "Explorando o Universo das IAs com Hugging Face\n",
      "Figure 6: Página dos Spaces.\n",
      "Cada Space funciona de acordo com o modelo de IA que está rodando nele. Por debaixo dos panos,\n",
      "estes webapps utilizam a biblioteca gradio, que possui relação próxima com o Hugging Face.\n",
      "Asimov Academy 11\n",
      "================{'doc_id': 40, 'page': 11, 'source': 'Explorando o Universo das IAs com Hugging Face.pdf'}\n",
      "\n",
      "\n",
      "Explorando o Universo das IAs com Hugging Face\n",
      "Figure 7: Exemplo de webapp de IA rodando em um Space.\n",
      "Asimov Academy 12\n",
      "================{'doc_id': 41, 'page': 12, 'source': 'Explorando o Universo das IAs com Hugging Face.pdf'}\n",
      "\n",
      "\n"
     ]
    }
   ],
   "source": [
    "pergunta = 'O que a apostila de HuggingFace fala sobre a OpenAI e o ChatGPT?'\n",
    "\n",
    "docs = vectordb.similarity_search(\n",
    "    pergunta, \n",
    "    k=3, \n",
    "    filter={'$and':\n",
    "        [\n",
    "            {'source': {'$in':['Explorando o Universo das IAs com Hugging Face.pdf', 'Explorando a API da OpenAI.pdf']}},\n",
    "            {'page': {'$in': [10, 11, 12, 13]}}\n",
    "        ],\n",
    "        })\n",
    "\n",
    "for doc in docs:\n",
    "    print(doc.page_content)\n",
    "    print(f'================{doc.metadata}\\n\\n')"
   ]
  },
  {
   "attachments": {},
   "cell_type": "markdown",
   "id": "880c8af2",
   "metadata": {},
   "source": [
    "## LLM Aided Retrieval"
   ]
  },
  {
   "cell_type": "code",
   "execution_count": 7,
   "id": "fd9eefb1",
   "metadata": {},
   "outputs": [],
   "source": [
    "from langchain_openai.llms import OpenAI\n",
    "from langchain.retrievers.self_query.base import SelfQueryRetriever\n",
    "from langchain.chains.query_constructor.schema import AttributeInfo"
   ]
  },
  {
   "cell_type": "code",
   "execution_count": 8,
   "id": "80182465",
   "metadata": {},
   "outputs": [],
   "source": [
    "metadata_info = [\n",
    "    AttributeInfo(\n",
    "        name='source',\n",
    "        description='Nome da apostila de onde o texto original foi retirado. Deve ter o valor de: \\\n",
    "            Explorando o Universo das IAs com Hugging Face.pdf ou Explorando a API da OpenAI.pdf',\n",
    "        type='string'\n",
    "    ),\n",
    "    AttributeInfo(\n",
    "        name='page',\n",
    "        description='A página da apostila de onde o texto se origina',\n",
    "        type='integer'\n",
    "    )\n",
    "]"
   ]
  },
  {
   "cell_type": "code",
   "execution_count": 18,
   "id": "93367f4e",
   "metadata": {},
   "outputs": [],
   "source": [
    "document_description = 'Apostila de curso'\n",
    "llm = OpenAI()\n",
    "retriever = SelfQueryRetriever.from_llm(\n",
    "    llm,\n",
    "    vectordb, \n",
    "    document_description,\n",
    "    metadata_info,\n",
    "    verbose=True\n",
    ")"
   ]
  },
  {
   "cell_type": "code",
   "execution_count": 23,
   "id": "2559461f",
   "metadata": {},
   "outputs": [
    {
     "name": "stdout",
     "output_type": "stream",
     "text": [
      "\u001b[32;1m\u001b[1;3m[chain/start]\u001b[0m \u001b[1m[retriever:SelfQueryRetriever > chain:query_constructor] Entering Chain run with input:\n",
      "\u001b[0m{\n",
      "  \"query\": \"O que a apostila de HuggingFace fala sobre a OpenAI e o ChatGPT?\"\n",
      "}\n",
      "\u001b[32;1m\u001b[1;3m[chain/start]\u001b[0m \u001b[1m[retriever:SelfQueryRetriever > chain:query_constructor > prompt:FewShotPromptTemplate] Entering Prompt run with input:\n",
      "\u001b[0m{\n",
      "  \"query\": \"O que a apostila de HuggingFace fala sobre a OpenAI e o ChatGPT?\"\n",
      "}\n",
      "\u001b[36;1m\u001b[1;3m[chain/end]\u001b[0m \u001b[1m[retriever:SelfQueryRetriever > chain:query_constructor > prompt:FewShotPromptTemplate] [1ms] Exiting Prompt run with output:\n",
      "\u001b[0m[outputs]\n",
      "\u001b[32;1m\u001b[1;3m[llm/start]\u001b[0m \u001b[1m[retriever:SelfQueryRetriever > chain:query_constructor > llm:OpenAI] Entering LLM run with input:\n",
      "\u001b[0m{\n",
      "  \"prompts\": [\n",
      "    \"Your goal is to structure the user's query to match the request schema provided below.\\n\\n<< Structured Request Schema >>\\nWhen responding use a markdown code snippet with a JSON object formatted in the following schema:\\n\\n```json\\n{\\n    \\\"query\\\": string \\\\ text string to compare to document contents\\n    \\\"filter\\\": string \\\\ logical condition statement for filtering documents\\n}\\n```\\n\\nThe query string should contain only text that is expected to match the contents of documents. Any conditions in the filter should not be mentioned in the query as well.\\n\\nA logical condition statement is composed of one or more comparison and logical operation statements.\\n\\nA comparison statement takes the form: `comp(attr, val)`:\\n- `comp` (eq | ne | gt | gte | lt | lte): comparator\\n- `attr` (string):  name of attribute to apply the comparison to\\n- `val` (string): is the comparison value\\n\\nA logical operation statement takes the form `op(statement1, statement2, ...)`:\\n- `op` (and | or): logical operator\\n- `statement1`, `statement2`, ... (comparison statements or logical operation statements): one or more statements to apply the operation to\\n\\nMake sure that you only use the comparators and logical operators listed above and no others.\\nMake sure that filters only refer to attributes that exist in the data source.\\nMake sure that filters only use the attributed names with its function names if there are functions applied on them.\\nMake sure that filters only use format `YYYY-MM-DD` when handling date data typed values.\\nMake sure that filters take into account the descriptions of attributes and only make comparisons that are feasible given the type of data being stored.\\nMake sure that filters are only used as needed. If there are no filters that should be applied return \\\"NO_FILTER\\\" for the filter value.\\n\\n<< Example 1. >>\\nData Source:\\n```json\\n{\\n    \\\"content\\\": \\\"Lyrics of a song\\\",\\n    \\\"attributes\\\": {\\n        \\\"artist\\\": {\\n            \\\"type\\\": \\\"string\\\",\\n            \\\"description\\\": \\\"Name of the song artist\\\"\\n        },\\n        \\\"length\\\": {\\n            \\\"type\\\": \\\"integer\\\",\\n            \\\"description\\\": \\\"Length of the song in seconds\\\"\\n        },\\n        \\\"genre\\\": {\\n            \\\"type\\\": \\\"string\\\",\\n            \\\"description\\\": \\\"The song genre, one of \\\"pop\\\", \\\"rock\\\" or \\\"rap\\\"\\\"\\n        }\\n    }\\n}\\n```\\n\\nUser Query:\\nWhat are songs by Taylor Swift or Katy Perry about teenage romance under 3 minutes long in the dance pop genre\\n\\nStructured Request:\\n```json\\n{\\n    \\\"query\\\": \\\"teenager love\\\",\\n    \\\"filter\\\": \\\"and(or(eq(\\\\\\\"artist\\\\\\\", \\\\\\\"Taylor Swift\\\\\\\"), eq(\\\\\\\"artist\\\\\\\", \\\\\\\"Katy Perry\\\\\\\")), lt(\\\\\\\"length\\\\\\\", 180), eq(\\\\\\\"genre\\\\\\\", \\\\\\\"pop\\\\\\\"))\\\"\\n}\\n```\\n\\n\\n<< Example 2. >>\\nData Source:\\n```json\\n{\\n    \\\"content\\\": \\\"Lyrics of a song\\\",\\n    \\\"attributes\\\": {\\n        \\\"artist\\\": {\\n            \\\"type\\\": \\\"string\\\",\\n            \\\"description\\\": \\\"Name of the song artist\\\"\\n        },\\n        \\\"length\\\": {\\n            \\\"type\\\": \\\"integer\\\",\\n            \\\"description\\\": \\\"Length of the song in seconds\\\"\\n        },\\n        \\\"genre\\\": {\\n            \\\"type\\\": \\\"string\\\",\\n            \\\"description\\\": \\\"The song genre, one of \\\"pop\\\", \\\"rock\\\" or \\\"rap\\\"\\\"\\n        }\\n    }\\n}\\n```\\n\\nUser Query:\\nWhat are songs that were not published on Spotify\\n\\nStructured Request:\\n```json\\n{\\n    \\\"query\\\": \\\"\\\",\\n    \\\"filter\\\": \\\"NO_FILTER\\\"\\n}\\n```\\n\\n\\n<< Example 3. >>\\nData Source:\\n```json\\n{\\n    \\\"content\\\": \\\"Apostila de curso\\\",\\n    \\\"attributes\\\": {\\n    \\\"source\\\": {\\n        \\\"description\\\": \\\"Nome da apostila de onde o texto original foi retirado. Deve ter o valor de:             Explorando o Universo das IAs com Hugging Face.pdf ou Explorando a API da OpenAI.pdf\\\",\\n        \\\"type\\\": \\\"string\\\"\\n    },\\n    \\\"page\\\": {\\n        \\\"description\\\": \\\"A p\\\\u00e1gina da apostila de onde o texto se origina\\\",\\n        \\\"type\\\": \\\"integer\\\"\\n    }\\n}\\n}\\n```\\n\\nUser Query:\\nO que a apostila de HuggingFace fala sobre a OpenAI e o ChatGPT?\\n\\nStructured Request:\"\n",
      "  ]\n",
      "}\n",
      "\u001b[36;1m\u001b[1;3m[llm/end]\u001b[0m \u001b[1m[retriever:SelfQueryRetriever > chain:query_constructor > llm:OpenAI] [2.27s] Exiting LLM run with output:\n",
      "\u001b[0m{\n",
      "  \"generations\": [\n",
      "    [\n",
      "      {\n",
      "        \"text\": \"```json\\n{\\n    \\\"query\\\": \\\"OpenAI AND ChatGPT\\\",\\n    \\\"filter\\\": \\\"eq(\\\\\\\"source\\\\\\\", \\\\\\\"Explorando o Universo das IAs com Hugging Face.pdf\\\\\\\")\\\"\\n}\\n```\",\n",
      "        \"generation_info\": {\n",
      "          \"finish_reason\": \"stop\",\n",
      "          \"logprobs\": null\n",
      "        },\n",
      "        \"type\": \"Generation\"\n",
      "      }\n",
      "    ]\n",
      "  ],\n",
      "  \"llm_output\": {\n",
      "    \"token_usage\": {\n",
      "      \"total_tokens\": 945,\n",
      "      \"prompt_tokens\": 901,\n",
      "      \"completion_tokens\": 44\n",
      "    },\n",
      "    \"model_name\": \"gpt-3.5-turbo-instruct\"\n",
      "  },\n",
      "  \"run\": null,\n",
      "  \"type\": \"LLMResult\"\n",
      "}\n",
      "\u001b[32;1m\u001b[1;3m[chain/start]\u001b[0m \u001b[1m[retriever:SelfQueryRetriever > chain:query_constructor > parser:StructuredQueryOutputParser] Entering Parser run with input:\n",
      "\u001b[0m{\n",
      "  \"input\": \"```json\\n{\\n    \\\"query\\\": \\\"OpenAI AND ChatGPT\\\",\\n    \\\"filter\\\": \\\"eq(\\\\\\\"source\\\\\\\", \\\\\\\"Explorando o Universo das IAs com Hugging Face.pdf\\\\\\\")\\\"\\n}\\n```\"\n",
      "}\n",
      "\u001b[36;1m\u001b[1;3m[chain/end]\u001b[0m \u001b[1m[retriever:SelfQueryRetriever > chain:query_constructor > parser:StructuredQueryOutputParser] [1ms] Exiting Parser run with output:\n",
      "\u001b[0m[outputs]\n",
      "\u001b[36;1m\u001b[1;3m[chain/end]\u001b[0m \u001b[1m[retriever:SelfQueryRetriever > chain:query_constructor] [2.27s] Exiting Chain run with output:\n",
      "\u001b[0m[outputs]\n",
      "Explorando o Universo das IAs com Hugging Face\n",
      "06. Modelos de conversação e geração de texto (chatbots)\n",
      "Vamos aprender agora a usar modelos de conversação, que funcionam de forma parecida com chatbots\n",
      "como ChatGPT . Na realidade, estes modelos estão classificados na tarefa de geração de texto (text\n",
      "generation) no Hugging Face:\n",
      "Figure 16: Página principal da tarefatext-generation do Hugging Face.\n",
      "Vamos utilizar o modelo Felladrin/Llama-68M-Chat-v1, disponível no link a seguir:\n",
      "================{'doc_id': 86, 'page': 29, 'source': 'Explorando o Universo das IAs com Hugging Face.pdf'}\n",
      "\n",
      "\n",
      "Explorando o Universo das IAs com Hugging Face\n",
      "06. Modelos de conversação e geração de texto (chatbots)\n",
      "Vamos aprender agora a usar modelos de conversação, que funcionam de forma parecida com chatbots\n",
      "como ChatGPT . Na realidade, estes modelos estão classificados na tarefa de geração de texto (text\n",
      "generation) no Hugging Face:\n",
      "Figure 16: Página principal da tarefatext-generation do Hugging Face.\n",
      "Vamos utilizar o modelo Felladrin/Llama-68M-Chat-v1, disponível no link a seguir:\n",
      "================{'doc_id': 86, 'page': 29, 'source': 'Explorando o Universo das IAs com Hugging Face.pdf'}\n",
      "\n",
      "\n",
      "\\n\\nContext:\\nIn addition to chatbots, there are many other AI-powered chatbots that can\n",
      "be used for humanitarian purposes. AI is the most widely used, and it has a wide range of\n",
      "applications across a wide range of industries. Human beings, on the other hand, are a\n",
      "number of machines that can perform tasks that are not in the same way as humans do.\n",
      "Human beings have the ability to communicate with humans, and they 're able to communicate\n",
      "================{'doc_id': 98, 'page': 32, 'source': 'Explorando o Universo das IAs com Hugging Face.pdf'}\n",
      "\n",
      "\n",
      "\\n\\nContext:\\nIn addition to chatbots, there are many other AI-powered chatbots that can\n",
      "be used for humanitarian purposes. AI is the most widely used, and it has a wide range of\n",
      "applications across a wide range of industries. Human beings, on the other hand, are a\n",
      "number of machines that can perform tasks that are not in the same way as humans do.\n",
      "Human beings have the ability to communicate with humans, and they 're able to communicate\n",
      "================{'doc_id': 98, 'page': 32, 'source': 'Explorando o Universo das IAs com Hugging Face.pdf'}\n",
      "\n",
      "\n"
     ]
    }
   ],
   "source": [
    "pergunta = 'O que a apostila de HuggingFace fala sobre a OpenAI e o ChatGPT?'\n",
    "\n",
    "docs = retriever.get_relevant_documents(pergunta)\n",
    "\n",
    "for doc in docs:\n",
    "    print(doc.page_content)\n",
    "    print(f'================{doc.metadata}\\n\\n')"
   ]
  },
  {
   "cell_type": "code",
   "execution_count": 27,
   "id": "962c635a",
   "metadata": {},
   "outputs": [
    {
     "name": "stdout",
     "output_type": "stream",
     "text": [
      "Explorando a API da OpenAI\n",
      "Usos comuns\n",
      "Alguns casos de uso comuns nos quais o fine-tuning pode aprimorar os resultados incluem:\n",
      "• Definir o estilo, tom, formato ou outros aspectos qualitativos.\n",
      "• Aumentar a confiabilidade na geração de uma saída desejada.\n",
      "• Corrigir falhas ao seguir instruções complexas.\n",
      "• Lidar com muitos casos atípicos de maneiras específicas.\n",
      "• Aprender uma nova habilidade ou realizar uma tarefa difícil de articular em uma instrução.\n",
      "================{'doc_id': 402, 'page': 44, 'source': 'Explorando a API da OpenAI.pdf'}\n",
      "\n",
      "\n",
      "Explorando a API da OpenAI\n",
      "Usos comuns\n",
      "Alguns casos de uso comuns nos quais o fine-tuning pode aprimorar os resultados incluem:\n",
      "• Definir o estilo, tom, formato ou outros aspectos qualitativos.\n",
      "• Aumentar a confiabilidade na geração de uma saída desejada.\n",
      "• Corrigir falhas ao seguir instruções complexas.\n",
      "• Lidar com muitos casos atípicos de maneiras específicas.\n",
      "• Aprender uma nova habilidade ou realizar uma tarefa difícil de articular em uma instrução.\n",
      "================{'doc_id': 664, 'page': 44, 'source': 'Explorando a API da OpenAI.pdf'}\n",
      "\n",
      "\n",
      "Explorando a API da OpenAI\n",
      "Usos comuns\n",
      "Alguns casos de uso comuns nos quais o fine-tuning pode aprimorar os resultados incluem:\n",
      "• Definir o estilo, tom, formato ou outros aspectos qualitativos.\n",
      "• Aumentar a confiabilidade na geração de uma saída desejada.\n",
      "• Corrigir falhas ao seguir instruções complexas.\n",
      "• Lidar com muitos casos atípicos de maneiras específicas.\n",
      "• Aprender uma nova habilidade ou realizar uma tarefa difícil de articular em uma instrução.\n",
      "================{'doc_id': 402, 'page': 44, 'source': 'Explorando a API da OpenAI.pdf'}\n",
      "\n",
      "\n",
      "Explorando a API da OpenAI\n",
      "Usos comuns\n",
      "Alguns casos de uso comuns nos quais o fine-tuning pode aprimorar os resultados incluem:\n",
      "• Definir o estilo, tom, formato ou outros aspectos qualitativos.\n",
      "• Aumentar a confiabilidade na geração de uma saída desejada.\n",
      "• Corrigir falhas ao seguir instruções complexas.\n",
      "• Lidar com muitos casos atípicos de maneiras específicas.\n",
      "• Aprender uma nova habilidade ou realizar uma tarefa difícil de articular em uma instrução.\n",
      "================{'doc_id': 664, 'page': 44, 'source': 'Explorando a API da OpenAI.pdf'}\n",
      "\n",
      "\n"
     ]
    }
   ],
   "source": [
    "pergunta = 'Quais detalhes são descritos na página 44 da apostila Explorando a API da OpenAI.pdf?'\n",
    "\n",
    "docs = retriever.get_relevant_documents(pergunta)\n",
    "\n",
    "for doc in docs:\n",
    "    print(doc.page_content)\n",
    "    print(f'================{doc.metadata}\\n\\n')"
   ]
  },
  {
   "cell_type": "code",
   "execution_count": null,
   "id": "ff97c9c0",
   "metadata": {},
   "outputs": [
    {
     "name": "stdout",
     "output_type": "stream",
     "text": [
      "\u001b[32;1m\u001b[1;3m[chain/start]\u001b[0m \u001b[1m[retriever:SelfQueryRetriever > chain:query_constructor] Entering Chain run with input:\n",
      "\u001b[0m{\n",
      "  \"query\": \"Quais detalhes são descritos na página 44 da apostila Explorando a API da OpenAI.pdf?\"\n",
      "}\n",
      "\u001b[32;1m\u001b[1;3m[chain/start]\u001b[0m \u001b[1m[retriever:SelfQueryRetriever > chain:query_constructor > prompt:FewShotPromptTemplate] Entering Prompt run with input:\n",
      "\u001b[0m{\n",
      "  \"query\": \"Quais detalhes são descritos na página 44 da apostila Explorando a API da OpenAI.pdf?\"\n",
      "}\n",
      "\u001b[36;1m\u001b[1;3m[chain/end]\u001b[0m \u001b[1m[retriever:SelfQueryRetriever > chain:query_constructor > prompt:FewShotPromptTemplate] [0ms] Exiting Prompt run with output:\n",
      "\u001b[0m[outputs]\n",
      "\u001b[32;1m\u001b[1;3m[llm/start]\u001b[0m \u001b[1m[retriever:SelfQueryRetriever > chain:query_constructor > llm:OpenAI] Entering LLM run with input:\n",
      "\u001b[0m{\n",
      "  \"prompts\": [\n",
      "    \"Your goal is to structure the user's query to match the request schema provided below.\\n\\n<< Structured Request Schema >>\\nWhen responding use a markdown code snippet with a JSON object formatted in the following schema:\\n\\n```json\\n{\\n    \\\"query\\\": string \\\\ text string to compare to document contents\\n    \\\"filter\\\": string \\\\ logical condition statement for filtering documents\\n}\\n```\\n\\nThe query string should contain only text that is expected to match the contents of documents. Any conditions in the filter should not be mentioned in the query as well.\\n\\nA logical condition statement is composed of one or more comparison and logical operation statements.\\n\\nA comparison statement takes the form: `comp(attr, val)`:\\n- `comp` (eq | ne | gt | gte | lt | lte): comparator\\n- `attr` (string):  name of attribute to apply the comparison to\\n- `val` (string): is the comparison value\\n\\nA logical operation statement takes the form `op(statement1, statement2, ...)`:\\n- `op` (and | or): logical operator\\n- `statement1`, `statement2`, ... (comparison statements or logical operation statements): one or more statements to apply the operation to\\n\\nMake sure that you only use the comparators and logical operators listed above and no others.\\nMake sure that filters only refer to attributes that exist in the data source.\\nMake sure that filters only use the attributed names with its function names if there are functions applied on them.\\nMake sure that filters only use format `YYYY-MM-DD` when handling date data typed values.\\nMake sure that filters take into account the descriptions of attributes and only make comparisons that are feasible given the type of data being stored.\\nMake sure that filters are only used as needed. If there are no filters that should be applied return \\\"NO_FILTER\\\" for the filter value.\\n\\n<< Example 1. >>\\nData Source:\\n```json\\n{\\n    \\\"content\\\": \\\"Lyrics of a song\\\",\\n    \\\"attributes\\\": {\\n        \\\"artist\\\": {\\n            \\\"type\\\": \\\"string\\\",\\n            \\\"description\\\": \\\"Name of the song artist\\\"\\n        },\\n        \\\"length\\\": {\\n            \\\"type\\\": \\\"integer\\\",\\n            \\\"description\\\": \\\"Length of the song in seconds\\\"\\n        },\\n        \\\"genre\\\": {\\n            \\\"type\\\": \\\"string\\\",\\n            \\\"description\\\": \\\"The song genre, one of \\\"pop\\\", \\\"rock\\\" or \\\"rap\\\"\\\"\\n        }\\n    }\\n}\\n```\\n\\nUser Query:\\nWhat are songs by Taylor Swift or Katy Perry about teenage romance under 3 minutes long in the dance pop genre\\n\\nStructured Request:\\n```json\\n{\\n    \\\"query\\\": \\\"teenager love\\\",\\n    \\\"filter\\\": \\\"and(or(eq(\\\\\\\"artist\\\\\\\", \\\\\\\"Taylor Swift\\\\\\\"), eq(\\\\\\\"artist\\\\\\\", \\\\\\\"Katy Perry\\\\\\\")), lt(\\\\\\\"length\\\\\\\", 180), eq(\\\\\\\"genre\\\\\\\", \\\\\\\"pop\\\\\\\"))\\\"\\n}\\n```\\n\\n\\n<< Example 2. >>\\nData Source:\\n```json\\n{\\n    \\\"content\\\": \\\"Lyrics of a song\\\",\\n    \\\"attributes\\\": {\\n        \\\"artist\\\": {\\n            \\\"type\\\": \\\"string\\\",\\n            \\\"description\\\": \\\"Name of the song artist\\\"\\n        },\\n        \\\"length\\\": {\\n            \\\"type\\\": \\\"integer\\\",\\n            \\\"description\\\": \\\"Length of the song in seconds\\\"\\n        },\\n        \\\"genre\\\": {\\n            \\\"type\\\": \\\"string\\\",\\n            \\\"description\\\": \\\"The song genre, one of \\\"pop\\\", \\\"rock\\\" or \\\"rap\\\"\\\"\\n        }\\n    }\\n}\\n```\\n\\nUser Query:\\nWhat are songs that were not published on Spotify\\n\\nStructured Request:\\n```json\\n{\\n    \\\"query\\\": \\\"\\\",\\n    \\\"filter\\\": \\\"NO_FILTER\\\"\\n}\\n```\\n\\n\\n<< Example 3. >>\\nData Source:\\n```json\\n{\\n    \\\"content\\\": \\\"Apostila de curso\\\",\\n    \\\"attributes\\\": {\\n    \\\"source\\\": {\\n        \\\"description\\\": \\\"Nome da apostila de onde o texto original foi retirado. Deve ter o valor de:             Explorando o Universo das IAs com Hugging Face.pdf ou Explorando a API da OpenAI.pdf\\\",\\n        \\\"type\\\": \\\"string\\\"\\n    },\\n    \\\"page\\\": {\\n        \\\"description\\\": \\\"A p\\\\u00e1gina da apostila de onde o texto se origina\\\",\\n        \\\"type\\\": \\\"integer\\\"\\n    }\\n}\\n}\\n```\\n\\nUser Query:\\nQuais detalhes são descritos na página 44 da apostila Explorando a API da OpenAI.pdf?\\n\\nStructured Request:\"\n",
      "  ]\n",
      "}\n",
      "\u001b[36;1m\u001b[1;3m[llm/end]\u001b[0m \u001b[1m[retriever:SelfQueryRetriever > chain:query_constructor > llm:OpenAI] [1.50s] Exiting LLM run with output:\n",
      "\u001b[0m{\n",
      "  \"generations\": [\n",
      "    [\n",
      "      {\n",
      "        \"text\": \"```json\\n{\\n    \\\"query\\\": \\\"detalhes\\\",\\n    \\\"filter\\\": \\\"and(eq(\\\\\\\"source\\\\\\\", \\\\\\\"Explorando a API da OpenAI.pdf\\\\\\\"), eq(\\\\\\\"page\\\\\\\", 44))\\\"\\n}\\n```\",\n",
      "        \"generation_info\": {\n",
      "          \"finish_reason\": \"stop\",\n",
      "          \"logprobs\": null\n",
      "        },\n",
      "        \"type\": \"Generation\"\n",
      "      }\n",
      "    ]\n",
      "  ],\n",
      "  \"llm_output\": {\n",
      "    \"token_usage\": {\n",
      "      \"total_tokens\": 948,\n",
      "      \"prompt_tokens\": 904,\n",
      "      \"completion_tokens\": 44\n",
      "    },\n",
      "    \"model_name\": \"gpt-3.5-turbo-instruct\"\n",
      "  },\n",
      "  \"run\": null,\n",
      "  \"type\": \"LLMResult\"\n",
      "}\n",
      "\u001b[32;1m\u001b[1;3m[chain/start]\u001b[0m \u001b[1m[retriever:SelfQueryRetriever > chain:query_constructor > parser:StructuredQueryOutputParser] Entering Parser run with input:\n",
      "\u001b[0m{\n",
      "  \"input\": \"```json\\n{\\n    \\\"query\\\": \\\"detalhes\\\",\\n    \\\"filter\\\": \\\"and(eq(\\\\\\\"source\\\\\\\", \\\\\\\"Explorando a API da OpenAI.pdf\\\\\\\"), eq(\\\\\\\"page\\\\\\\", 44))\\\"\\n}\\n```\"\n",
      "}\n",
      "\u001b[36;1m\u001b[1;3m[chain/end]\u001b[0m \u001b[1m[retriever:SelfQueryRetriever > chain:query_constructor > parser:StructuredQueryOutputParser] [1ms] Exiting Parser run with output:\n",
      "\u001b[0m[outputs]\n",
      "\u001b[36;1m\u001b[1;3m[chain/end]\u001b[0m \u001b[1m[retriever:SelfQueryRetriever > chain:query_constructor] [1.50s] Exiting Chain run with output:\n",
      "\u001b[0m[outputs]\n",
      "Explorando a API da OpenAI\n",
      "Usos comuns\n",
      "Alguns casos de uso comuns nos quais o fine-tuning pode aprimorar os resultados incluem:\n",
      "• Definir o estilo, tom, formato ou outros aspectos qualitativos.\n",
      "• Aumentar a confiabilidade na geração de uma saída desejada.\n",
      "• Corrigir falhas ao seguir instruções complexas.\n",
      "• Lidar com muitos casos atípicos de maneiras específicas.\n",
      "• Aprender uma nova habilidade ou realizar uma tarefa difícil de articular em uma instrução.\n",
      "================{'doc_id': 402, 'page': 44, 'source': 'Explorando a API da OpenAI.pdf'}\n",
      "\n",
      "\n",
      "Explorando a API da OpenAI\n",
      "Usos comuns\n",
      "Alguns casos de uso comuns nos quais o fine-tuning pode aprimorar os resultados incluem:\n",
      "• Definir o estilo, tom, formato ou outros aspectos qualitativos.\n",
      "• Aumentar a confiabilidade na geração de uma saída desejada.\n",
      "• Corrigir falhas ao seguir instruções complexas.\n",
      "• Lidar com muitos casos atípicos de maneiras específicas.\n",
      "• Aprender uma nova habilidade ou realizar uma tarefa difícil de articular em uma instrução.\n",
      "================{'doc_id': 664, 'page': 44, 'source': 'Explorando a API da OpenAI.pdf'}\n",
      "\n",
      "\n",
      "Explorando a API da OpenAI\n",
      "Usos comuns\n",
      "Alguns casos de uso comuns nos quais o fine-tuning pode aprimorar os resultados incluem:\n",
      "• Definir o estilo, tom, formato ou outros aspectos qualitativos.\n",
      "• Aumentar a confiabilidade na geração de uma saída desejada.\n",
      "• Corrigir falhas ao seguir instruções complexas.\n",
      "• Lidar com muitos casos atípicos de maneiras específicas.\n",
      "• Aprender uma nova habilidade ou realizar uma tarefa difícil de articular em uma instrução.\n",
      "================{'doc_id': 402, 'page': 44, 'source': 'Explorando a API da OpenAI.pdf'}\n",
      "\n",
      "\n",
      "Explorando a API da OpenAI\n",
      "Usos comuns\n",
      "Alguns casos de uso comuns nos quais o fine-tuning pode aprimorar os resultados incluem:\n",
      "• Definir o estilo, tom, formato ou outros aspectos qualitativos.\n",
      "• Aumentar a confiabilidade na geração de uma saída desejada.\n",
      "• Corrigir falhas ao seguir instruções complexas.\n",
      "• Lidar com muitos casos atípicos de maneiras específicas.\n",
      "• Aprender uma nova habilidade ou realizar uma tarefa difícil de articular em uma instrução.\n",
      "================{'doc_id': 664, 'page': 44, 'source': 'Explorando a API da OpenAI.pdf'}\n",
      "\n",
      "\n"
     ]
    }
   ],
   "source": [
    "from langchain.globals import set_debug\n",
    "\n",
    "set_debug(True)\n",
    "\n",
    "pergunta = 'Quais detalhes são descritos na página 44 da apostila Explorando a API da OpenAI.pdf?'\n",
    "\n",
    "docs = retriever.get_relevant_documents(pergunta)\n",
    "\n",
    "for doc in docs:\n",
    "    print(doc.page_content)\n",
    "    print(f'================{doc.metadata}\\n\\n')"
   ]
  },
  {
   "cell_type": "code",
   "execution_count": 28,
   "id": "a5b28665",
   "metadata": {},
   "outputs": [
    {
     "name": "stdout",
     "output_type": "stream",
     "text": [
      "{\n",
      "    \"query\": \"detalhes\",\n",
      "    \"filter\": \"and(eq(\\\"source\\\", \\\"Explorando a API da OpenAI.pdf\\\"), eq(\\\"page\\\", 44))\"\n",
      "}\n"
     ]
    }
   ],
   "source": [
    "import json\n",
    "\n",
    "_json = '{\\n    \\\"query\\\": \\\"detalhes\\\",\\n    \\\"filter\\\": \\\"and(eq(\\\\\\\"source\\\\\\\", \\\\\\\"Explorando a API da OpenAI.pdf\\\\\\\"), eq(\\\\\\\"page\\\\\\\", 44))\\\"\\n}'\n",
    "print(json.dumps(json.loads(_json), indent=4))"
   ]
  }
 ],
 "metadata": {
  "kernelspec": {
   "display_name": "venv311",
   "language": "python",
   "name": "python3"
  },
  "language_info": {
   "codemirror_mode": {
    "name": "ipython",
    "version": 3
   },
   "file_extension": ".py",
   "mimetype": "text/x-python",
   "name": "python",
   "nbconvert_exporter": "python",
   "pygments_lexer": "ipython3",
   "version": "3.11.9"
  }
 },
 "nbformat": 4,
 "nbformat_minor": 5
}
