{
 "cells": [
  {
   "cell_type": "code",
   "execution_count": 3,
   "metadata": {},
   "outputs": [
    {
     "data": {
      "text/plain": [
       "True"
      ]
     },
     "execution_count": 3,
     "metadata": {},
     "output_type": "execute_result"
    }
   ],
   "source": [
    "from dotenv import load_dotenv\n",
    "load_dotenv()"
   ]
  },
  {
   "cell_type": "markdown",
   "metadata": {},
   "source": [
    "# Criando Chains mais complexas"
   ]
  },
  {
   "cell_type": "markdown",
   "metadata": {},
   "source": [
    "Agora que sabemos criar chains simples com LCEL, podemos começar a nos aventurar em chains mais complexas e compreender o verdadeiro poder do LangChain.\n",
    "\n",
    "Podemos utilizar a capacidade de compor chains, para criar chains de chains. Isso mesmo, podemos acoplar pequenos blocos de chains, domando-os para criar aplicações bem mais complexas e, consequentemente, mais poderosas. \n",
    "\n",
    "A capacidade de um modelo de linguagem aumenta drasticamente conforme mais espeífica for nossa chamada, e é isso que buscamos fazer ao quebrar uma aplicação em múltiplas cadeias."
   ]
  },
  {
   "cell_type": "markdown",
   "metadata": {},
   "source": [
    "## Somando chains"
   ]
  },
  {
   "cell_type": "code",
   "execution_count": 4,
   "metadata": {},
   "outputs": [],
   "source": [
    "from langchain_openai.chat_models import ChatOpenAI\n",
    "from langchain_core.prompts import ChatPromptTemplate as CPT\n",
    "from langchain_core.output_parsers import StrOutputParser\n",
    "\n",
    "prompt = CPT.from_template('Fale uma curiosidade sobre o assunto: {assunto}')\n",
    "chain_curiosidade = prompt | ChatOpenAI() | StrOutputParser()"
   ]
  },
  {
   "cell_type": "code",
   "execution_count": 5,
   "metadata": {},
   "outputs": [],
   "source": [
    "prompt = CPT.from_template('Crie uma história sobre o seguinte fato curioso: {assunto}')\n",
    "chain_historia = prompt| ChatOpenAI() | StrOutputParser()"
   ]
  },
  {
   "cell_type": "code",
   "execution_count": 6,
   "metadata": {},
   "outputs": [
    {
     "data": {
      "text/plain": [
       "'Havia um jovem chamado Alan Turing, um matemático brilhante e um dos maiores gênios de sua geração. Durante a Segunda Guerra Mundial, ele foi recrutado pelo governo britânico para trabalhar em Bletchley Park, um centro de inteligência onde se tentava quebrar os códigos secretos utilizados pelos nazistas.\\n\\nAlan Turing sabia que a tarefa não seria fácil, mas estava determinado a fazer tudo o que fosse necessário para ajudar os Aliados a vencer a guerra. Ele passava horas a fio trabalhando em complexos algoritmos e códigos, tentando encontrar uma maneira de decifrar o Enigma, a máquina de codificação utilizada pelos nazistas para enviar mensagens secretas.\\n\\nApós muito trabalho árduo e dedicação, Alan Turing finalmente conseguiu quebrar o código Enigma. Sua descoberta foi um marco histórico, pois permitiu aos Aliados interceptar e decodificar as mensagens dos nazistas, antecipando seus movimentos e conseguindo assim uma vantagem crucial no campo de batalha.\\n\\nGraças ao trabalho de Alan Turing e de sua equipe em Bletchley Park, os Aliados conseguiram vencer a guerra e libertar a Europa do jugo nazista. A contribuição de Turing foi fundamental para a vitória e seu nome ficou para sempre marcado na história como um herói que salvou milhares de vidas com sua genialidade e determinação.'"
      ]
     },
     "execution_count": 6,
     "metadata": {},
     "output_type": "execute_result"
    }
   ],
   "source": [
    "chain = chain_curiosidade | chain_historia\n",
    "\n",
    "chain.invoke({'assunto': 'Alan Turing'})"
   ]
  },
  {
   "cell_type": "markdown",
   "metadata": {},
   "source": [
    "## Como entender o que está acontecendo?\n",
    "\n",
    "Pra isso, podemos utilizar o [langSmith](https://smith.langchain.com/)"
   ]
  }
 ],
 "metadata": {
  "kernelspec": {
   "display_name": "venv311",
   "language": "python",
   "name": "python3"
  },
  "language_info": {
   "codemirror_mode": {
    "name": "ipython",
    "version": 3
   },
   "file_extension": ".py",
   "mimetype": "text/x-python",
   "name": "python",
   "nbconvert_exporter": "python",
   "pygments_lexer": "ipython3",
   "version": "3.11.9"
  }
 },
 "nbformat": 4,
 "nbformat_minor": 2
}
