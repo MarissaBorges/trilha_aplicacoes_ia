{
 "cells": [
  {
   "cell_type": "code",
   "execution_count": 1,
   "id": "05ca9998",
   "metadata": {},
   "outputs": [
    {
     "data": {
      "text/plain": [
       "True"
      ]
     },
     "execution_count": 1,
     "metadata": {},
     "output_type": "execute_result"
    }
   ],
   "source": [
    "from dotenv import load_dotenv\n",
    "load_dotenv()"
   ]
  },
  {
   "attachments": {},
   "cell_type": "markdown",
   "id": "13d7fc40",
   "metadata": {},
   "source": [
    "# Prompt Templates"
   ]
  },
  {
   "attachments": {},
   "cell_type": "markdown",
   "id": "74684558",
   "metadata": {},
   "source": [
    "Um prompt para um modelo de linguagem é um conjunto de instruções ou entradas fornecidas por um usuário para guiar a resposta do modelo, ajudando-o a entender o contexto e gerar uma saída baseada em linguagem relevante e coerente, como responder a perguntas, completar frases ou participar de uma conversa."
   ]
  },
  {
   "cell_type": "code",
   "execution_count": 25,
   "id": "8cbc0b22",
   "metadata": {},
   "outputs": [],
   "source": [
    "from langchain_openai.llms import OpenAI\n",
    "\n",
    "llm = OpenAI(model='gpt-4o-mini')"
   ]
  },
  {
   "cell_type": "code",
   "execution_count": 26,
   "id": "3053195a",
   "metadata": {},
   "outputs": [
    {
     "data": {
      "text/plain": [
       "PromptTemplate(input_variables=['pergunta'], input_types={}, partial_variables={}, template='\\nResponda a seguinte pergunta do usuário:\\n{pergunta}\\n')"
      ]
     },
     "execution_count": 26,
     "metadata": {},
     "output_type": "execute_result"
    }
   ],
   "source": [
    "from langchain.prompts import PromptTemplate\n",
    "\n",
    "prompt_template = PromptTemplate.from_template('''\n",
    "Responda a seguinte pergunta do usuário:\n",
    "{pergunta}\n",
    "''')\n",
    "prompt_template"
   ]
  },
  {
   "cell_type": "code",
   "execution_count": 27,
   "id": "1dea2724",
   "metadata": {},
   "outputs": [
    {
     "name": "stdout",
     "output_type": "stream",
     "text": [
      "\n",
      "Responda a seguinte pergunta do usuário:\n",
      "O que é um buraco negro?\n",
      "\n"
     ]
    }
   ],
   "source": [
    "print(prompt_template.format(pergunta='O que é um buraco negro?'))"
   ]
  },
  {
   "cell_type": "code",
   "execution_count": 28,
   "id": "08a1653a",
   "metadata": {},
   "outputs": [
    {
     "data": {
      "text/plain": [
       "PromptTemplate(input_variables=['n_palavras', 'pergunta'], input_types={}, partial_variables={}, template='\\nResponda a seguinte pergunta do usuário em até {n_palavras} palavras:\\n{pergunta}\\n')"
      ]
     },
     "execution_count": 28,
     "metadata": {},
     "output_type": "execute_result"
    }
   ],
   "source": [
    "from langchain.prompts import PromptTemplate\n",
    "\n",
    "prompt_template = PromptTemplate.from_template('''\n",
    "Responda a seguinte pergunta do usuário em até {n_palavras} palavras:\n",
    "{pergunta}\n",
    "''')\n",
    "prompt_template"
   ]
  },
  {
   "cell_type": "code",
   "execution_count": 29,
   "id": "39f3b9dc",
   "metadata": {},
   "outputs": [
    {
     "name": "stdout",
     "output_type": "stream",
     "text": [
      "\n",
      "Responda a seguinte pergunta do usuário em até 10 palavras:\n",
      "O que é um buraco negro?\n",
      "\n"
     ]
    }
   ],
   "source": [
    "print(prompt_template.format(n_palavras= 10, pergunta= 'O que é um buraco negro?'))"
   ]
  },
  {
   "cell_type": "code",
   "execution_count": 30,
   "id": "6a7c80ec",
   "metadata": {},
   "outputs": [
    {
     "name": "stdout",
     "output_type": "stream",
     "text": [
      "\n",
      "Responda a seguinte pergunta do usuário em até 10 palavras:\n",
      "O que é um buraco negro?\n",
      "\n"
     ]
    }
   ],
   "source": [
    "from langchain.prompts import PromptTemplate\n",
    "\n",
    "prompt_template = PromptTemplate.from_template('''\n",
    "Responda a seguinte pergunta do usuário em até {n_palavras} palavras:\n",
    "{pergunta}\n",
    "''', partial_variables={'n_palavras': 10})\n",
    "\n",
    "print(prompt_template.format(pergunta= 'O que é um buraco negro?'))"
   ]
  },
  {
   "attachments": {},
   "cell_type": "markdown",
   "id": "07d863c4",
   "metadata": {},
   "source": [
    "## Composing prompts | Unindo múltiplos prompts"
   ]
  },
  {
   "cell_type": "code",
   "execution_count": 31,
   "id": "d6bba172",
   "metadata": {},
   "outputs": [
    {
     "name": "stdout",
     "output_type": "stream",
     "text": [
      "input_variables=['lingua', 'n_palavras', 'pergunta'] input_types={} partial_variables={} template='\\nResponda a pergunta em até {n_palavras} palavras.\\nRetorne a resposta em {lingua}.\\nResposta a pergunta seguinte seguindo as intruções, {pergunta}'\n"
     ]
    }
   ],
   "source": [
    "from langchain.prompts import PromptTemplate\n",
    "\n",
    "template_word_count = PromptTemplate.from_template('''\n",
    "Responda a pergunta em até {n_palavras} palavras.''')\n",
    "\n",
    "template_lingua = PromptTemplate.from_template('''\n",
    "Retorne a resposta em {lingua}.''')\n",
    "\n",
    "template_final = (\n",
    "    template_word_count\n",
    "    + template_lingua\n",
    "    + '\\nResposta a pergunta seguinte seguindo as intruções, {pergunta}'\n",
    ")\n",
    "\n",
    "print(template_final)"
   ]
  },
  {
   "cell_type": "code",
   "execution_count": 32,
   "id": "30b57d51",
   "metadata": {},
   "outputs": [
    {
     "data": {
      "text/plain": [
       "'? \\nA star is a luminous celestial body in space.'"
      ]
     },
     "execution_count": 32,
     "metadata": {},
     "output_type": "execute_result"
    }
   ],
   "source": [
    "prompt = template_final.format(n_palavras= 10, lingua= 'inglês', pergunta= 'O que é uma estrela')\n",
    "llm.invoke(prompt)"
   ]
  },
  {
   "attachments": {},
   "cell_type": "markdown",
   "id": "9ed565fb",
   "metadata": {},
   "source": [
    "## Templates para Chat"
   ]
  },
  {
   "cell_type": "code",
   "execution_count": 45,
   "id": "ccf9d1cf",
   "metadata": {},
   "outputs": [
    {
     "data": {
      "text/plain": [
       "[HumanMessage(content='Essa é a minha dúvida: Quem sou eu?', additional_kwargs={}, response_metadata={})]"
      ]
     },
     "execution_count": 45,
     "metadata": {},
     "output_type": "execute_result"
    }
   ],
   "source": [
    "from langchain.prompts import ChatPromptTemplate\n",
    "from langchain_openai.chat_models import ChatOpenAI\n",
    "\n",
    "chat = ChatOpenAI(model= 'gpt-4o-mini')\n",
    "\n",
    "chat_template = ChatPromptTemplate.from_template('Essa é a minha dúvida: {duvida}')\n",
    "chat_template.format_messages(duvida= 'Quem sou eu?')"
   ]
  },
  {
   "cell_type": "code",
   "execution_count": 46,
   "id": "aedded29",
   "metadata": {},
   "outputs": [
    {
     "data": {
      "text/plain": [
       "ChatPromptTemplate(input_variables=['nome_assistente', 'pergunta'], input_types={}, partial_variables={}, messages=[SystemMessagePromptTemplate(prompt=PromptTemplate(input_variables=['nome_assistente'], input_types={}, partial_variables={}, template='Você é um assistente engraçado e se chama {nome_assistente}'), additional_kwargs={}), HumanMessagePromptTemplate(prompt=PromptTemplate(input_variables=[], input_types={}, partial_variables={}, template='Olá, como vai?'), additional_kwargs={}), AIMessagePromptTemplate(prompt=PromptTemplate(input_variables=[], input_types={}, partial_variables={}, template='Melhor agora! Como posso ajudá-lo?'), additional_kwargs={}), HumanMessagePromptTemplate(prompt=PromptTemplate(input_variables=['pergunta'], input_types={}, partial_variables={}, template='{pergunta}'), additional_kwargs={})])"
      ]
     },
     "execution_count": 46,
     "metadata": {},
     "output_type": "execute_result"
    }
   ],
   "source": [
    "from langchain.prompts import ChatPromptTemplate\n",
    "\n",
    "chat_template = ChatPromptTemplate.from_messages(\n",
    "    [\n",
    "        ('system', 'Você é um assistente engraçado e se chama {nome_assistente}'),\n",
    "        ('human', 'Olá, como vai?'),\n",
    "        ('ai', 'Melhor agora! Como posso ajudá-lo?'),\n",
    "        ('human', '{pergunta}')\n",
    "    ]\n",
    ")\n",
    "\n",
    "chat_template"
   ]
  },
  {
   "cell_type": "code",
   "execution_count": 53,
   "id": "02c0f2b4",
   "metadata": {},
   "outputs": [
    {
     "name": "stdout",
     "output_type": "stream",
     "text": [
      "[SystemMessage(content='Você é um assistente engraçado e se chama Robson', additional_kwargs={}, response_metadata={}), HumanMessage(content='Olá, como vai?', additional_kwargs={}, response_metadata={}), AIMessage(content='Melhor agora! Como posso ajudá-lo?', additional_kwargs={}, response_metadata={}), HumanMessage(content='Qual o seu nome?', additional_kwargs={}, response_metadata={})]\n"
     ]
    }
   ],
   "source": [
    "prompt = chat_template.format_messages(nome_assistente= 'Robson', pergunta= 'Qual o seu nome?')\n",
    "print(prompt)"
   ]
  },
  {
   "cell_type": "code",
   "execution_count": 54,
   "id": "0e8d7fc1",
   "metadata": {},
   "outputs": [
    {
     "name": "stdout",
     "output_type": "stream",
     "text": [
      "Eu me chamo Robson! Sou seu assistente engraçado e sempre pronto para dar uma risada. E o seu nome, qual é?\n"
     ]
    }
   ],
   "source": [
    "resposta = chat.invoke(prompt)\n",
    "print(resposta.content)"
   ]
  },
  {
   "attachments": {},
   "cell_type": "markdown",
   "id": "aeb5626f",
   "metadata": {},
   "source": [
    "## Templates de Few-shot prompting para llm"
   ]
  },
  {
   "cell_type": "code",
   "execution_count": 2,
   "id": "537fd702",
   "metadata": {},
   "outputs": [],
   "source": [
    "exemplos = [\n",
    "    {\"pergunta\": \"Quem viveu mais tempo, Muhammad Ali ou Alan Turing?\", \n",
    "     \"resposta\": \n",
    "     \"\"\"São necessárias perguntas de acompanhamento aqui: Sim. \n",
    "Pergunta de acompanhamento: Quantos anos Muhammad Ali tinha quando morreu? \n",
    "Resposta intermediária: Muhammad Ali tinha 74 anos quando morreu. \n",
    "Pergunta de acompanhamento: Quantos anos Alan Turing tinha quando morreu? \n",
    "Resposta intermediária: Alan Turing tinha 41 anos quando morreu. \n",
    "Então a resposta final é: Muhammad Ali \n",
    "\"\"\", \n",
    "    }, \n",
    "    {\"pergunta\": \"Quando nasceu o fundador do craigslist?\", \n",
    "     \"resposta\": \n",
    "\"\"\"São necessárias perguntas de acompanhamento aqui: Sim. \n",
    "Pergunta de acompanhamento: Quem foi o fundador do craigslist? \n",
    "Resposta intermediária: O craigslist foi fundado por Craig Newmark. \n",
    "Pergunta de acompanhamento: Quando nasceu Craig Newmark? \n",
    "Resposta intermediária: Craig Newmark nasceu em 6 de dezembro de 1952. \n",
    "Então a resposta final é: 6 de dezembro de 1952 \n",
    "\"\"\", \n",
    "    }, \n",
    "    {\"pergunta\": \"Quem foi o avô materno de George Washington?\",\n",
    "     \"resposta\": \n",
    "\"\"\"São necessárias perguntas de acompanhamento aqui: Sim. \n",
    "Pergunta de acompanhamento: Quem foi a mãe de George Washington? \n",
    "Resposta intermediária: A mãe de George Washington foi Mary Ball Washington. \n",
    "Pergunta de acompanhamento: Quem foi o pai de Mary Ball Washington? \n",
    "Resposta intermediária: O pai de Mary Ball Washington foi Joseph Ball. \n",
    "Então a resposta final é: Joseph Ball \n",
    "\"\"\", \n",
    "    },\n",
    "    {\"pergunta\": \"Os diretores de Jaws e Casino Royale são do mesmo país?\", \n",
    "     \"resposta\": \n",
    "\"\"\"São necessárias perguntas de acompanhamento aqui: Sim. \n",
    "Pergunta de acompanhamento: Quem é o diretor de Jaws? \n",
    "Resposta Intermediária: O diretor de Jaws é Steven Spielberg. \n",
    "Pergunta de acompanhamento: De onde é Steven Spielberg? \n",
    "Resposta Intermediária: Estados Unidos. \n",
    "Pergunta de acompanhamento: Quem é o diretor de Casino Royale? \n",
    "Resposta Intermediária: O diretor de Casino Royale é Martin Campbell. \n",
    "Pergunta de acompanhamento: De onde é Martin Campbell? \n",
    "Resposta Intermediária: Nova Zelândia. \n",
    "Então a resposta final é: Não \n",
    "\"\"\",\n",
    "    },\n",
    "]"
   ]
  },
  {
   "cell_type": "code",
   "execution_count": 3,
   "id": "ddb84648",
   "metadata": {},
   "outputs": [
    {
     "name": "stdout",
     "output_type": "stream",
     "text": [
      "Pergunta Quem viveu mais tempo, Muhammad Ali ou Alan Turing? \n",
      "São necessárias perguntas de acompanhamento aqui: Sim. \n",
      "Pergunta de acompanhamento: Quantos anos Muhammad Ali tinha quando morreu? \n",
      "Resposta intermediária: Muhammad Ali tinha 74 anos quando morreu. \n",
      "Pergunta de acompanhamento: Quantos anos Alan Turing tinha quando morreu? \n",
      "Resposta intermediária: Alan Turing tinha 41 anos quando morreu. \n",
      "Então a resposta final é: Muhammad Ali \n",
      "\n"
     ]
    }
   ],
   "source": [
    "from langchain.prompts.few_shot import FewShotPromptTemplate\n",
    "from langchain.prompts.prompt import PromptTemplate\n",
    "\n",
    "example_prompt = PromptTemplate(\n",
    "    input_variables=['pergunta', 'resposta'],\n",
    "    template= 'Pergunta {pergunta} \\n{resposta}'\n",
    ")\n",
    "\n",
    "print(example_prompt.format(**exemplos[0]))"
   ]
  },
  {
   "cell_type": "code",
   "execution_count": 64,
   "id": "8b8fc51c",
   "metadata": {},
   "outputs": [
    {
     "data": {
      "text/plain": [
       "FewShotPromptTemplate(input_variables=['input'], input_types={}, partial_variables={}, examples=[{'pergunta': 'Quem viveu mais tempo, Muhammad Ali ou Alan Turing?', 'resposta': 'São necessárias perguntas de acompanhamento aqui: Sim. \\nPergunta de acompanhamento: Quantos anos Muhammad Ali tinha quando morreu? \\nResposta intermediária: Muhammad Ali tinha 74 anos quando morreu. \\nPergunta de acompanhamento: Quantos anos Alan Turing tinha quando morreu? \\nResposta intermediária: Alan Turing tinha 41 anos quando morreu. \\nEntão a resposta final é: Muhammad Ali \\n'}, {'pergunta': 'Quando nasceu o fundador do craigslist?', 'resposta': 'São necessárias perguntas de acompanhamento aqui: Sim. \\nPergunta de acompanhamento: Quem foi o fundador do craigslist? \\nResposta intermediária: O craigslist foi fundado por Craig Newmark. \\nPergunta de acompanhamento: Quando nasceu Craig Newmark? \\nResposta intermediária: Craig Newmark nasceu em 6 de dezembro de 1952. \\nEntão a resposta final é: 6 de dezembro de 1952 \\n'}, {'pergunta': 'Quem foi o avô materno de George Washington?', 'resposta': 'São necessárias perguntas de acompanhamento aqui: Sim. \\nPergunta de acompanhamento: Quem foi a mãe de George Washington? \\nResposta intermediária: A mãe de George Washington foi Mary Ball Washington. \\nPergunta de acompanhamento: Quem foi o pai de Mary Ball Washington? \\nResposta intermediária: O pai de Mary Ball Washington foi Joseph Ball. \\nEntão a resposta final é: Joseph Ball \\n'}, {'pergunta': 'Os diretores de Jaws e Casino Royale são do mesmo país?', 'resposta': 'São necessárias perguntas de acompanhamento aqui: Sim. \\nPergunta de acompanhamento: Quem é o diretor de Jaws? \\nResposta Intermediária: O diretor de Jaws é Steven Spielberg. \\nPergunta de acompanhamento: De onde é Steven Spielberg? \\nResposta Intermediária: Estados Unidos. \\nPergunta de acompanhamento: Quem é o diretor de Casino Royale? \\nResposta Intermediária: O diretor de Casino Royale é Martin Campbell. \\nPergunta de acompanhamento: De onde é Martin Campbell? \\nResposta Intermediária: Nova Zelândia. \\nEntão a resposta final é: Não \\n'}], example_prompt=PromptTemplate(input_variables=['pergunta', 'resposta'], input_types={}, partial_variables={}, template='Pergunta {pergunta} \\n{resposta}'), suffix='Pergunta: {input}')"
      ]
     },
     "execution_count": 64,
     "metadata": {},
     "output_type": "execute_result"
    }
   ],
   "source": [
    "prompt = FewShotPromptTemplate(\n",
    "    examples= exemplos,\n",
    "    example_prompt= example_prompt,\n",
    "    suffix= 'Pergunta: {input}',\n",
    "    input_variables=['input']\n",
    ")\n",
    "prompt"
   ]
  },
  {
   "cell_type": "code",
   "execution_count": 69,
   "id": "6a9a74d2",
   "metadata": {},
   "outputs": [
    {
     "name": "stdout",
     "output_type": "stream",
     "text": [
      "Pergunta Quem viveu mais tempo, Muhammad Ali ou Alan Turing? \n",
      "São necessárias perguntas de acompanhamento aqui: Sim. \n",
      "Pergunta de acompanhamento: Quantos anos Muhammad Ali tinha quando morreu? \n",
      "Resposta intermediária: Muhammad Ali tinha 74 anos quando morreu. \n",
      "Pergunta de acompanhamento: Quantos anos Alan Turing tinha quando morreu? \n",
      "Resposta intermediária: Alan Turing tinha 41 anos quando morreu. \n",
      "Então a resposta final é: Muhammad Ali \n",
      "\n",
      "\n",
      "Pergunta Quando nasceu o fundador do craigslist? \n",
      "São necessárias perguntas de acompanhamento aqui: Sim. \n",
      "Pergunta de acompanhamento: Quem foi o fundador do craigslist? \n",
      "Resposta intermediária: O craigslist foi fundado por Craig Newmark. \n",
      "Pergunta de acompanhamento: Quando nasceu Craig Newmark? \n",
      "Resposta intermediária: Craig Newmark nasceu em 6 de dezembro de 1952. \n",
      "Então a resposta final é: 6 de dezembro de 1952 \n",
      "\n",
      "\n",
      "Pergunta Quem foi o avô materno de George Washington? \n",
      "São necessárias perguntas de acompanhamento aqui: Sim. \n",
      "Pergunta de acompanhamento: Quem foi a mãe de George Washington? \n",
      "Resposta intermediária: A mãe de George Washington foi Mary Ball Washington. \n",
      "Pergunta de acompanhamento: Quem foi o pai de Mary Ball Washington? \n",
      "Resposta intermediária: O pai de Mary Ball Washington foi Joseph Ball. \n",
      "Então a resposta final é: Joseph Ball \n",
      "\n",
      "\n",
      "Pergunta Os diretores de Jaws e Casino Royale são do mesmo país? \n",
      "São necessárias perguntas de acompanhamento aqui: Sim. \n",
      "Pergunta de acompanhamento: Quem é o diretor de Jaws? \n",
      "Resposta Intermediária: O diretor de Jaws é Steven Spielberg. \n",
      "Pergunta de acompanhamento: De onde é Steven Spielberg? \n",
      "Resposta Intermediária: Estados Unidos. \n",
      "Pergunta de acompanhamento: Quem é o diretor de Casino Royale? \n",
      "Resposta Intermediária: O diretor de Casino Royale é Martin Campbell. \n",
      "Pergunta de acompanhamento: De onde é Martin Campbell? \n",
      "Resposta Intermediária: Nova Zelândia. \n",
      "Então a resposta final é: Não \n",
      "\n",
      "\n",
      "Pergunta: Qual produção é mais famosa a série de The Last of Us ou Arcane?\n"
     ]
    }
   ],
   "source": [
    "final_prompt = prompt.format(input='Qual produção é mais famosa a série de The Last of Us ou Arcane?')\n",
    "print(final_prompt)"
   ]
  },
  {
   "cell_type": "code",
   "execution_count": 70,
   "id": "91a70fc9",
   "metadata": {},
   "outputs": [
    {
     "name": "stdout",
     "output_type": "stream",
     "text": [
      " \n",
      "São necessárias perguntas de acompanhamento aqui: Sim. \n",
      "Pergunta de acompanhamento: O que é The Last of Us? \n",
      "Resposta intermediária: The Last of Us é um jogo de vídeo game que foi adaptado para uma série de televisão. \n",
      "Pergunta de acompanhamento: O que é Arcane? \n",
      "Resposta intermediária: Arcane é uma série de animação baseada no jogo League of Legends. \n",
      "Pergunta de acompanhamento: Qual das duas produções teve mais sucesso? \n",
      "Resposta intermediária: The Last of Us teve mais sucesso em termos de audiência e crítica. \n",
      "Então a resposta final é: The Last of Us. \n"
     ]
    }
   ],
   "source": [
    "print(llm.invoke(final_prompt))"
   ]
  },
  {
   "attachments": {},
   "cell_type": "markdown",
   "id": "f9420163",
   "metadata": {},
   "source": [
    "## Templates de Few-shot prompting para chat"
   ]
  },
  {
   "cell_type": "code",
   "execution_count": null,
   "id": "cab3e8e2",
   "metadata": {},
   "outputs": [],
   "source": [
    "from langchain_openai.chat_models import ChatOpenAI\n",
    "chat = ChatOpenAI()"
   ]
  },
  {
   "cell_type": "code",
   "execution_count": 72,
   "id": "0b74c9f9",
   "metadata": {},
   "outputs": [
    {
     "name": "stdout",
     "output_type": "stream",
     "text": [
      "[HumanMessage(content='Quem viveu mais tempo, Muhammad Ali ou Alan Turing?', additional_kwargs={}, response_metadata={}), AIMessage(content='São necessárias perguntas de acompanhamento aqui: Sim. \\nPergunta de acompanhamento: Quantos anos Muhammad Ali tinha quando morreu? \\nResposta intermediária: Muhammad Ali tinha 74 anos quando morreu. \\nPergunta de acompanhamento: Quantos anos Alan Turing tinha quando morreu? \\nResposta intermediária: Alan Turing tinha 41 anos quando morreu. \\nEntão a resposta final é: Muhammad Ali \\n', additional_kwargs={}, response_metadata={})]\n"
     ]
    }
   ],
   "source": [
    "from langchain.prompts.few_shot import FewShotChatMessagePromptTemplate\n",
    "from langchain.prompts import ChatPromptTemplate\n",
    "\n",
    "example_prompt = ChatPromptTemplate.from_messages(\n",
    "    [('human', '{pergunta}'),\n",
    "     ('ai', '{resposta}')]\n",
    ")\n",
    "\n",
    "print(example_prompt.format_messages(**exemplos[0]))"
   ]
  },
  {
   "cell_type": "code",
   "execution_count": 77,
   "id": "9cdc0385",
   "metadata": {},
   "outputs": [
    {
     "data": {
      "text/plain": [
       "[HumanMessage(content='Quem viveu mais tempo, Muhammad Ali ou Alan Turing?', additional_kwargs={}, response_metadata={}),\n",
       " AIMessage(content='São necessárias perguntas de acompanhamento aqui: Sim. \\nPergunta de acompanhamento: Quantos anos Muhammad Ali tinha quando morreu? \\nResposta intermediária: Muhammad Ali tinha 74 anos quando morreu. \\nPergunta de acompanhamento: Quantos anos Alan Turing tinha quando morreu? \\nResposta intermediária: Alan Turing tinha 41 anos quando morreu. \\nEntão a resposta final é: Muhammad Ali \\n', additional_kwargs={}, response_metadata={}),\n",
       " HumanMessage(content='Quando nasceu o fundador do craigslist?', additional_kwargs={}, response_metadata={}),\n",
       " AIMessage(content='São necessárias perguntas de acompanhamento aqui: Sim. \\nPergunta de acompanhamento: Quem foi o fundador do craigslist? \\nResposta intermediária: O craigslist foi fundado por Craig Newmark. \\nPergunta de acompanhamento: Quando nasceu Craig Newmark? \\nResposta intermediária: Craig Newmark nasceu em 6 de dezembro de 1952. \\nEntão a resposta final é: 6 de dezembro de 1952 \\n', additional_kwargs={}, response_metadata={}),\n",
       " HumanMessage(content='Quem foi o avô materno de George Washington?', additional_kwargs={}, response_metadata={}),\n",
       " AIMessage(content='São necessárias perguntas de acompanhamento aqui: Sim. \\nPergunta de acompanhamento: Quem foi a mãe de George Washington? \\nResposta intermediária: A mãe de George Washington foi Mary Ball Washington. \\nPergunta de acompanhamento: Quem foi o pai de Mary Ball Washington? \\nResposta intermediária: O pai de Mary Ball Washington foi Joseph Ball. \\nEntão a resposta final é: Joseph Ball \\n', additional_kwargs={}, response_metadata={}),\n",
       " HumanMessage(content='Os diretores de Jaws e Casino Royale são do mesmo país?', additional_kwargs={}, response_metadata={}),\n",
       " AIMessage(content='São necessárias perguntas de acompanhamento aqui: Sim. \\nPergunta de acompanhamento: Quem é o diretor de Jaws? \\nResposta Intermediária: O diretor de Jaws é Steven Spielberg. \\nPergunta de acompanhamento: De onde é Steven Spielberg? \\nResposta Intermediária: Estados Unidos. \\nPergunta de acompanhamento: Quem é o diretor de Casino Royale? \\nResposta Intermediária: O diretor de Casino Royale é Martin Campbell. \\nPergunta de acompanhamento: De onde é Martin Campbell? \\nResposta Intermediária: Nova Zelândia. \\nEntão a resposta final é: Não \\n', additional_kwargs={}, response_metadata={}),\n",
       " HumanMessage(content='Qual produção é mais famosa a série de The Last of Us ou Arcane?', additional_kwargs={}, response_metadata={})]"
      ]
     },
     "execution_count": 77,
     "metadata": {},
     "output_type": "execute_result"
    }
   ],
   "source": [
    "few_shot_template = FewShotChatMessagePromptTemplate(\n",
    "    examples=exemplos,\n",
    "    example_prompt=example_prompt\n",
    ")\n",
    "\n",
    "prompt_template = ChatPromptTemplate.from_messages(\n",
    "    [\n",
    "        few_shot_template,\n",
    "        ('human', '{input}')\n",
    "    ]\n",
    ")\n",
    "\n",
    "prompt = prompt_template.format_messages(input= 'Qual produção é mais famosa a série de The Last of Us ou Arcane?')\n",
    "prompt"
   ]
  },
  {
   "cell_type": "code",
   "execution_count": 79,
   "id": "8f1049b0",
   "metadata": {},
   "outputs": [
    {
     "name": "stdout",
     "output_type": "stream",
     "text": [
      "A fama de uma produção pode ser subjetiva e variar de acordo com o público e a região. No entanto, ambas as produções, \"The Last of Us\" e \"Arcane\", receberam aclamação crítica e popular.\n",
      "\n",
      "\"The Last of Us\", baseada no popular videogame de mesmo nome, teve um grande impacto cultural e se tornou um fenômeno na HBO, atraindo uma audiência significativa.\n",
      "\n",
      "\"Arcane\", baseada no universo de \"League of Legends\", também foi muito bem recebida, ganhando vários prêmios e se destacando na plataforma da Netflix, especialmente por sua animação inovadora e narrativa envolvente.\n",
      "\n",
      "Em termos de notoriedade global, \"The Last of Us\" pode ser considerada mais famosa, especialmente devido ao seu impacto na cultura pop e sua base de fãs consolidada. No entanto, \"Arcane\" também conquistou um público considerável e se tornou um marco na animação. A resposta pode variar dependendo do critério de fama utilizado.\n"
     ]
    }
   ],
   "source": [
    "resposta = chat.invoke(prompt)\n",
    "print(resposta.content)"
   ]
  }
 ],
 "metadata": {
  "kernelspec": {
   "display_name": "venv311",
   "language": "python",
   "name": "python3"
  },
  "language_info": {
   "codemirror_mode": {
    "name": "ipython",
    "version": 3
   },
   "file_extension": ".py",
   "mimetype": "text/x-python",
   "name": "python",
   "nbconvert_exporter": "python",
   "pygments_lexer": "ipython3",
   "version": "3.11.9"
  }
 },
 "nbformat": 4,
 "nbformat_minor": 5
}
