{
 "cells": [
  {
   "cell_type": "code",
   "execution_count": 2,
   "metadata": {},
   "outputs": [
    {
     "data": {
      "text/plain": [
       "True"
      ]
     },
     "execution_count": 2,
     "metadata": {},
     "output_type": "execute_result"
    }
   ],
   "source": [
    "from dotenv import load_dotenv\n",
    "load_dotenv()"
   ]
  },
  {
   "cell_type": "markdown",
   "metadata": {},
   "source": [
    "# Roteamento"
   ]
  },
  {
   "cell_type": "code",
   "execution_count": 12,
   "metadata": {},
   "outputs": [],
   "source": [
    "from langchain_core.prompts import ChatPromptTemplate as cpt\n",
    "from langchain_openai.chat_models import ChatOpenAI\n",
    "\n",
    "model = ChatOpenAI(model= 'gpt-4o-mini')\n",
    "prompt = cpt.from_template('''Você é um professor de matematica de ensino fundamental capaz de dar respostas muito detalhadas e didáticas. Responda a seguinte pergunta de um aluno: \n",
    "Pergunta: {pergunta}''')\n",
    "chain_matematica = prompt | model \n",
    "\n",
    "prompt = cpt.from_template('''Você é um professor de física de ensino fundamental capaz de dar respostas muito detalhadas e didáticas. Responda a seguinte pergunta de um aluno:\n",
    "Pergunta: {pergunta}''')\n",
    "chain_fisica = prompt | model\n",
    "\n",
    "prompt = cpt.from_template('''Você é um professor de história de ensino fundamental capaz de dar respostas muito detalhadas e didáticas. Responda a seguinte pergunta de um aluno:\n",
    "Pergunta: {pergunta}''')\n",
    "chain_historia = prompt | model\n",
    "\n",
    "prompt = cpt.from_template('''{pergunta}''')\n",
    "chain_generica = prompt | model\n"
   ]
  },
  {
   "cell_type": "code",
   "execution_count": 13,
   "metadata": {},
   "outputs": [
    {
     "data": {
      "text/plain": [
       "Categorizador(area_conhecimento='matemática')"
      ]
     },
     "execution_count": 13,
     "metadata": {},
     "output_type": "execute_result"
    }
   ],
   "source": [
    "from pydantic import BaseModel, Field\n",
    "\n",
    "prompt = cpt.from_template('Você deve categorizar a seguinte pergunta: {pergunta}')\n",
    "\n",
    "class Categorizador(BaseModel):\n",
    "    '''Categoriza as perguntas de alunos do Ensino Fundamental'''\n",
    "    area_conhecimento: str = Field(description='A área de conhecimento da pergunta feita pelo aluno. \\\n",
    "    Deve ser \"física\", \"matemática\" ou \"história\". Caso não se enquadre em nenhuma delas, retorne \"outra\"')\n",
    "\n",
    "model_estruturado = prompt | model.with_structured_output(Categorizador)\n",
    "model_estruturado.invoke('Quanto é 1+1?')"
   ]
  },
  {
   "cell_type": "markdown",
   "metadata": {},
   "source": [
    "### Criando estrutura de roteamento"
   ]
  },
  {
   "cell_type": "code",
   "execution_count": 14,
   "metadata": {},
   "outputs": [
    {
     "data": {
      "text/plain": [
       "{'pergunta': 'Quando foi a independencia do Brasil?',\n",
       " 'categoria': Categorizador(area_conhecimento='história')}"
      ]
     },
     "execution_count": 14,
     "metadata": {},
     "output_type": "execute_result"
    }
   ],
   "source": [
    "from langchain_core.runnables import RunnablePassthrough\n",
    "\n",
    "chain = RunnablePassthrough().assign(categoria=model_estruturado)\n",
    "chain.invoke({'pergunta': 'Quando foi a independencia do Brasil?'})"
   ]
  },
  {
   "cell_type": "code",
   "execution_count": 15,
   "metadata": {},
   "outputs": [],
   "source": [
    "def route(input):\n",
    "    if input['categoria'].area_conhecimento == 'matemática':\n",
    "        return chain_matematica\n",
    "    elif input['categoria'].area_conhecimento == 'física':\n",
    "        return chain_fisica\n",
    "    elif input['categoria'].area_conhecimento == 'história':\n",
    "        return chain_historia\n",
    "    return chain_generica"
   ]
  },
  {
   "cell_type": "code",
   "execution_count": 18,
   "metadata": {},
   "outputs": [
    {
     "name": "stdout",
     "output_type": "stream",
     "text": [
      "Essa é uma pergunta muito interessante e uma ótima oportunidade para entender um conceito importante na matemática! Vamos esclarecer a questão da fatoração de 0.\n",
      "\n",
      "Primeiro, precisamos entender o que significa \"fatoração\". Fatoração é o processo de escrever um número como o produto de outros números, chamados de fatores. Por exemplo, a fatoração de 6 é 2 × 3, porque 2 e 3 são fatores de 6.\n",
      "\n",
      "Agora, quando falamos de \"0\" e \"fatoração\", na verdade, estamos nos referindo a uma notação especial chamada \"fatorial\". O fatorial de um número \\( n \\) (escrito como \\( n! \\)) é o produto de todos os números inteiros positivos até \\( n \\). Por exemplo:\n",
      "\n",
      "- \\( 3! = 3 \\times 2 \\times 1 = 6 \\)\n",
      "- \\( 2! = 2 \\times 1 = 2 \\)\n",
      "- \\( 1! = 1 \\)\n",
      "\n",
      "Mas e quanto ao \\( 0! \\)? Para definir o fatorial de zero, \\( 0! \\), usamos uma convenção matemática. A definição que aceitamos é que:\n",
      "\n",
      "\\[\n",
      "0! = 1\n",
      "\\]\n",
      "\n",
      "Mas por que isso?\n",
      "\n",
      "Vamos entender isso melhor:\n",
      "\n",
      "1. **Propriedades dos fatoriais**: Uma das propriedades dos fatoriais é que \\( n! = n \\times (n-1)! \\). Se aplicarmos isso para \\( n = 1 \\):\n",
      "\n",
      "   \\[\n",
      "   1! = 1 \\times 0!\n",
      "   \\]\n",
      "\n",
      "   Sabemos que \\( 1! = 1 \\), então substituímos na equação:\n",
      "\n",
      "   \\[\n",
      "   1 = 1 \\times 0!\n",
      "   \\]\n",
      "\n",
      "   Para que a equação seja verdadeira, \\( 0! \\) deve ser igual a 1:\n",
      "\n",
      "   \\[\n",
      "   0! = 1\n",
      "   \\]\n",
      "\n",
      "2. **Combinações**: Outra maneira de pensar sobre isso é usando a ideia de combinações. O número de maneiras de escolher 0 objetos de um conjunto de \\( n \\) objetos é sempre 1, independentemente de quantos objetos você tenha. Isso é representado pela fórmula de combinação:\n",
      "\n",
      "   \\[\n",
      "   C(n, 0) = \\frac{n!}{0! \\cdot (n-0)!} = 1\n",
      "   \\]\n",
      "\n",
      "   Para que essa equação funcione, precisamos que \\( 0! = 1 \\).\n",
      "\n",
      "3. **Conceito de multiplicação**: Por último, se você pensar sobre a multiplicação, o número 1 é o elemento neutro. Isso significa que qualquer número multiplicado por 1 permanece o mesmo. Quando estamos lidando com zero, não queremos perder a multiplicidade, então a escolha de 1 para \\( 0! \\) faz sentido.\n",
      "\n",
      "Portanto, a razão pela qual dizemos que \\( 0! = 1 \\) é por causa de definições matemáticas que são úteis e consistentes com outras propriedades dos números. Essa definição ajuda a manter a matemática funcionando de maneira suave e lógica.\n",
      "\n",
      "Espero que isso tenha esclarecido sua dúvida! Se você tiver mais perguntas, sinta-se à vontade para perguntar!\n"
     ]
    }
   ],
   "source": [
    "chain = RunnablePassthrough().assign(categoria=model_estruturado) | route\n",
    "resposta = chain.invoke({'pergunta': 'Por que a fatoração de 0 é 1?'})\n",
    "print(resposta.content)"
   ]
  }
 ],
 "metadata": {
  "kernelspec": {
   "display_name": "venv311",
   "language": "python",
   "name": "python3"
  },
  "language_info": {
   "codemirror_mode": {
    "name": "ipython",
    "version": 3
   },
   "file_extension": ".py",
   "mimetype": "text/x-python",
   "name": "python",
   "nbconvert_exporter": "python",
   "pygments_lexer": "ipython3",
   "version": "3.11.9"
  }
 },
 "nbformat": 4,
 "nbformat_minor": 2
}
