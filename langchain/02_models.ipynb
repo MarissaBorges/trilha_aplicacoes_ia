{
 "cells": [
  {
   "cell_type": "code",
   "execution_count": null,
   "id": "a8d74b14",
   "metadata": {},
   "outputs": [],
   "source": [
    "from dotenv import load_dotenv\n",
    "load_dotenv()"
   ]
  },
  {
   "attachments": {},
   "cell_type": "markdown",
   "id": "13d7fc40",
   "metadata": {},
   "source": [
    "# Models"
   ]
  },
  {
   "attachments": {},
   "cell_type": "markdown",
   "id": "29de0417",
   "metadata": {},
   "source": [
    "## LLMs"
   ]
  },
  {
   "attachments": {},
   "cell_type": "markdown",
   "id": "e774a8d4",
   "metadata": {},
   "source": [
    "Modelos de Linguagem Grande (LLMs, na sigla em inglês) são um componente central do LangChain. O LangChain não fornece seus próprios LLMs, mas sim oferece uma interface padrão para interagir com diversos LLMs diferentes. Para ser específico, essa interface é uma que recebe como entrada uma string e retorna uma string.\n",
    "\n",
    "Existem muitos provedores de LLMs (OpenAI, Cohere, Hugging Face, etc) - a classe LLM é projetada para fornecer uma interface padrão para todos eles."
   ]
  },
  {
   "cell_type": "code",
   "execution_count": null,
   "id": "925e5239",
   "metadata": {},
   "outputs": [],
   "source": [
    "from langchain_openai import OpenAI\n",
    "\n",
    "llm = OpenAI()"
   ]
  },
  {
   "attachments": {},
   "cell_type": "markdown",
   "id": "d501a6ce",
   "metadata": {},
   "source": [
    "### Chamando a llm"
   ]
  },
  {
   "cell_type": "code",
   "execution_count": 3,
   "id": "9e6ecc1e",
   "metadata": {},
   "outputs": [
    {
     "data": {
      "text/plain": [
       "'\\n\\nEra uma vez um jovem chamado Pedro, que sempre foi fascinado por tecnologia e computadores. Desde criança, ele adorava desmontar e montar aparelhos eletrônicos, e sempre sonhava em criar seus próprios programas e jogos um dia.\\n\\nQuando Pedro entrou na faculdade, decidiu seguir o curso de Ciência da Computação para aprender a programar. No início, ele ficou um pouco assustado com a quantidade de códigos e linguagens que teria que aprender, mas seu amor pela tecnologia era maior e ele estava determinado a enfrentar esse desafio.\\n\\nAs primeiras aulas foram um pouco confusas, mas Pedro não desistiu. Ele passava horas estudando e praticando, e logo começou a entender melhor os conceitos e a lógica por trás da programação.\\n\\nCom o tempo, Pedro foi se aperfeiçoando e se tornando cada vez mais habilidoso. Ele ficava entusiasmado quando conseguia resolver um problema difícil ou criar um programa que funcionasse corretamente. Mesmo quando encontrava obstáculos, ele sabia que fazia'"
      ]
     },
     "execution_count": 3,
     "metadata": {},
     "output_type": "execute_result"
    }
   ],
   "source": [
    "pergunta = 'Conte uma história breve sobre a jornada de aprender a programar'\n",
    "llm.invoke(pergunta)"
   ]
  },
  {
   "attachments": {},
   "cell_type": "markdown",
   "id": "8ade95d2",
   "metadata": {},
   "source": [
    "### Chamando com stream de resposta"
   ]
  },
  {
   "cell_type": "code",
   "execution_count": 4,
   "id": "922a0701",
   "metadata": {},
   "outputs": [
    {
     "name": "stdout",
     "output_type": "stream",
     "text": [
      "\n",
      "\n",
      "Há muito tempo, em um reino distante, vivia um rei muito sábio e curioso. Ele sempre buscava formas de entender melhor o funcionamento do mundo ao seu redor e de encontrar soluções para os problemas de seu povo.\n",
      "\n",
      "Um dia, enquanto caminhava pelos jardins de seu castelo, o rei se deparou com um pássaro que cantava de forma tão bela e complexa que ele ficou intrigado. Como um pássaro tão pequeno e simples poderia produzir sons tão elaborados e bonitos?\n",
      "\n",
      "Decidido a desvendar o mistério, o rei convocou o seu conselheiro mais inteligente e juntos começaram a estudar os sons do pássaro. Eles perceberam que, mesmo com um cérebro pequeno, o pássaro conseguia reconhecer padrões e reproduzir diferentes melodias.\n",
      "\n",
      "Inspirado por essa descoberta, o rei teve a ideia de criar uma máquina que pudesse imitar o cérebro do pássaro, com a capacidade de aprender e reconhecer padrões. Assim, surgiram"
     ]
    }
   ],
   "source": [
    "pergunta = 'Conte uma história breve sobre o surgimento de redes neurais'\n",
    "for trecho in llm.stream(pergunta):\n",
    "    print(trecho, end='')"
   ]
  },
  {
   "attachments": {},
   "cell_type": "markdown",
   "id": "a80ae2cc",
   "metadata": {},
   "source": [
    "### Chamadas simultâneas"
   ]
  },
  {
   "cell_type": "code",
   "execution_count": 5,
   "id": "7ce4ace5",
   "metadata": {},
   "outputs": [
    {
     "data": {
      "text/plain": [
       "['\\nO céu é a região do espaço acima da superfície da Terra, onde se pode observar o movimento dos corpos celestes, como o sol, a lua, as estrelas e os planetas. É um lugar que desperta curiosidade e admiração nas pessoas, pois é um espetáculo natural de beleza e mistério. Para muitas culturas e religiões, o céu é visto como um lugar sagrado, onde as almas dos mortos descansam e onde os seres divinos habitam. Além disso, o céu também é considerado como fonte de inspiração e reflexão para os seres humanos.',\n",
       " '\\n\\nAs estrelas são corpos celestes luminosos e gasosos que possuem uma fonte própria de energia, gerada através de reações nucleares em seu interior. Elas são formadas por grandes quantidades de gás e poeira que se unem devido à força da gravidade, formando uma esfera. As estrelas podem variar em tamanho, temperatura, brilho e cor, e são responsáveis por iluminar o céu noturno. Elas são essenciais para a existência da vida, pois fornecem calor e luz para os planetas ao seu redor. ',\n",
       " '\\n\\nA Terra é o terceiro planeta do sistema solar, localizado a uma distância média do Sol de cerca de 149,6 milhões de quilômetros. É o único planeta conhecido a abrigar vida, com uma atmosfera rica em oxigênio, água líquida na superfície e uma ampla diversidade biológica. O seu diâmetro é de aproximadamente 12.742 quilômetros e sua superfície é composta por continentes, oceanos e camadas de rochas e minerais. A Terra possui um núcleo sólido de ferro e níquel, um manto rochoso e uma crosta exterior fina. Além disso, o planeta tem um campo magnético que protege a vida da radiação solar e mantém a atmosfera em seu lugar. A Terra também possui um ciclo constante de rotação em torno de seu próprio eixo, criando o dia e a noite, e uma órbita em torno do Sol que leva cerca de 365 dias para ser completada, criando os anos. ']"
      ]
     },
     "execution_count": 5,
     "metadata": {},
     "output_type": "execute_result"
    }
   ],
   "source": [
    "perguntas = [\n",
    "    'O que é o céu?',\n",
    "    'O que são as estrelas?',\n",
    "    'O que é a Terra?'\n",
    "]\n",
    "\n",
    "llm.batch(perguntas)"
   ]
  },
  {
   "attachments": {},
   "cell_type": "markdown",
   "id": "4f6d48b1",
   "metadata": {},
   "source": [
    "## ChatModels"
   ]
  },
  {
   "attachments": {},
   "cell_type": "markdown",
   "id": "8796004d",
   "metadata": {},
   "source": [
    "ChatModels são um componente central do LangChain.\n",
    "\n",
    "Um modelo de chat é um modelo de linguagem que utiliza mensagens de chat como entradas e retorna mensagens de chat como saídas (ao invés de usar texto puro).\n",
    "\n",
    "O LangChain possui integrações com vários provedores de modelos (OpenAI, Cohere, Hugging Face, etc.) e expõe uma interface padrão para interagir com todos esses modelos."
   ]
  },
  {
   "cell_type": "code",
   "execution_count": 6,
   "id": "e887b020",
   "metadata": {},
   "outputs": [],
   "source": [
    "from langchain_openai import ChatOpenAI\n",
    "\n",
    "chat = ChatOpenAI(model='gpt-4-turbo-2024-04-09')"
   ]
  },
  {
   "cell_type": "code",
   "execution_count": 10,
   "id": "7c38bed6",
   "metadata": {},
   "outputs": [
    {
     "data": {
      "text/plain": [
       "'1 + 1 é 2! Mas se estivermos falando de batatas, então é uma boa oportunidade para um pequeno almoço!'"
      ]
     },
     "execution_count": 10,
     "metadata": {},
     "output_type": "execute_result"
    }
   ],
   "source": [
    "from langchain_core.messages import HumanMessage, SystemMessage\n",
    "\n",
    "mensagens = [ \n",
    "    SystemMessage(content='Você é um assistente que conta piadas.'),\n",
    "    HumanMessage(content='Quanto é 1 + 1?')\n",
    "]\n",
    "resposta = chat.invoke(mensagens)\n",
    "resposta.content"
   ]
  },
  {
   "cell_type": "code",
   "execution_count": 9,
   "id": "085f5b8a",
   "metadata": {},
   "outputs": [
    {
     "name": "stdout",
     "output_type": "stream",
     "text": [
      "1 + 1 é igual a 2. Mas se você me perguntar quantos palhaços cabem em um carro, aí a matemática fica mais divertida!"
     ]
    }
   ],
   "source": [
    "for trecho in chat.stream(mensagens):\n",
    "    print(trecho.content, end='')"
   ]
  },
  {
   "attachments": {},
   "cell_type": "markdown",
   "id": "efae899e",
   "metadata": {},
   "source": [
    "Existem 5 tipos diferentes de mensagens:\n",
    "\n",
    "- `HumanMessage`: Isso representa uma mensagem do usuário. Geralmente consiste apenas de conteúdo.\n",
    "\n",
    "- `AIMessage`: Isso representa uma mensagem do modelo. Pode ter additional_kwargs incluídos - por exemplo, tool_calls se estiver usando chamadas de ferramentas da OpenAI.\n",
    "\n",
    "- `SystemMessage`: Isso representa uma mensagem do sistema, que indica ao modelo como se comportar. Geralmente consiste apenas de conteúdo. Nem todo modelo suporta isso.\n",
    "\n",
    "- `FunctionMessage`: Isso representa o resultado de uma chamada de função. Além do papel e conteúdo, esta mensagem tem um parâmetro de nome que transmite o nome da função que foi chamada para produzir este resultado.\n",
    "\n",
    "- `ToolMessage`: Isso representa o resultado de uma chamada de ferramenta. Isso é distinto de uma Mensagem de Função a fim de corresponder aos tipos de mensagens de função e ferramenta da OpenAI. Além do papel e conteúdo, esta mensagem tem um parâmetro tool_call_id que transmite o id da chamada à ferramenta que foi feita para produzir este resultado."
   ]
  }
 ],
 "metadata": {
  "kernelspec": {
   "display_name": "venv311",
   "language": "python",
   "name": "python3"
  },
  "language_info": {
   "codemirror_mode": {
    "name": "ipython",
    "version": 3
   },
   "file_extension": ".py",
   "mimetype": "text/x-python",
   "name": "python",
   "nbconvert_exporter": "python",
   "pygments_lexer": "ipython3",
   "version": "3.11.9"
  }
 },
 "nbformat": 4,
 "nbformat_minor": 5
}
