{
 "cells": [
  {
   "cell_type": "code",
   "execution_count": 1,
   "id": "36a39ac7",
   "metadata": {},
   "outputs": [
    {
     "data": {
      "text/plain": [
       "True"
      ]
     },
     "execution_count": 1,
     "metadata": {},
     "output_type": "execute_result"
    }
   ],
   "source": [
    "from dotenv import load_dotenv\n",
    "load_dotenv()"
   ]
  },
  {
   "attachments": {},
   "cell_type": "markdown",
   "id": "13d7fc40",
   "metadata": {},
   "source": [
    "# DocumentLoaders"
   ]
  },
  {
   "attachments": {},
   "cell_type": "markdown",
   "id": "2c9ad58d",
   "metadata": {},
   "source": [
    "### Tipos de Document Loaders no Langchain\n",
    "\n",
    "![Document loaders](arquivos/loaders.png)"
   ]
  },
  {
   "attachments": {},
   "cell_type": "markdown",
   "id": "861913aa",
   "metadata": {},
   "source": [
    "## Carregando PDFs"
   ]
  },
  {
   "cell_type": "code",
   "execution_count": 2,
   "id": "3deaf58e",
   "metadata": {},
   "outputs": [],
   "source": [
    "from langchain_community.document_loaders.pdf import PyPDFLoader\n",
    "\n",
    "path = 'E:/Documentos/Trabalho/Programacao/trilha_aplicacoes_ia/06 Aplicações de IA com LangChain/scripts/arquivos/Explorando o Universo das IAs com Hugging Face.pdf'\n",
    "loader = PyPDFLoader(path)\n",
    "documentos = loader.load()"
   ]
  },
  {
   "cell_type": "code",
   "execution_count": 3,
   "id": "7d0125ff",
   "metadata": {},
   "outputs": [
    {
     "data": {
      "text/plain": [
       "89"
      ]
     },
     "execution_count": 3,
     "metadata": {},
     "output_type": "execute_result"
    }
   ],
   "source": [
    "len(documentos)"
   ]
  },
  {
   "cell_type": "code",
   "execution_count": 4,
   "id": "fa5c4e29",
   "metadata": {},
   "outputs": [
    {
     "name": "stdout",
     "output_type": "stream",
     "text": [
      "Explorando o Universo das IAs com\n",
      "Hugging Face\n",
      "Asimov Academy\n"
     ]
    }
   ],
   "source": [
    "print(documentos[0].page_content)"
   ]
  },
  {
   "cell_type": "code",
   "execution_count": 5,
   "id": "a6ec80aa",
   "metadata": {},
   "outputs": [
    {
     "data": {
      "text/plain": [
       "{'source': 'E:/Documentos/Trabalho/Programacao/trilha_aplicacoes_ia/06 Aplicações de IA com LangChain/scripts/arquivos/Explorando o Universo das IAs com Hugging Face.pdf',\n",
       " 'page': 3}"
      ]
     },
     "execution_count": 5,
     "metadata": {},
     "output_type": "execute_result"
    }
   ],
   "source": [
    "documentos[3].metadata"
   ]
  },
  {
   "attachments": {},
   "cell_type": "markdown",
   "id": "d23a2a8e",
   "metadata": {},
   "source": [
    "### Fazendo perguntas para o arquivo"
   ]
  },
  {
   "cell_type": "code",
   "execution_count": 6,
   "id": "372a461c",
   "metadata": {},
   "outputs": [
    {
     "name": "stderr",
     "output_type": "stream",
     "text": [
      "C:\\Users\\maris\\AppData\\Local\\Temp\\ipykernel_3352\\3761140994.py:6: LangChainDeprecationWarning: This class is deprecated. See the following migration guides for replacements based on `chain_type`:\n",
      "stuff: https://python.langchain.com/docs/versions/migrating_chains/stuff_docs_chain\n",
      "map_reduce: https://python.langchain.com/docs/versions/migrating_chains/map_reduce_chain\n",
      "refine: https://python.langchain.com/docs/versions/migrating_chains/refine_chain\n",
      "map_rerank: https://python.langchain.com/docs/versions/migrating_chains/map_rerank_docs_chain\n",
      "\n",
      "See also guides on retrieval and question-answering here: https://python.langchain.com/docs/how_to/#qa-with-rag\n",
      "  chain = load_qa_chain(llm=chat, chain_type='stuff', verbose=True)\n"
     ]
    }
   ],
   "source": [
    "from langchain.chains.question_answering import load_qa_chain\n",
    "from langchain_openai.chat_models import ChatOpenAI\n",
    "\n",
    "chat = ChatOpenAI(model='gpt-4o-mini')\n",
    "\n",
    "chain = load_qa_chain(llm=chat, chain_type='stuff', verbose=True)"
   ]
  },
  {
   "cell_type": "code",
   "execution_count": 7,
   "id": "15e621c0",
   "metadata": {},
   "outputs": [
    {
     "name": "stderr",
     "output_type": "stream",
     "text": [
      "C:\\Users\\maris\\AppData\\Local\\Temp\\ipykernel_3352\\2723175730.py:2: LangChainDeprecationWarning: The method `Chain.run` was deprecated in langchain 0.1.0 and will be removed in 1.0. Use :meth:`~invoke` instead.\n",
      "  chain.run(input_documents=documentos[:10], question=pergunta)\n"
     ]
    },
    {
     "name": "stdout",
     "output_type": "stream",
     "text": [
      "\n",
      "\n",
      "\u001b[1m> Entering new StuffDocumentsChain chain...\u001b[0m\n",
      "\n",
      "\n",
      "\u001b[1m> Entering new LLMChain chain...\u001b[0m\n",
      "Prompt after formatting:\n",
      "\u001b[32;1m\u001b[1;3mSystem: Use the following pieces of context to answer the user's question. \n",
      "If you don't know the answer, just say that you don't know, don't try to make up an answer.\n",
      "----------------\n",
      "Explorando o Universo das IAs com\n",
      "Hugging Face\n",
      "Asimov Academy\n",
      "\n",
      "Explorando o Universo das IAs com Hugging Face\n",
      "Conteúdo\n",
      "01. O que é Hugging Face? 5\n",
      "Afinal, o que é Hugging Face? . . . . . . . . . . . . . . . . . . . . . . . . . . . . . . . . . . 5\n",
      "É tudo aberto mesmo? . . . . . . . . . . . . . . . . . . . . . . . . . . . . . . . . . . . 6\n",
      "Como usaremos o Hugging Face? . . . . . . . . . . . . . . . . . . . . . . . . . . . . . . . . 6\n",
      "02. A plataforma Hugging Face 7\n",
      "Modelos . . . . . . . . . . . . . . . . . . . . . . . . . . . . . . . . . . . . . . . . . . . . . . 7\n",
      "Página de um modelo . . . . . . . . . . . . . . . . . . . . . . . . . . . . . . . . . . . 8\n",
      "Datasets . . . . . . . . . . . . . . . . . . . . . . . . . . . . . . . . . . . . . . . . . . . . . . 10\n",
      "Spaces . . . . . . . . . . . . . . . . . . . . . . . . . . . . . . . . . . . . . . . . . . . . . . . 10\n",
      "03. Testando nossa primeira IA em tempo recorde 14\n",
      "Nossa primeira IA . . . . . . . . . . . . . . . . . . . . . . . . . . . . . . . . . . . . . . . . . 14\n",
      "Dependências adicionais . . . . . . . . . . . . . . . . . . . . . . . . . . . . . . . . . . 14\n",
      "Instalando o PyTorch . . . . . . . . . . . . . . . . . . . . . . . . . . . . . . . . . . . . 15\n",
      "Rodando a IA pela primeira vez . . . . . . . . . . . . . . . . . . . . . . . . . . . . . . . . . 16\n",
      "Formatando a saída da IA . . . . . . . . . . . . . . . . . . . . . . . . . . . . . . . . . . . . 16\n",
      "04. Testando e comparando com outros modelos 18\n",
      "Buscando por outros modelos . . . . . . . . . . . . . . . . . . . . . . . . . . . . . . . . . . 18\n",
      "Como usar um modelo? . . . . . . . . . . . . . . . . . . . . . . . . . . . . . . . . . . . . . 19\n",
      "Consigo rodar o modelo? . . . . . . . . . . . . . . . . . . . . . . . . . . . . . . . . . . . . . 19\n",
      "Tamanho do arquivo pytorch_model.bin . . . . . . . . . . . . . . . . . . . . . . 20\n",
      "Informação contida na etiqueta Safetensor . . . . . . . . . . . . . . . . . . . . . . 22\n",
      "Cartão do modelo . . . . . . . . . . . . . . . . . . . . . . . . . . . . . . . . . . . . . 22\n",
      "E se não conseguir rodar no meu computador? . . . . . . . . . . . . . . . . . . . . . . 23\n",
      "Testando os modelos escolhidos . . . . . . . . . . . . . . . . . . . . . . . . . . . . . . . . . 23\n",
      "05. A biblioteca transformers 25\n",
      "Tokenização: como modelos de IA enxergam o texto . . . . . . . . . . . . . . . . . . . . . . 25\n",
      "A praticidade do pipeline . . . . . . . . . . . . . . . . . . . . . . . . . . . . . . . . . . . 26\n",
      "Acessando tokenizadores diretamente . . . . . . . . . . . . . . . . . . . . . . . . . . . . . 26\n",
      "Passando parâmetros para opipeline . . . . . . . . . . . . . . . . . . . . . . . . . . . . 27\n",
      "Quais tarefas podemos fazer? . . . . . . . . . . . . . . . . . . . . . . . . . . . . . . . . . . 28\n",
      "Asimov Academy 1\n",
      "\n",
      "Explorando o Universo das IAs com Hugging Face\n",
      "06. Modelos de conversação e geração de texto (chatbots) 29\n",
      "Acessando o modelo . . . . . . . . . . . . . . . . . . . . . . . . . . . . . . . . . . . . . . . 29\n",
      "Ajustando o template da mensagem . . . . . . . . . . . . . . . . . . . . . . . . . . . 30\n",
      "Ajustando parâmetros do modelo . . . . . . . . . . . . . . . . . . . . . . . . . . . . . 30\n",
      "07. Criando uma estrutura de chat 31\n",
      "Considerações sobre a resposta do modelo . . . . . . . . . . . . . . . . . . . . . . . . 32\n",
      "Formatando a saída do modelo . . . . . . . . . . . . . . . . . . . . . . . . . . . . . . . . . 32\n",
      "Criando um loop de conversa . . . . . . . . . . . . . . . . . . . . . . . . . . . . . . . . . . 33\n",
      "O que aconteceu? . . . . . . . . . . . . . . . . . . . . . . . . . . . . . . . . . . . . . . 35\n",
      "08. Acessando modelos de IA através da Inference API 36\n",
      "Conhecendo a Inference API . . . . . . . . . . . . . . . . . . . . . . . . . . . . . . . . . . . 36\n",
      "Acessando a Inference API . . . . . . . . . . . . . . . . . . . . . . . . . . . . . . . . . . . . 36\n",
      "Entendendo a resposta do modelo . . . . . . . . . . . . . . . . . . . . . . . . . . . . 37\n",
      "Templates de chat do Hugging Face . . . . . . . . . . . . . . . . . . . . . . . . . . . . . . . 38\n",
      "09. Conversando com um chatbot pela Inference API 39\n",
      "Adicionando o template correto . . . . . . . . . . . . . . . . . . . . . . . . . . . . . . . . . 39\n",
      "Expandindo para mais conversas . . . . . . . . . . . . . . . . . . . . . . . . . . . . . . . . 39\n",
      "Loop de conversação pela Inference API . . . . . . . . . . . . . . . . . . . . . . . . . . . . . 40\n",
      "Porquê não usar a Inference API sempre? . . . . . . . . . . . . . . . . . . . . . . . . . . . . 41\n",
      "10. Modelos restritos e outras considerações 43\n",
      "Modelos restritos . . . . . . . . . . . . . . . . . . . . . . . . . . . . . . . . . . . . . . . . . 43\n",
      "Autenticando com o token do Hugging Face . . . . . . . . . . . . . . . . . . . . . . . . . . 44\n",
      "Criando a conta . . . . . . . . . . . . . . . . . . . . . . . . . . . . . . . . . . . . . . . 44\n",
      "Pedindo acesso a um modelo . . . . . . . . . . . . . . . . . . . . . . . . . . . . . . . 45\n",
      "Gerando um token de acesso . . . . . . . . . . . . . . . . . . . . . . . . . . . . . . . 46\n",
      "Adicionando o token no código . . . . . . . . . . . . . . . . . . . . . . . . . . . . . . 46\n",
      "Melhores práticas ao usar o token: biblioteca dotenv . . . . . . . . . . . . . . . . . . . . . 47\n",
      "Como usar o arquivo .env . . . . . . . . . . . . . . . . . . . . . . . . . . . . . . . . 47\n",
      "11. Miniprojeto - webapp com múltiplos chatbots 49\n",
      "12. Utilizando IAs de tradução 52\n",
      "IA de tradução . . . . . . . . . . . . . . . . . . . . . . . . . . . . . . . . . . . . . . . . . . 52\n",
      "Parâmetros da tradução . . . . . . . . . . . . . . . . . . . . . . . . . . . . . . . . . . 52\n",
      "Outros testes . . . . . . . . . . . . . . . . . . . . . . . . . . . . . . . . . . . . . . . . . . . 53\n",
      "Para quê usar modelos de tradução? . . . . . . . . . . . . . . . . . . . . . . . . . . . . . . 55\n",
      "Asimov Academy 2\n",
      "\n",
      "Explorando o Universo das IAs com Hugging Face\n",
      "13. Utilizando IAs de resumo 56\n",
      "Resumindo textos em português . . . . . . . . . . . . . . . . . . . . . . . . . . . . . . . . . 56\n",
      "Resumindo um artigo da Wikipedia . . . . . . . . . . . . . . . . . . . . . . . . . . . . 56\n",
      "Resumindo uma notícia . . . . . . . . . . . . . . . . . . . . . . . . . . . . . . . . . . 58\n",
      "Outros parâmetros . . . . . . . . . . . . . . . . . . . . . . . . . . . . . . . . . . . . . 59\n",
      "14. Classificando textos com IAs 60\n",
      "Classificação de texto (análise de sentimento) . . . . . . . . . . . . . . . . . . . . . . . . . 60\n",
      "Classificando reviews de um produto . . . . . . . . . . . . . . . . . . . . . . . . . . . . . . 60\n",
      "Outros exemplos de classificação . . . . . . . . . . . . . . . . . . . . . . . . . . . . . . . . 61\n",
      "Classificando emoções . . . . . . . . . . . . . . . . . . . . . . . . . . . . . . . . . . . 61\n",
      "Classificando headlines de frases relacionadas a finanças . . . . . . . . . . . . . . . . 62\n",
      "Classificando ironia em tweets . . . . . . . . . . . . . . . . . . . . . . . . . . . . . . . 62\n",
      "Classificação sem contexto (zero-shot) . . . . . . . . . . . . . . . . . . . . . . . . . . . . . 63\n",
      "Vale a pena usar um modelo zero-shot? . . . . . . . . . . . . . . . . . . . . . . . . . . 64\n",
      "15. Acessando Datasets do Hugging Face 65\n",
      "A anatomia de um Dataset . . . . . . . . . . . . . . . . . . . . . . . . . . . . . . . . . . . . 65\n",
      "Acessando Datasets por Python . . . . . . . . . . . . . . . . . . . . . . . . . . . . . . . . . 66\n",
      "O que há no Dataset? . . . . . . . . . . . . . . . . . . . . . . . . . . . . . . . . . . . . . . . 67\n",
      "Splits . . . . . . . . . . . . . . . . . . . . . . . . . . . . . . . . . . . . . . . . . . . . 67\n",
      "Linhas e colunas . . . . . . . . . . . . . . . . . . . . . . . . . . . . . . . . . . . . . . 68\n",
      "Acessando dados . . . . . . . . . . . . . . . . . . . . . . . . . . . . . . . . . . . . . . . . . 68\n",
      "Convertendo um Dataset . . . . . . . . . . . . . . . . . . . . . . . . . . . . . . . . . . . . . 69\n",
      "Lidando com Datasets grandes . . . . . . . . . . . . . . . . . . . . . . . . . . . . . . . . . 69\n",
      "16. Conhecendo a comunidade do Hugging Face 71\n",
      "Página inicial . . . . . . . . . . . . . . . . . . . . . . . . . . . . . . . . . . . . . . . . . . . 71\n",
      "Opções de comunidade . . . . . . . . . . . . . . . . . . . . . . . . . . . . . . . . . . . . . 71\n",
      "Spaces . . . . . . . . . . . . . . . . . . . . . . . . . . . . . . . . . . . . . . . . . . . . . . . 72\n",
      "17. Criando um Space com nosso webapp 74\n",
      "Passo 1: criar um Space . . . . . . . . . . . . . . . . . . . . . . . . . . . . . . . . . . . . . 74\n",
      "Passo 2: adicionar seu código ao Space . . . . . . . . . . . . . . . . . . . . . . . . . . . . . 76\n",
      "Passo 3: Adicione as dependências . . . . . . . . . . . . . . . . . . . . . . . . . . . . . . . 78\n",
      "Passo 4: gerindo o token do Hugging Face . . . . . . . . . . . . . . . . . . . . . . . . . . . . 82\n",
      "Asimov Academy 3\n",
      "\n",
      "Explorando o Universo das IAs com Hugging Face\n",
      "18. Considerações sobre o deploy e encerramento 86\n",
      "Configurações do Deploy . . . . . . . . . . . . . . . . . . . . . . . . . . . . . . . . . . . . . 86\n",
      "Hardware utilizado . . . . . . . . . . . . . . . . . . . . . . . . . . . . . . . . . . . . . 86\n",
      "Visibilidade do Space . . . . . . . . . . . . . . . . . . . . . . . . . . . . . . . . . . . . 86\n",
      "Comunidade . . . . . . . . . . . . . . . . . . . . . . . . . . . . . . . . . . . . . . . . 87\n",
      "Compartilhamento . . . . . . . . . . . . . . . . . . . . . . . . . . . . . . . . . . . . . 87\n",
      "Outras opções . . . . . . . . . . . . . . . . . . . . . . . . . . . . . . . . . . . . . . . 88\n",
      "Logs . . . . . . . . . . . . . . . . . . . . . . . . . . . . . . . . . . . . . . . . . . . . . 88\n",
      "Encerramento . . . . . . . . . . . . . . . . . . . . . . . . . . . . . . . . . . . . . . . . . . . 88\n",
      "Asimov Academy 4\n",
      "\n",
      "Explorando o Universo das IAs com Hugging Face\n",
      "01. O que é Hugging Face?\n",
      "Bem-vindos ao curso de Hugging Face da Asimov Academy!\n",
      "Neste curso, vamos explorar as principais utilidades da plataforma de IAHugging Face. Aprenderemos\n",
      "como utilizar a plataforma ao máximo, e como incorporar as bibliotecas de Python do Hugging Face\n",
      "aos nossos scripts de Python.\n",
      "Afinal, o que é Hugging Face?\n",
      "A Hugging Face é uma empresa que iniciou em 2017 na França, com o desenvolvimento de Chatbots.\n",
      "Com o tempo, passaram a desenvolver uma infraestrutura própria e bibliotecas de Python que sim-\n",
      "plificam o uso de modelos de NLP (processamento de linguagem natural, do inglêsnatural language\n",
      "processing).\n",
      "Figure 1: Página inicial do Hugging Face\n",
      "Desde então, a empresa passou a focar no desenvolvimento de uma plataforma colaborativa para a\n",
      "comunidade de IA, onde pesquisadores, empresas e entusiastas conseguem compartilhar modelos de\n",
      "IA e conjuntos de dados para as mais distintas tarefas. Em 2023, a empresa atingiu o valor de mercado\n",
      "de 4.5 Bilhões de dólares, ganhando investimento de empresas como Google, Meta, Microsoft, Nvidia\n",
      "e outras.\n",
      "Asimov Academy 5\n",
      "\n",
      "Explorando o Universo das IAs com Hugging Face\n",
      "É tudo aberto mesmo?\n",
      "Uma parte bastante considerável de tudo que está no Hugging Face éaberto, ou seja, qualquer um\n",
      "pode entrar e usar os modelos de IA, conjuntos de dados e demais recursos hospedados lá. Em alguns\n",
      "casos, é preciso consentir aos termos de uso de algum modelo de IA (acontece principalmente com\n",
      "modelos de empresas como Google e Meta), mas não há nada pelo que é preciso pagar.\n",
      "O Hugging Face cobra apenas se você quiser utilizar a infraestrutura deles para hospedar algum\n",
      "projeto privado pessoal ou da sua empresa.\n",
      "Como usaremos o Hugging Face?\n",
      "Neste curso, vamos explorar todo o potencial que existe na plataforma do Hugging Face. Isso inclui\n",
      "entender como acessar os modelos, conjuntos de dados, e aplicativos (os chamados “Spaces”) que\n",
      "estão na plataforma. (Note que vamos usar bastante o termo “modelos” , que é um pouco mais técnico\n",
      "que IAs.)\n",
      "O curso começa com um tour pela plataforma do Hugging Face, pra gente entender onde ficam as\n",
      "coisas na plataforma, e o que elas significam. Em seguida, vamos entender como usar as principais\n",
      "bibliotecas de Python que o Hugging Face disponibiliza, quais tarefas os modelos de IA são capazes de\n",
      "resolver, e como utilizar todas estas ferramentas para criar algumas soluções simples.\n",
      "Este curso não é exaustivo (afinal, com mais de 400 mil modelos atualmente, isso seria impossível), mas\n",
      "nosso foco não é apresentar todos os modelos que estão no Hugging Face. No lugar disso, queremos\n",
      "dar as condições para que vocês entendam como utilizar a plataforma e os modelos de IA que estão lá.\n",
      "A partir daí, podem construir as soluções a aplicações que fazem sentido no seu dia a dia ou na sua\n",
      "empresa, ou até mesmo começar algum negócio novo.\n",
      "Dito tudo isso, vamos começar!\n",
      "Asimov Academy 6\n",
      "\n",
      "Explorando o Universo das IAs com Hugging Face\n",
      "02. A plataforma Hugging Face\n",
      "A plataforma Hugging Face é dividida em 3 principais áreas:\n",
      "• Modelos: aqui você consegue buscar e visualizar todos os modelos de IA que estão na plataforma.\n",
      "• Spaces: estes são aplicativos web de IA rodando na estrutura do Hugging Face, produzidos pela\n",
      "comunidade.\n",
      "• Datasets: aqui estão depositados conjuntos de dados usados pra treinar modelos de IA. Alguns\n",
      "modelos estão vinculados a um dataset respectivo, mas também há datasets publicados para a\n",
      "comunidade (que não estão necessariamente atrelados a algum modelo).\n",
      "Figure 2: Opções da plataforma do Hugging Face.\n",
      "Modelos\n",
      "Na página principal dos modelos, há dois painéis disponíveis:\n",
      "1) Filtros: aqui é possível filtrar modelos por tarefa, língua, licença, e outros parâmetros.\n",
      "2) Modelos: aqui podemos selecionar um modelo e conferir seus detalhes. Também podemos\n",
      "ordenar os resultados de algumas formas diferentes.\n",
      "Asimov Academy 7\n",
      "\n",
      "Explorando o Universo das IAs com Hugging Face\n",
      "Figure 3: A página de busca dos modelos.\n",
      "Vamos entrar no modelo google/gemma-7b para ver seus detalhes.\n",
      "Página de um modelo\n",
      "A página de um modelo começa com um link para o usuário ou empresa que o criou, junto de seu\n",
      "nome. Podemos acessar o perfil do usuário para conhecer mais detalhes sobre ele.\n",
      "No restante da página de um modelo, há diversas informações organizadas. Vamos abordá-los por\n",
      "partes, conforme a imagem a seguir:\n",
      "Asimov Academy 8\n",
      "\n",
      "Explorando o Universo das IAs com Hugging Face\n",
      "Figure 4: A página de um modelo.\n",
      "1) Tags: aqui estão tags que nos informam alguns detalhes sobre o modelo. Conseguimos ver para\n",
      "qual tarefa (task) o modelo foi criado, com quais bibliotecas de Machine Learning ele foi criado\n",
      "(PyTorch, Tensorflow, . . . ) e com quais bibliotecas do Hugging Face conseguimos acessá-lo.\n",
      "2) Seletor de visualização: aqui você escolhe entre ver o cartão do modelo (informações), arquivos\n",
      "do modelo, e discussão da comunidade sobre o modelo.\n",
      "3) Banner de acesso: se o modelo tiver acesso restrito (isto é, você precisa estar logado e aceitar\n",
      "os termos de uso), um banner aparece aqui.\n",
      "4) Cartão do modelo: descrição de detalhes diversos do modelo, produzido pelos próprios autores\n",
      "dele.\n",
      "5) Informações de uso: aqui você pode conferir formas simples de usar o modelo via código, e\n",
      "sugestões de como fazer um deploy dele. Também aparecem estatísticas de tamanho do modelo\n",
      "e número de downloads.\n",
      "6) Inference API: se o modelo tiver a Inference API habilitada, uma caixa de interação aparece aqui.\n",
      "7) Spaces: se o modelo estiver sendo utilizado em algum webapp do Spaces, um link para cada\n",
      "Asimov Academy 9\n",
      "Human: Quais assuntos são tratados no documento?\u001b[0m\n",
      "\n",
      "\u001b[1m> Finished chain.\u001b[0m\n",
      "\n",
      "\u001b[1m> Finished chain.\u001b[0m\n"
     ]
    },
    {
     "data": {
      "text/plain": [
       "'O documento trata sobre a plataforma Hugging Face e suas utilidades, incluindo:\\n\\n1. Introdução ao Hugging Face e sua história.\\n2. Abertura e acessibilidade dos modelos e dados na plataforma.\\n3. Estrutura da plataforma, incluindo Modelos, Spaces e Datasets.\\n4. Testes de modelos de IA e comparação entre eles.\\n5. Uso da biblioteca Transformers e suas funcionalidades.\\n6. Criação de chatbots e estrutura de conversação.\\n7. Acesso à Inference API e como utilizá-la.\\n8. Modelos de tradução e resumo de textos.\\n9. Classificação de textos e análise de sentimento.\\n10. Acesso a Datasets do Hugging Face e considerações sobre a comunidade.\\n11. Criação de um Space com um webapp e considerações sobre deploy e encerramento. \\n\\nO documento é um guia para explorar e utilizar as ferramentas e recursos disponíveis no Hugging Face.'"
      ]
     },
     "execution_count": 7,
     "metadata": {},
     "output_type": "execute_result"
    }
   ],
   "source": [
    "pergunta = 'Quais assuntos são tratados no documento?'\n",
    "chain.run(input_documents=documentos[:10], question=pergunta)"
   ]
  },
  {
   "attachments": {},
   "cell_type": "markdown",
   "id": "ee7f9417",
   "metadata": {},
   "source": [
    "## Carregando csv"
   ]
  },
  {
   "cell_type": "code",
   "execution_count": 8,
   "id": "849d5530",
   "metadata": {},
   "outputs": [],
   "source": [
    "from langchain_community.document_loaders.csv_loader import CSVLoader\n",
    "\n",
    "path = 'E:/Documentos/Trabalho/Programacao/trilha_aplicacoes_ia/06 Aplicações de IA com LangChain/scripts/arquivos/Top 1000 IMDB movies.csv'\n",
    "\n",
    "loader = CSVLoader(path)\n",
    "documentos = loader.load()"
   ]
  },
  {
   "cell_type": "code",
   "execution_count": 9,
   "id": "effdd5f2",
   "metadata": {},
   "outputs": [
    {
     "data": {
      "text/plain": [
       "1000"
      ]
     },
     "execution_count": 9,
     "metadata": {},
     "output_type": "execute_result"
    }
   ],
   "source": [
    "len(documentos)"
   ]
  },
  {
   "cell_type": "code",
   "execution_count": 10,
   "id": "f67c335d",
   "metadata": {},
   "outputs": [
    {
     "name": "stdout",
     "output_type": "stream",
     "text": [
      ": 0\n",
      "Movie Name: The Shawshank Redemption\n",
      "Year of Release: (1994)\n",
      "Watch Time: 142 min\n",
      "Movie Rating: 9.3\n",
      "Meatscore of movie: 81\n",
      "Votes: 34,709\n",
      "Gross: $28.34M\n",
      "Description: Two imprisoned men bond over a number of years, finding solace and eventual redemption through acts of common decency.\n"
     ]
    }
   ],
   "source": [
    "print(documentos[0].page_content)"
   ]
  },
  {
   "cell_type": "code",
   "execution_count": 11,
   "id": "9a9b1c06",
   "metadata": {},
   "outputs": [
    {
     "data": {
      "text/plain": [
       "{'source': 'E:/Documentos/Trabalho/Programacao/trilha_aplicacoes_ia/06 Aplicações de IA com LangChain/scripts/arquivos/Top 1000 IMDB movies.csv',\n",
       " 'row': 0}"
      ]
     },
     "execution_count": 11,
     "metadata": {},
     "output_type": "execute_result"
    }
   ],
   "source": [
    "documentos[0].metadata"
   ]
  },
  {
   "cell_type": "code",
   "execution_count": 12,
   "id": "1e1d0ea9",
   "metadata": {},
   "outputs": [],
   "source": [
    "from langchain.chains.question_answering import load_qa_chain\n",
    "from langchain_openai.chat_models import ChatOpenAI\n",
    "\n",
    "chat = ChatOpenAI(model='gpt-4o-mini')\n",
    "\n",
    "chain = load_qa_chain(llm=chat, chain_type='stuff', verbose=True)"
   ]
  },
  {
   "cell_type": "code",
   "execution_count": 13,
   "id": "50098f9c",
   "metadata": {},
   "outputs": [
    {
     "name": "stdout",
     "output_type": "stream",
     "text": [
      "\n",
      "\n",
      "\u001b[1m> Entering new StuffDocumentsChain chain...\u001b[0m\n",
      "\n",
      "\n",
      "\u001b[1m> Entering new LLMChain chain...\u001b[0m\n",
      "Prompt after formatting:\n",
      "\u001b[32;1m\u001b[1;3mSystem: Use the following pieces of context to answer the user's question. \n",
      "If you don't know the answer, just say that you don't know, don't try to make up an answer.\n",
      "----------------\n",
      ": 0\n",
      "Movie Name: The Shawshank Redemption\n",
      "Year of Release: (1994)\n",
      "Watch Time: 142 min\n",
      "Movie Rating: 9.3\n",
      "Meatscore of movie: 81\n",
      "Votes: 34,709\n",
      "Gross: $28.34M\n",
      "Description: Two imprisoned men bond over a number of years, finding solace and eventual redemption through acts of common decency.\n",
      "\n",
      ": 1\n",
      "Movie Name: The Godfather\n",
      "Year of Release: (1972)\n",
      "Watch Time: 175 min\n",
      "Movie Rating: 9.2\n",
      "Meatscore of movie: 100\n",
      "Votes: 34,709\n",
      "Gross: $134.97M\n",
      "Description: The aging patriarch of an organized crime dynasty in postwar New York City transfers control of his clandestine empire to his reluctant youngest son.\n",
      "\n",
      ": 2\n",
      "Movie Name: The Dark Knight\n",
      "Year of Release: (2008)\n",
      "Watch Time: 152 min\n",
      "Movie Rating: 9.0\n",
      "Meatscore of movie: 84\n",
      "Votes: 34,709\n",
      "Gross: $534.86M\n",
      "Description: When the menace known as the Joker wreaks havoc and chaos on the people of Gotham, Batman must accept one of the greatest psychological and physical tests of his ability to fight injustice.\n",
      "\n",
      ": 3\n",
      "Movie Name: The Lord of the Rings: The Return of the King\n",
      "Year of Release: (2003)\n",
      "Watch Time: 201 min\n",
      "Movie Rating: 9.0\n",
      "Meatscore of movie: 94\n",
      "Votes: 34,709\n",
      "Gross: $377.85M\n",
      "Description: Gandalf and Aragorn lead the World of Men against Sauron's army to draw his gaze from Frodo and Sam as they approach Mount Doom with the One Ring.\n",
      "\n",
      ": 4\n",
      "Movie Name: Schindler's List\n",
      "Year of Release: (1993)\n",
      "Watch Time: 195 min\n",
      "Movie Rating: 9.0\n",
      "Meatscore of movie: 94\n",
      "Votes: 34,709\n",
      "Gross: $96.90M\n",
      "Description: In German-occupied Poland during World War II, industrialist Oskar Schindler gradually becomes concerned for his Jewish workforce after witnessing their persecution by the Nazis.\n",
      "\n",
      ": 5\n",
      "Movie Name: The Godfather: Part II\n",
      "Year of Release: (1974)\n",
      "Watch Time: 202 min\n",
      "Movie Rating: 9.0\n",
      "Meatscore of movie: 90\n",
      "Votes: 34,709\n",
      "Gross: $57.30M\n",
      "Description: The early life and career of Vito Corleone in 1920s New York City is portrayed, while his son, Michael, expands and tightens his grip on the family crime syndicate.\n",
      "\n",
      ": 6\n",
      "Movie Name: 12 Angry Men\n",
      "Year of Release: (1957)\n",
      "Watch Time: 96 min\n",
      "Movie Rating: 9.0\n",
      "Meatscore of movie: 96\n",
      "Votes: 34,709\n",
      "Gross: $4.36M\n",
      "Description: The jury in a New York City murder trial is frustrated by a single member whose skeptical caution forces them to more carefully consider the evidence before jumping to a hasty verdict.\n",
      "\n",
      ": 7\n",
      "Movie Name: Jai Bhim\n",
      "Year of Release: (2021)\n",
      "Watch Time: 164 min\n",
      "Movie Rating: 8.9\n",
      "Meatscore of movie: ****\n",
      "Votes: 34,709\n",
      "Gross: #248\n",
      "Description: When a tribal man is arrested for a case of alleged theft, his wife turns to a human-rights lawyer to help bring justice.\n",
      "\n",
      ": 8\n",
      "Movie Name: Pulp Fiction\n",
      "Year of Release: (1994)\n",
      "Watch Time: 154 min\n",
      "Movie Rating: 8.9\n",
      "Meatscore of movie: 94\n",
      "Votes: 34,709\n",
      "Gross: $107.93M\n",
      "Description: The lives of two mob hitmen, a boxer, a gangster and his wife, and a pair of diner bandits intertwine in four tales of violence and redemption.\n",
      "\n",
      ": 9\n",
      "Movie Name: Inception\n",
      "Year of Release: (2010)\n",
      "Watch Time: 148 min\n",
      "Movie Rating: 8.8\n",
      "Meatscore of movie: 74\n",
      "Votes: 34,709\n",
      "Gross: $292.58M\n",
      "Description: A thief who steals corporate secrets through the use of dream-sharing technology is given the inverse task of planting an idea into the mind of a C.E.O., but his tragic past may doom the project and his team to disaster.\n",
      "Human: Qual é o filme com maior metascore?\u001b[0m\n",
      "\n",
      "\u001b[1m> Finished chain.\u001b[0m\n",
      "\n",
      "\u001b[1m> Finished chain.\u001b[0m\n"
     ]
    },
    {
     "data": {
      "text/plain": [
       "'O filme com o maior metascore é \"The Godfather\", que possui um metascore de 100.'"
      ]
     },
     "execution_count": 13,
     "metadata": {},
     "output_type": "execute_result"
    }
   ],
   "source": [
    "pergunta= 'Qual é o filme com maior metascore?'\n",
    "chain.run(input_documents=documentos[:10], question=pergunta)"
   ]
  },
  {
   "attachments": {},
   "cell_type": "markdown",
   "id": "06d854ec",
   "metadata": {},
   "source": [
    "## Carregando da Internet"
   ]
  },
  {
   "attachments": {},
   "cell_type": "markdown",
   "id": "93ae3438",
   "metadata": {},
   "source": [
    "### Youtube"
   ]
  },
  {
   "cell_type": "code",
   "execution_count": 14,
   "id": "69743477",
   "metadata": {},
   "outputs": [],
   "source": [
    "from langchain_community.document_loaders.generic import GenericLoader\n",
    "from langchain_community.document_loaders.blob_loaders.youtube_audio import YoutubeAudioLoader\n",
    "from langchain.document_loaders.parsers import OpenAIWhisperParser"
   ]
  },
  {
   "cell_type": "code",
   "execution_count": 15,
   "id": "908b3075",
   "metadata": {},
   "outputs": [
    {
     "name": "stdout",
     "output_type": "stream",
     "text": [
      "[youtube] Extracting URL: https://youtu.be/rOjusRRO1EI?si=_JuC-5GsuVod8rhL\n",
      "[youtube] rOjusRRO1EI: Downloading webpage\n",
      "[youtube] rOjusRRO1EI: Downloading tv client config\n",
      "[youtube] rOjusRRO1EI: Downloading tv player API JSON\n",
      "[youtube] rOjusRRO1EI: Downloading ios player API JSON\n",
      "[youtube] rOjusRRO1EI: Downloading player 59b252b9-main\n",
      "[youtube] rOjusRRO1EI: Downloading m3u8 information\n",
      "[info] rOjusRRO1EI: Downloading 1 format(s): 140\n",
      "[download] E:\\Documentos\\Trabalho\\Programacao\\trilha_aplicacoes_ia\\06 Aplicações de IA com LangChain\\scripts\\docs\\youtube\\Como usar o GPT com seus próprios dados？.m4a has already been downloaded\n",
      "[download] 100% of   25.62MiB\n",
      "[ExtractAudio] Not converting audio E:\\Documentos\\Trabalho\\Programacao\\trilha_aplicacoes_ia\\06 Aplicações de IA com LangChain\\scripts\\docs\\youtube\\Como usar o GPT com seus próprios dados？.m4a; file is already in target format m4a\n",
      "Transcribing part 1!\n",
      "Transcribing part 2!\n"
     ]
    }
   ],
   "source": [
    "url = 'https://youtu.be/rOjusRRO1EI?si=_JuC-5GsuVod8rhL'\n",
    "save_dir = 'E:/Documentos/Trabalho/Programacao/trilha_aplicacoes_ia/06 Aplicações de IA com LangChain/scripts/docs/youtube'\n",
    "loader = GenericLoader(\n",
    "    YoutubeAudioLoader([url], save_dir),\n",
    "    OpenAIWhisperParser()\n",
    ")\n",
    "docs = loader.load()"
   ]
  },
  {
   "cell_type": "code",
   "execution_count": 16,
   "id": "5ae1bcbb",
   "metadata": {},
   "outputs": [
    {
     "data": {
      "text/plain": [
       "2"
      ]
     },
     "execution_count": 16,
     "metadata": {},
     "output_type": "execute_result"
    }
   ],
   "source": [
    "len(docs)"
   ]
  },
  {
   "cell_type": "code",
   "execution_count": 17,
   "id": "29ba50c6",
   "metadata": {},
   "outputs": [
    {
     "name": "stdout",
     "output_type": "stream",
     "text": [
      "Esse simples sistema aqui, essa telinha feia, com esse formulário aqui quase ridículo, é o tipo de projeto mais poderoso que vocês podem construir hoje em dia utilizando inteligência artificial. E o que isso aqui tem de tão especial? Esse sistema especificamente é capaz de responder perguntas sobre o funcionamento da Asimov porque ele foi treinado em uma base de conhecimentos que o nosso time está alimentando sobre como a empresa funciona. Então, nesse caso em específico, ele é capaz de responde\n"
     ]
    }
   ],
   "source": [
    "print(docs[0].page_content[:500])"
   ]
  },
  {
   "cell_type": "code",
   "execution_count": 18,
   "id": "2ea4a0f9",
   "metadata": {},
   "outputs": [
    {
     "data": {
      "text/plain": [
       "{'source': 'E:\\\\Documentos\\\\Trabalho\\\\Programacao\\\\trilha_aplicacoes_ia\\\\06 Aplicações de IA com LangChain\\\\scripts\\\\docs\\\\youtube\\\\Como usar o GPT com seus próprios dados？.m4a',\n",
       " 'chunk': 0}"
      ]
     },
     "execution_count": 18,
     "metadata": {},
     "output_type": "execute_result"
    }
   ],
   "source": [
    "docs[0].metadata"
   ]
  },
  {
   "attachments": {},
   "cell_type": "markdown",
   "id": "2f07cd76",
   "metadata": {},
   "source": [
    "### URLs"
   ]
  },
  {
   "cell_type": "code",
   "execution_count": 19,
   "id": "05dafde7",
   "metadata": {},
   "outputs": [],
   "source": [
    "from langchain_community.document_loaders.web_base import WebBaseLoader\n",
    "\n",
    "\n",
    "url = 'https://hub.asimov.academy/blog/listas-em-python/'\n",
    "loader = WebBaseLoader(url)\n",
    "documentos = loader.load()"
   ]
  },
  {
   "cell_type": "code",
   "execution_count": 20,
   "id": "8898ea57",
   "metadata": {},
   "outputs": [
    {
     "data": {
      "text/plain": [
       "1"
      ]
     },
     "execution_count": 20,
     "metadata": {},
     "output_type": "execute_result"
    }
   ],
   "source": [
    "len(documentos)"
   ]
  },
  {
   "cell_type": "code",
   "execution_count": 21,
   "id": "05049277",
   "metadata": {},
   "outputs": [
    {
     "name": "stdout",
     "output_type": "stream",
     "text": [
      "\n",
      "\n",
      "\n",
      "\n",
      "\n",
      "\n",
      "\n",
      "\n",
      "\n",
      "\n",
      "\n",
      "\n",
      "\n",
      "\n",
      "\n",
      "\n",
      "Lista em Python: o que são e como funcionam | Asimov Academy\n",
      "\n",
      "\n",
      "\n",
      "\n",
      "\n",
      "\n",
      "\n",
      "\n",
      "\n",
      "\n",
      "\n",
      "\n",
      "\n",
      "\n",
      "\n",
      "\n",
      "\n",
      "\n",
      "\n",
      "\n",
      "\n",
      "\n",
      "\n",
      "\n",
      "\n",
      "\n",
      "\n",
      "\n",
      "\n",
      "\n",
      "\n",
      "\n",
      "\n",
      "\n",
      "\n",
      "\n",
      "\n",
      "\n",
      "\n",
      "\n",
      "\n",
      "\n",
      "\n",
      "\n",
      "\n",
      "\n",
      "\n",
      "\n",
      "\n",
      "\n",
      "\n",
      "\n",
      "\n",
      "\n",
      "\n",
      "\n",
      "\n",
      "\n",
      "\n",
      "\n",
      "\n",
      "\n",
      "\n",
      "\n",
      "\n",
      "\n",
      "\n",
      "\n",
      "\n",
      "\n",
      "\n",
      "\n",
      "\n",
      "\n",
      "\n",
      "\n",
      "\n",
      "\n",
      "\n",
      "\n",
      "\n",
      "\n",
      "\n",
      "\n",
      "\n",
      "\n",
      "\n",
      "\n",
      "\n",
      "\n",
      "Tamanho de fonte\n",
      "\n",
      "A\n",
      "A\n",
      "A\n",
      "A\n",
      "\n",
      "\n",
      "\n",
      "Alto contraste\n",
      "\n",
      "Ligado\n",
      "Desligado\n",
      "\n",
      "\n",
      "\n",
      "Altura de linha\n",
      "\n",
      "1\n",
      "1.3\n",
      "1.5\n",
      "1.7\n",
      "2.0\n",
      "\n",
      "\n",
      "\n",
      " \n",
      "\n",
      "\n",
      "\n",
      "Pesquisar na plataforma\n",
      "\n",
      "\n",
      "\n",
      "\n",
      "\n",
      "Entrar\n",
      "Cadastrar\n",
      "\n",
      "\n",
      "\n",
      "\n",
      "\n",
      "Blog\n",
      "\n",
      "\n",
      "Artigos\n",
      "\n",
      "\n",
      "Tutoriais\n",
      "\n",
      "\n",
      "Materiais Extras\n",
      "\n",
      "\n",
      "Escreva para nós!\n",
      "200xp \n",
      "\n",
      "\n",
      "\n",
      "\n",
      "\n",
      "\n",
      "\n",
      "\n",
      "\n",
      "\n",
      "            Home          \n",
      "\n",
      "\n",
      "\n",
      "\n",
      "            Blog          \n",
      "\n",
      "\n",
      "\n",
      "\n",
      "            Programação Python          \n",
      "\n",
      "\n",
      "\n",
      "Lista em Python: o que são e como funcionam\n",
      "\n",
      "\n",
      "Renata Lopes\n",
      "\n",
      "\n",
      "\n",
      "\n",
      "\n",
      "              16 minutos de leitura\n",
      "            \n",
      "\n",
      "\n",
      "              12/04/2024 • Atualizado 7 meses atrás \n",
      "5xp \n",
      "\n",
      "\n",
      "\n",
      "\n",
      "\n",
      "\n",
      "\n",
      "\n",
      "\n",
      "\n",
      "\n",
      "Já conhece a lista em Python? Quer entender como manipular listas e quais são suas principais utilidades e métodos? Sabe qual a diferença entre listas e tuplas? Este artigo responde responde isso e muito mais! Aproveite ao máximo todo o potencial dessa estrutura de dados essencial para a programação \n"
     ]
    }
   ],
   "source": [
    "print(documentos[0].page_content[:1000])"
   ]
  },
  {
   "attachments": {},
   "cell_type": "markdown",
   "id": "0d1eba9a",
   "metadata": {},
   "source": [
    "## Carregando do Notion"
   ]
  },
  {
   "cell_type": "code",
   "execution_count": null,
   "id": "9caae13b",
   "metadata": {},
   "outputs": [],
   "source": [
    "from langchain_community.document_loaders.notion import NotionDirectoryLoader\n",
    "\n",
    "path = 'caminho/para/o/notion/descompactado'\n",
    "loader = NotionDirectoryLoader(path)\n",
    "documentos = loader.load()"
   ]
  },
  {
   "cell_type": "code",
   "execution_count": null,
   "id": "3ec22a60",
   "metadata": {},
   "outputs": [],
   "source": [
    "len(documentos)"
   ]
  },
  {
   "cell_type": "code",
   "execution_count": null,
   "id": "ddb2ab50",
   "metadata": {},
   "outputs": [],
   "source": [
    "print(documentos[0].page_content[:10])"
   ]
  },
  {
   "cell_type": "code",
   "execution_count": null,
   "id": "5bb0adfe",
   "metadata": {},
   "outputs": [
    {
     "data": {
      "text/plain": [
       "{'source': 'arquivos\\\\notion_db\\\\Wiki da Asimov 9d5b5c18267b4db2af0e216e8d418745\\\\Arrumar dados do Database 98cb8cde71cc489e8be9ba405bf19596.md'}"
      ]
     },
     "execution_count": 19,
     "metadata": {},
     "output_type": "execute_result"
    }
   ],
   "source": [
    "documentos[0].metadata"
   ]
  }
 ],
 "metadata": {
  "kernelspec": {
   "display_name": "venv311",
   "language": "python",
   "name": "python3"
  },
  "language_info": {
   "codemirror_mode": {
    "name": "ipython",
    "version": 3
   },
   "file_extension": ".py",
   "mimetype": "text/x-python",
   "name": "python",
   "nbconvert_exporter": "python",
   "pygments_lexer": "ipython3",
   "version": "3.11.9"
  }
 },
 "nbformat": 4,
 "nbformat_minor": 5
}
