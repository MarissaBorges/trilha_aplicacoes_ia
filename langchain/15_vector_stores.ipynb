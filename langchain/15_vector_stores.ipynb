{
 "cells": [
  {
   "cell_type": "code",
   "execution_count": 1,
   "id": "49f7aadb",
   "metadata": {},
   "outputs": [
    {
     "data": {
      "text/plain": [
       "True"
      ]
     },
     "execution_count": 1,
     "metadata": {},
     "output_type": "execute_result"
    }
   ],
   "source": [
    "from dotenv import load_dotenv\n",
    "load_dotenv()"
   ]
  },
  {
   "attachments": {},
   "cell_type": "markdown",
   "id": "13d7fc40",
   "metadata": {},
   "source": [
    "# VectorStores"
   ]
  },
  {
   "attachments": {},
   "cell_type": "markdown",
   "id": "40fddf28",
   "metadata": {},
   "source": [
    "Uma das maneiras mais comuns de armazenar e buscar dados não estruturados é realizando o embedding e armazenando os vetores resultantes e, em seguida, na hora da consulta, realizar o embedding da consulta e recuperar os vetores 'mais semelhantes'. Uma VectorStore faz o armazenamento dos vetores e a realização da busca de vetores para você"
   ]
  },
  {
   "attachments": {},
   "cell_type": "markdown",
   "id": "75b6dcb5",
   "metadata": {},
   "source": [
    "## Chroma VectorStore"
   ]
  },
  {
   "cell_type": "code",
   "execution_count": 4,
   "id": "80c871d0",
   "metadata": {},
   "outputs": [],
   "source": [
    "from langchain_community.document_loaders.pdf import PyPDFLoader\n",
    "from langchain_text_splitters import RecursiveCharacterTextSplitter"
   ]
  },
  {
   "attachments": {},
   "cell_type": "markdown",
   "id": "06928c56",
   "metadata": {},
   "source": [
    "### Document Laoding"
   ]
  },
  {
   "cell_type": "code",
   "execution_count": 6,
   "id": "6bafa8a7",
   "metadata": {},
   "outputs": [],
   "source": [
    "path = 'E:/Documentos/Trabalho/Programacao/trilha_aplicacoes_ia/06 Aplicações de IA com LangChain/scripts/arquivos/Explorando o Universo das IAs com Hugging Face.pdf'\n",
    "loader = PyPDFLoader(path)\n",
    "paginas = loader.load()"
   ]
  },
  {
   "cell_type": "code",
   "execution_count": 8,
   "id": "30300c62",
   "metadata": {},
   "outputs": [
    {
     "data": {
      "text/plain": [
       "89"
      ]
     },
     "execution_count": 8,
     "metadata": {},
     "output_type": "execute_result"
    }
   ],
   "source": [
    "len(paginas)"
   ]
  },
  {
   "attachments": {},
   "cell_type": "markdown",
   "id": "d952ce83",
   "metadata": {},
   "source": [
    "### Text Splitting"
   ]
  },
  {
   "cell_type": "code",
   "execution_count": null,
   "id": "664d424d",
   "metadata": {},
   "outputs": [
    {
     "data": {
      "text/plain": [
       "266"
      ]
     },
     "execution_count": 4,
     "metadata": {},
     "output_type": "execute_result"
    }
   ],
   "source": [
    "recur_split = RecursiveCharacterTextSplitter(\n",
    "    chunk_size= 450,\n",
    "    chunk_overlap= 0,\n",
    "    separators=['\\n\\n', '\\n', '.', ' ', '']\n",
    ")\n",
    "\n",
    "documents = recur_split.split_documents(paginas)\n",
    "len(documents)"
   ]
  },
  {
   "attachments": {},
   "cell_type": "markdown",
   "id": "68ecfd35",
   "metadata": {},
   "source": [
    "### Criando a VectorStore"
   ]
  },
  {
   "cell_type": "code",
   "execution_count": 9,
   "id": "849b4fb2",
   "metadata": {},
   "outputs": [],
   "source": [
    "from langchain_openai import OpenAIEmbeddings\n",
    "\n",
    "embeddings_model = OpenAIEmbeddings()"
   ]
  },
  {
   "cell_type": "code",
   "execution_count": 10,
   "id": "eb8a4c47",
   "metadata": {},
   "outputs": [],
   "source": [
    "from langchain_chroma import Chroma\n",
    "\n",
    "diretorio = 'E:/Documentos/Trabalho/Programacao/trilha_aplicacoes_ia/06 Aplicações de IA com LangChain/scripts/arquivos/chroma_vectorstore'\n",
    "\n",
    "vectorstore = Chroma.from_documents(\n",
    "    documents=documents,\n",
    "    embedding=embeddings_model,\n",
    "    persist_directory=diretorio\n",
    ")"
   ]
  },
  {
   "cell_type": "code",
   "execution_count": 11,
   "id": "e345763b",
   "metadata": {},
   "outputs": [
    {
     "name": "stdout",
     "output_type": "stream",
     "text": [
      "820\n"
     ]
    }
   ],
   "source": [
    "print(vectorstore._collection.count())"
   ]
  },
  {
   "cell_type": "markdown",
   "id": "46b31a7e",
   "metadata": {},
   "source": [
    "### Importando vectorstore do disco"
   ]
  },
  {
   "cell_type": "code",
   "execution_count": 12,
   "id": "9d712600",
   "metadata": {},
   "outputs": [],
   "source": [
    "vectorstore = Chroma(\n",
    "    embedding_function=embeddings_model,\n",
    "    persist_directory=diretorio\n",
    ")"
   ]
  },
  {
   "attachments": {},
   "cell_type": "markdown",
   "id": "07972f66",
   "metadata": {},
   "source": [
    "### Retrieval"
   ]
  },
  {
   "cell_type": "code",
   "execution_count": 14,
   "id": "2778ea17",
   "metadata": {},
   "outputs": [
    {
     "data": {
      "text/plain": [
       "5"
      ]
     },
     "execution_count": 14,
     "metadata": {},
     "output_type": "execute_result"
    }
   ],
   "source": [
    "pergunta = 'O que é o Hugging Face?'\n",
    "\n",
    "docs = vectorstore.similarity_search(pergunta, k=5)\n",
    "len(docs)"
   ]
  },
  {
   "cell_type": "code",
   "execution_count": 15,
   "id": "4cbc37c4",
   "metadata": {},
   "outputs": [
    {
     "name": "stdout",
     "output_type": "stream",
     "text": [
      "Explorando o Universo das IAs com Hugging Face\n",
      "01. O que é Hugging Face?\n",
      "Bem-vindos ao curso de Hugging Face da Asimov Academy!\n",
      "Neste curso, vamos explorar as principais utilidades da plataforma de IAHugging Face. Aprenderemos\n",
      "como utilizar a plataforma ao máximo, e como incorporar as bibliotecas de Python do Hugging Face\n",
      "aos nossos scripts de Python.\n",
      "Afinal, o que é Hugging Face?\n",
      "A Hugging Face é uma empresa que iniciou em 2017 na França, com o desenvolvimento de Chatbots.\n",
      "=============== {'page': 5, 'source': 'arquivos/Explorando o Universo das IAs com Hugging Face.pdf'}\n",
      "\n",
      "\n",
      "Explorando o Universo das IAs com Hugging Face\n",
      "01. O que é Hugging Face?\n",
      "Bem-vindos ao curso de Hugging Face da Asimov Academy!\n",
      "Neste curso, vamos explorar as principais utilidades da plataforma de IAHugging Face. Aprenderemos\n",
      "como utilizar a plataforma ao máximo, e como incorporar as bibliotecas de Python do Hugging Face\n",
      "aos nossos scripts de Python.\n",
      "Afinal, o que é Hugging Face?\n",
      "A Hugging Face é uma empresa que iniciou em 2017 na França, com o desenvolvimento de Chatbots.\n",
      "=============== {'page': 5, 'source': 'arquivos/Explorando o Universo das IAs com Hugging Face.pdf'}\n",
      "\n",
      "\n",
      "Explorando o Universo das IAs com Hugging Face\n",
      "01. O que é Hugging Face?\n",
      "Bem-vindos ao curso de Hugging Face da Asimov Academy!\n",
      "Neste curso, vamos explorar as principais utilidades da plataforma de IAHugging Face. Aprenderemos\n",
      "como utilizar a plataforma ao máximo, e como incorporar as bibliotecas de Python do Hugging Face\n",
      "aos nossos scripts de Python.\n",
      "Afinal, o que é Hugging Face?\n",
      "=============== {'page': 5, 'source': 'E:/Documentos/Trabalho/Programacao/trilha_aplicacoes_ia/06 Aplicações de IA com LangChain/scripts/arquivos/Explorando o Universo das IAs com Hugging Face.pdf'}\n",
      "\n",
      "\n",
      "Explorando o Universo das IAs com Hugging Face\n",
      "Conteúdo\n",
      "01. O que é Hugging Face? 5\n",
      "Afinal, o que é Hugging Face? . . . . . . . . . . . . . . . . . . . . . . . . . . . . . . . . . . 5\n",
      "É tudo aberto mesmo? . . . . . . . . . . . . . . . . . . . . . . . . . . . . . . . . . . . 6\n",
      "Como usaremos o Hugging Face? . . . . . . . . . . . . . . . . . . . . . . . . . . . . . . . . 6\n",
      "02. A plataforma Hugging Face 7\n",
      "=============== {'page': 1, 'source': 'arquivos/Explorando o Universo das IAs com Hugging Face.pdf'}\n",
      "\n",
      "\n",
      "Explorando o Universo das IAs com Hugging Face\n",
      "Conteúdo\n",
      "01. O que é Hugging Face? 5\n",
      "Afinal, o que é Hugging Face? . . . . . . . . . . . . . . . . . . . . . . . . . . . . . . . . . . 5\n",
      "É tudo aberto mesmo? . . . . . . . . . . . . . . . . . . . . . . . . . . . . . . . . . . . 6\n",
      "Como usaremos o Hugging Face? . . . . . . . . . . . . . . . . . . . . . . . . . . . . . . . . 6\n",
      "02. A plataforma Hugging Face 7\n",
      "=============== {'page': 1, 'source': 'E:/Documentos/Trabalho/Programacao/trilha_aplicacoes_ia/06 Aplicações de IA com LangChain/scripts/arquivos/Explorando o Universo das IAs com Hugging Face.pdf'}\n",
      "\n",
      "\n"
     ]
    }
   ],
   "source": [
    "for doc in docs:\n",
    "    print(doc.page_content)\n",
    "    print(f'=============== {doc.metadata}\\n\\n')"
   ]
  },
  {
   "attachments": {},
   "cell_type": "markdown",
   "id": "e18647fc",
   "metadata": {},
   "source": [
    "## FAISS VectorStore"
   ]
  },
  {
   "attachments": {},
   "cell_type": "markdown",
   "id": "3d27ce6a",
   "metadata": {},
   "source": [
    "https://python.langchain.com/docs/integrations/vectorstores/"
   ]
  },
  {
   "cell_type": "code",
   "execution_count": 18,
   "id": "07534776",
   "metadata": {},
   "outputs": [],
   "source": [
    "from langchain_community.document_loaders.pdf import PyPDFLoader\n",
    "from langchain_text_splitters import RecursiveCharacterTextSplitter"
   ]
  },
  {
   "cell_type": "code",
   "execution_count": 20,
   "id": "37d5ea16",
   "metadata": {},
   "outputs": [],
   "source": [
    "path = 'E:/Documentos/Trabalho/Programacao/trilha_aplicacoes_ia/06 Aplicações de IA com LangChain/scripts/arquivos/Explorando o Universo das IAs com Hugging Face.pdf'\n",
    "\n",
    "loader = PyPDFLoader(path)\n",
    "paginas = loader.load()\n",
    "\n",
    "recur_split = RecursiveCharacterTextSplitter(\n",
    "    chunk_size=450,\n",
    "    chunk_overlap=0,\n",
    "    separators=['/n/n', '\\n', '.', ' ', '']\n",
    ")\n",
    "\n",
    "documents = recur_split.split_documents(paginas)"
   ]
  },
  {
   "cell_type": "code",
   "execution_count": 21,
   "id": "19faf557",
   "metadata": {},
   "outputs": [],
   "source": [
    "from langchain_openai import OpenAIEmbeddings\n",
    "\n",
    "embeddings_model = OpenAIEmbeddings()"
   ]
  },
  {
   "cell_type": "code",
   "execution_count": 22,
   "id": "edef8540",
   "metadata": {},
   "outputs": [],
   "source": [
    "from langchain_community.vectorstores.faiss import FAISS\n",
    "\n",
    "vectorstore = FAISS.from_documents(\n",
    "    documents=documents,\n",
    "    embedding=embeddings_model\n",
    ")"
   ]
  },
  {
   "cell_type": "code",
   "execution_count": 24,
   "id": "479f1fe0",
   "metadata": {},
   "outputs": [
    {
     "data": {
      "text/plain": [
       "5"
      ]
     },
     "execution_count": 24,
     "metadata": {},
     "output_type": "execute_result"
    }
   ],
   "source": [
    "pergunta = 'O que é Hugging Face?'\n",
    "\n",
    "docs = vectorstore.similarity_search(pergunta, k=5)\n",
    "len(docs)"
   ]
  },
  {
   "cell_type": "code",
   "execution_count": 26,
   "id": "2f050009",
   "metadata": {},
   "outputs": [
    {
     "name": "stdout",
     "output_type": "stream",
     "text": [
      "Explorando o Universo das IAs com Hugging Face\n",
      "01. O que é Hugging Face?\n",
      "Bem-vindos ao curso de Hugging Face da Asimov Academy!\n",
      "Neste curso, vamos explorar as principais utilidades da plataforma de IAHugging Face. Aprenderemos\n",
      "como utilizar a plataforma ao máximo, e como incorporar as bibliotecas de Python do Hugging Face\n",
      "aos nossos scripts de Python.\n",
      "Afinal, o que é Hugging Face?\n",
      "==============={'source': 'E:/Documentos/Trabalho/Programacao/trilha_aplicacoes_ia/06 Aplicações de IA com LangChain/scripts/arquivos/Explorando o Universo das IAs com Hugging Face.pdf', 'page': 5}\n",
      "\n",
      "Explorando o Universo das IAs com Hugging Face\n",
      "Conteúdo\n",
      "01. O que é Hugging Face? 5\n",
      "Afinal, o que é Hugging Face? . . . . . . . . . . . . . . . . . . . . . . . . . . . . . . . . . . 5\n",
      "É tudo aberto mesmo? . . . . . . . . . . . . . . . . . . . . . . . . . . . . . . . . . . . 6\n",
      "Como usaremos o Hugging Face? . . . . . . . . . . . . . . . . . . . . . . . . . . . . . . . . 6\n",
      "02. A plataforma Hugging Face 7\n",
      "==============={'source': 'E:/Documentos/Trabalho/Programacao/trilha_aplicacoes_ia/06 Aplicações de IA com LangChain/scripts/arquivos/Explorando o Universo das IAs com Hugging Face.pdf', 'page': 1}\n",
      "\n",
      "A Hugging Face é uma empresa que iniciou em 2017 na França, com o desenvolvimento de Chatbots.\n",
      "Com o tempo, passaram a desenvolver uma infraestrutura própria e bibliotecas de Python que sim-\n",
      "plificam o uso de modelos de NLP (processamento de linguagem natural, do inglêsnatural language\n",
      "processing).\n",
      "Figure 1: Página inicial do Hugging Face\n",
      "Desde então, a empresa passou a focar no desenvolvimento de uma plataforma colaborativa para a\n",
      "==============={'source': 'E:/Documentos/Trabalho/Programacao/trilha_aplicacoes_ia/06 Aplicações de IA com LangChain/scripts/arquivos/Explorando o Universo das IAs com Hugging Face.pdf', 'page': 5}\n",
      "\n",
      "Explorando o Universo das IAs com Hugging Face\n",
      "16. Conhecendo a comunidade do Hugging Face\n",
      "Como já falamos anteriormente, o Hugging Face tem o tamanho que tem principalmente por causa de\n",
      "sua comunidade. Vamos explorar alguns pontos relacionados a ela nesta aula.\n",
      "Página inicial\n",
      "Quando você abrir a página inicial do Hugging Face enquanto está logado, verá diversas opções\n",
      "==============={'source': 'E:/Documentos/Trabalho/Programacao/trilha_aplicacoes_ia/06 Aplicações de IA com LangChain/scripts/arquivos/Explorando o Universo das IAs com Hugging Face.pdf', 'page': 71}\n",
      "\n",
      "Explorando o Universo das IAs com Hugging Face\n",
      "Hugging Face, desde que você utilize a configuração mais básica.\n",
      "Figure 27: Página inicial dos Spaces do Hugging Face\n",
      "Este link apresenta os principais features dos Spaces do Hugging Face.\n",
      "Asimov Academy 73\n",
      "==============={'source': 'E:/Documentos/Trabalho/Programacao/trilha_aplicacoes_ia/06 Aplicações de IA com LangChain/scripts/arquivos/Explorando o Universo das IAs com Hugging Face.pdf', 'page': 73}\n",
      "\n"
     ]
    }
   ],
   "source": [
    "for doc in docs:\n",
    "    print(doc.page_content)\n",
    "    print(f'==============={doc.metadata}')\n",
    "    print()"
   ]
  },
  {
   "cell_type": "markdown",
   "id": "ce54a897",
   "metadata": {},
   "source": [
    "### Salvando bd FAISS"
   ]
  },
  {
   "cell_type": "code",
   "execution_count": 31,
   "id": "422c14a2",
   "metadata": {},
   "outputs": [],
   "source": [
    "vectorstore.save_local('arquivos/faiss_bd')"
   ]
  },
  {
   "cell_type": "markdown",
   "id": "e8b105d5",
   "metadata": {},
   "source": [
    "### Importando bd FAISS"
   ]
  },
  {
   "cell_type": "code",
   "execution_count": 33,
   "id": "e3e66dd7",
   "metadata": {},
   "outputs": [],
   "source": [
    "from langchain_community.vectorstores.faiss import FAISS\n",
    "\n",
    "vectorstore = FAISS.load_local(\n",
    "    'arquivos/faiss_bd',\n",
    "    embeddings=embeddings_model,\n",
    "    allow_dangerous_deserialization=True\n",
    ")"
   ]
  }
 ],
 "metadata": {
  "kernelspec": {
   "display_name": "venv311",
   "language": "python",
   "name": "python3"
  },
  "language_info": {
   "codemirror_mode": {
    "name": "ipython",
    "version": 3
   },
   "file_extension": ".py",
   "mimetype": "text/x-python",
   "name": "python",
   "nbconvert_exporter": "python",
   "pygments_lexer": "ipython3",
   "version": "3.11.9"
  }
 },
 "nbformat": 4,
 "nbformat_minor": 5
}
