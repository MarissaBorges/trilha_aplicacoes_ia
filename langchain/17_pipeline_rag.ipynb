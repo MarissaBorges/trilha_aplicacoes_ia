{
 "cells": [
  {
   "cell_type": "code",
   "execution_count": 1,
   "id": "e3ef5c8f",
   "metadata": {},
   "outputs": [
    {
     "data": {
      "text/plain": [
       "True"
      ]
     },
     "execution_count": 1,
     "metadata": {},
     "output_type": "execute_result"
    }
   ],
   "source": [
    "from dotenv import load_dotenv\n",
    "load_dotenv()"
   ]
  },
  {
   "attachments": {},
   "cell_type": "markdown",
   "id": "13d7fc40",
   "metadata": {},
   "source": [
    "# Conversando com os dados"
   ]
  },
  {
   "cell_type": "code",
   "execution_count": 17,
   "id": "319493c5",
   "metadata": {},
   "outputs": [],
   "source": [
    "from langchain_openai import OpenAIEmbeddings\n",
    "from langchain_community.vectorstores.faiss import FAISS\n",
    "\n",
    "from langchain_community.document_loaders.pdf import PyPDFLoader\n",
    "from langchain_text_splitters import RecursiveCharacterTextSplitter"
   ]
  },
  {
   "cell_type": "code",
   "execution_count": 19,
   "id": "b1cd506c",
   "metadata": {},
   "outputs": [],
   "source": [
    "caminhos = [\n",
    "    'arquivos/Explorando a API da OpenAI.pdf'\n",
    "]\n",
    "\n",
    "paginas = []\n",
    "for caminho in caminhos:\n",
    "    loader = PyPDFLoader(caminho)\n",
    "    paginas.extend(loader.load())\n",
    "\n",
    "recur_split = RecursiveCharacterTextSplitter(\n",
    "    chunk_size=1000,\n",
    "    chunk_overlap=10,\n",
    "    separators=['\\n\\n', '\\n', '.', ' ', '']\n",
    ")\n",
    "\n",
    "documents = recur_split.split_documents(paginas)"
   ]
  },
  {
   "cell_type": "code",
   "execution_count": 20,
   "id": "9d9fb7be",
   "metadata": {},
   "outputs": [],
   "source": [
    "vectorstore = FAISS.from_documents(\n",
    "    documents=documents,\n",
    "    embedding=OpenAIEmbeddings()\n",
    ")"
   ]
  },
  {
   "attachments": {},
   "cell_type": "markdown",
   "id": "892e580f",
   "metadata": {},
   "source": [
    "## Criando estrutura de conversa"
   ]
  },
  {
   "cell_type": "code",
   "execution_count": null,
   "id": "887ad219",
   "metadata": {},
   "outputs": [],
   "source": [
    "from langchain_core.prompts import ChatPromptTemplate as cpt\n",
    "\n",
    "prompt = cpt.from_template(\n",
    "    '''Responda as perguntas se baseando no contexto fornecido\n",
    "    \n",
    "    contexto: {contexto}\n",
    "    \n",
    "    pergunta: {pergunta}''')"
   ]
  },
  {
   "cell_type": "code",
   "execution_count": 22,
   "id": "2bf8935e",
   "metadata": {},
   "outputs": [],
   "source": [
    "from langchain_core.runnables import RunnableParallel, RunnablePassthrough\n",
    "\n",
    "retriever = vectorstore.as_retriever(search_type='mmr', search_kwargs={'k':5, 'fetch_k': 25})\n",
    "setup = RunnableParallel({\n",
    "    'pergunta': RunnablePassthrough(),\n",
    "    'contexto': retriever\n",
    "})"
   ]
  },
  {
   "cell_type": "code",
   "execution_count": null,
   "id": "37354279",
   "metadata": {},
   "outputs": [
    {
     "data": {
      "text/plain": [
       "{'pergunta': 'O que é a OpenAI?',\n",
       " 'contexto': [Document(metadata={'source': 'arquivos/Explorando a API da OpenAI.pdf', 'page': 9}, page_content='Explorando a API da OpenAI\\nGuias\\nTambém está disponível diversos guias de boas práticas recomendadas ao utilizar os modelos da\\nOpenAI.\\nAsimov Academy 9'),\n",
       "  Document(metadata={'source': 'arquivos/Explorando a API da OpenAI.pdf', 'page': 23}, page_content=\"ChatCompletion da biblioteca da OpenAI:\\nimport openai\\nfrom dotenv import load_dotenv, find_dotenv\\n_ = load_dotenv(find_dotenv())\\nclient = openai.Client()\\nmensagens = [{ 'role': 'user', 'content': 'O que é uma maçã em até 5 palavras? '}]\\nresposta = client.chat.completions.create(\\nmessages=mensagens,\\nmodel='gpt-3.5-turbo-0125',\\nmax_tokens=1000,\\ntemperature=0,\\n)\\nprint(type(resposta))\\nEla possui algumas propriedades interessantes:\\nAsimov Academy 23\"),\n",
       "  Document(metadata={'source': 'arquivos/Explorando a API da OpenAI.pdf', 'page': 6}, page_content='Explorando a API da OpenAI\\nA OpenAI\\nNosso objetivo é explorar a API da OpenAI, a maior desenvolvedora de ferramentas de inteligência\\nartificial do mundo na atualidade. O modelo ChatGPT é apenas um dos vários modelos criados pela\\nempresa nos últimos anos. A seguir, apresentamos alguns dos principais modelos e suas funções:\\n• GPT-4: Trata-se de um modelo de linguagem de grande escala (LLM) multimodal, que aceita\\nentradas de texto ou imagem e produz texto. Ele é capaz de resolver problemas complexos com\\nmaior precisão do que os modelos anteriores da OpenAI.\\n• DALL-E: Este sistema de IA pode criar imagens e arte realistas a partir de descrições textuais. O\\nDALL·E 3, em particular, suporta a capacidade de gerar novas imagens em tamanhos específicos,\\ncom base em sugestões fornecidas.\\n• TTS: É um modelo de IA que transforma texto em fala com uma sonoridade natural.\\n• Whisper: O Whisper é um modelo de reconhecimento de fala de uso geral, treinado em um'),\n",
       "  Document(metadata={'source': 'arquivos/Explorando a API da OpenAI.pdf', 'page': 4}, page_content='gerar imagens e transcrever áudios. E o mais bacana é que vamos fazer tudo isso de um jeito bem\\nprático, escrevendo nosso próprio código e vendo a mágica acontecer na frente dos nossos olhos.\\nPython é a ferramenta perfeita para isso. Ela é simples, direta e nos permite focar no que realmente\\nimporta: criar aplicações incríveis. E quando você combina essa simplicidade com o poder da IA, as\\npossibilidades são praticamente infinitas.\\nEntão, se vocês estão tão empolgados quanto eu para começar a explorar o que a IA pode fazer e como\\npodemos usá-la para expandir nossas habilidades de programação, vocês estão no lugar certo. Vamos\\naprender, nos impressionar e, quem sabe, até criar algo que nunca imaginamos ser possível.\\nSejam bem-vindos! Vamos nessa juntos e ver até onde podemos chegar com a API da OpenAI e nosso\\nquerido Python.\\nAsimov Academy 4'),\n",
       "  Document(metadata={'source': 'arquivos/Explorando a API da OpenAI.pdf', 'page': 43}, page_content='Explorando a API da OpenAI\\n11. Fine-Tuning - otimizando um modelo\\nO que é Fine-Tuning?\\nO Fine-Tuning em inteligência artificial representa uma técnica de aprendizado por transferência. Essa\\nabordagem consiste em tomar um modelo pré-treinado, o qual foi desenvolvido com base em um\\nvasto conjunto de dados para uma tarefa ampla – a exemplo dos modelos GPT – e realizar ajustes\\nsutis em seus parâmetros internos. O propósito é aprimorar o desempenho do modelo para uma nova\\ntarefa correlata, evitando a necessidade de iniciar o processo de treinamento desde o início.\\nO Fine-Tuning aprimora o desempenho do promptfew-shot ao treinar o modelo com um número de\\nexemplos significativamente maior do que aquele que pode ser acomodado no prompt. Isso possibilita\\na obtenção de resultados superiores em uma ampla gama de tarefas. Após a otimização de um modelo\\ncom Fine-Tuning, torna-se desnecessário fornecer uma quantidade extensa de exemplos no prompt.')]}"
      ]
     },
     "execution_count": 23,
     "metadata": {},
     "output_type": "execute_result"
    }
   ],
   "source": [
    "input = setup.invoke('O que é a OpenAI?')\n",
    "input"
   ]
  },
  {
   "cell_type": "code",
   "execution_count": 24,
   "id": "cbf95daf",
   "metadata": {},
   "outputs": [
    {
     "data": {
      "text/plain": [
       "{'pergunta': 'O que é a OpenAI?',\n",
       " 'contexto': \"Explorando a API da OpenAI\\nGuias\\nTambém está disponível diversos guias de boas práticas recomendadas ao utilizar os modelos da\\nOpenAI.\\nAsimov Academy 9\\n\\nChatCompletion da biblioteca da OpenAI:\\nimport openai\\nfrom dotenv import load_dotenv, find_dotenv\\n_ = load_dotenv(find_dotenv())\\nclient = openai.Client()\\nmensagens = [{ 'role': 'user', 'content': 'O que é uma maçã em até 5 palavras? '}]\\nresposta = client.chat.completions.create(\\nmessages=mensagens,\\nmodel='gpt-3.5-turbo-0125',\\nmax_tokens=1000,\\ntemperature=0,\\n)\\nprint(type(resposta))\\nEla possui algumas propriedades interessantes:\\nAsimov Academy 23\\n\\nExplorando a API da OpenAI\\nA OpenAI\\nNosso objetivo é explorar a API da OpenAI, a maior desenvolvedora de ferramentas de inteligência\\nartificial do mundo na atualidade. O modelo ChatGPT é apenas um dos vários modelos criados pela\\nempresa nos últimos anos. A seguir, apresentamos alguns dos principais modelos e suas funções:\\n• GPT-4: Trata-se de um modelo de linguagem de grande escala (LLM) multimodal, que aceita\\nentradas de texto ou imagem e produz texto. Ele é capaz de resolver problemas complexos com\\nmaior precisão do que os modelos anteriores da OpenAI.\\n• DALL-E: Este sistema de IA pode criar imagens e arte realistas a partir de descrições textuais. O\\nDALL·E 3, em particular, suporta a capacidade de gerar novas imagens em tamanhos específicos,\\ncom base em sugestões fornecidas.\\n• TTS: É um modelo de IA que transforma texto em fala com uma sonoridade natural.\\n• Whisper: O Whisper é um modelo de reconhecimento de fala de uso geral, treinado em um\\n\\ngerar imagens e transcrever áudios. E o mais bacana é que vamos fazer tudo isso de um jeito bem\\nprático, escrevendo nosso próprio código e vendo a mágica acontecer na frente dos nossos olhos.\\nPython é a ferramenta perfeita para isso. Ela é simples, direta e nos permite focar no que realmente\\nimporta: criar aplicações incríveis. E quando você combina essa simplicidade com o poder da IA, as\\npossibilidades são praticamente infinitas.\\nEntão, se vocês estão tão empolgados quanto eu para começar a explorar o que a IA pode fazer e como\\npodemos usá-la para expandir nossas habilidades de programação, vocês estão no lugar certo. Vamos\\naprender, nos impressionar e, quem sabe, até criar algo que nunca imaginamos ser possível.\\nSejam bem-vindos! Vamos nessa juntos e ver até onde podemos chegar com a API da OpenAI e nosso\\nquerido Python.\\nAsimov Academy 4\\n\\nExplorando a API da OpenAI\\n11. Fine-Tuning - otimizando um modelo\\nO que é Fine-Tuning?\\nO Fine-Tuning em inteligência artificial representa uma técnica de aprendizado por transferência. Essa\\nabordagem consiste em tomar um modelo pré-treinado, o qual foi desenvolvido com base em um\\nvasto conjunto de dados para uma tarefa ampla – a exemplo dos modelos GPT – e realizar ajustes\\nsutis em seus parâmetros internos. O propósito é aprimorar o desempenho do modelo para uma nova\\ntarefa correlata, evitando a necessidade de iniciar o processo de treinamento desde o início.\\nO Fine-Tuning aprimora o desempenho do promptfew-shot ao treinar o modelo com um número de\\nexemplos significativamente maior do que aquele que pode ser acomodado no prompt. Isso possibilita\\na obtenção de resultados superiores em uma ampla gama de tarefas. Após a otimização de um modelo\\ncom Fine-Tuning, torna-se desnecessário fornecer uma quantidade extensa de exemplos no prompt.\"}"
      ]
     },
     "execution_count": 24,
     "metadata": {},
     "output_type": "execute_result"
    }
   ],
   "source": [
    "def join_documents(input):\n",
    "    input['contexto'] = '\\n\\n'.join([c.page_content for c in input['contexto']])\n",
    "    return input\n",
    "\n",
    "setup = RunnableParallel({\n",
    "    'pergunta': RunnablePassthrough(),\n",
    "    'contexto': retriever\n",
    "}) | join_documents\n",
    "\n",
    "input = setup.invoke('O que é a OpenAI?')\n",
    "input"
   ]
  },
  {
   "cell_type": "code",
   "execution_count": 25,
   "id": "016d3863",
   "metadata": {},
   "outputs": [
    {
     "name": "stdout",
     "output_type": "stream",
     "text": [
      "Explorando a API da OpenAI\n",
      "Guias\n",
      "Também está disponível diversos guias de boas práticas recomendadas ao utilizar os modelos da\n",
      "OpenAI.\n",
      "Asimov Academy 9\n",
      "\n",
      "ChatCompletion da biblioteca da OpenAI:\n",
      "import openai\n",
      "from dotenv import load_dotenv, find_dotenv\n",
      "_ = load_dotenv(find_dotenv())\n",
      "client = openai.Client()\n",
      "mensagens = [{ 'role': 'user', 'content': 'O que é uma maçã em até 5 palavras? '}]\n",
      "resposta = client.chat.completions.create(\n",
      "messages=mensagens,\n",
      "model='gpt-3.5-turbo-0125',\n",
      "max_tokens=1000,\n",
      "temperature=0,\n",
      ")\n",
      "print(type(resposta))\n",
      "Ela possui algumas propriedades interessantes:\n",
      "Asimov Academy 23\n",
      "\n",
      "Explorando a API da OpenAI\n",
      "A OpenAI\n",
      "Nosso objetivo é explorar a API da OpenAI, a maior desenvolvedora de ferramentas de inteligência\n",
      "artificial do mundo na atualidade. O modelo ChatGPT é apenas um dos vários modelos criados pela\n",
      "empresa nos últimos anos. A seguir, apresentamos alguns dos principais modelos e suas funções:\n",
      "• GPT-4: Trata-se de um modelo de linguagem de grande escala (LLM) multimodal, que aceita\n",
      "entradas de texto ou imagem e produz texto. Ele é capaz de resolver problemas complexos com\n",
      "maior precisão do que os modelos anteriores da OpenAI.\n",
      "• DALL-E: Este sistema de IA pode criar imagens e arte realistas a partir de descrições textuais. O\n",
      "DALL·E 3, em particular, suporta a capacidade de gerar novas imagens em tamanhos específicos,\n",
      "com base em sugestões fornecidas.\n",
      "• TTS: É um modelo de IA que transforma texto em fala com uma sonoridade natural.\n",
      "• Whisper: O Whisper é um modelo de reconhecimento de fala de uso geral, treinado em um\n",
      "\n",
      "gerar imagens e transcrever áudios. E o mais bacana é que vamos fazer tudo isso de um jeito bem\n",
      "prático, escrevendo nosso próprio código e vendo a mágica acontecer na frente dos nossos olhos.\n",
      "Python é a ferramenta perfeita para isso. Ela é simples, direta e nos permite focar no que realmente\n",
      "importa: criar aplicações incríveis. E quando você combina essa simplicidade com o poder da IA, as\n",
      "possibilidades são praticamente infinitas.\n",
      "Então, se vocês estão tão empolgados quanto eu para começar a explorar o que a IA pode fazer e como\n",
      "podemos usá-la para expandir nossas habilidades de programação, vocês estão no lugar certo. Vamos\n",
      "aprender, nos impressionar e, quem sabe, até criar algo que nunca imaginamos ser possível.\n",
      "Sejam bem-vindos! Vamos nessa juntos e ver até onde podemos chegar com a API da OpenAI e nosso\n",
      "querido Python.\n",
      "Asimov Academy 4\n",
      "\n",
      "Explorando a API da OpenAI\n",
      "11. Fine-Tuning - otimizando um modelo\n",
      "O que é Fine-Tuning?\n",
      "O Fine-Tuning em inteligência artificial representa uma técnica de aprendizado por transferência. Essa\n",
      "abordagem consiste em tomar um modelo pré-treinado, o qual foi desenvolvido com base em um\n",
      "vasto conjunto de dados para uma tarefa ampla – a exemplo dos modelos GPT – e realizar ajustes\n",
      "sutis em seus parâmetros internos. O propósito é aprimorar o desempenho do modelo para uma nova\n",
      "tarefa correlata, evitando a necessidade de iniciar o processo de treinamento desde o início.\n",
      "O Fine-Tuning aprimora o desempenho do promptfew-shot ao treinar o modelo com um número de\n",
      "exemplos significativamente maior do que aquele que pode ser acomodado no prompt. Isso possibilita\n",
      "a obtenção de resultados superiores em uma ampla gama de tarefas. Após a otimização de um modelo\n",
      "com Fine-Tuning, torna-se desnecessário fornecer uma quantidade extensa de exemplos no prompt.\n"
     ]
    }
   ],
   "source": [
    "print(input['contexto'])"
   ]
  },
  {
   "cell_type": "code",
   "execution_count": 26,
   "id": "b7b6feda",
   "metadata": {},
   "outputs": [
    {
     "data": {
      "text/plain": [
       "'A OpenAI é a maior desenvolvedora de ferramentas de inteligência artificial do mundo atualmente. Ela é conhecida por criar diversos modelos de IA, incluindo o ChatGPT, que é um modelo de linguagem de grande escala. A empresa tem como objetivo explorar e desenvolver tecnologias de inteligência artificial, oferecendo diversas ferramentas e APIs que permitem aos desenvolvedores criar aplicações inovadoras. Além do ChatGPT, a OpenAI também desenvolve modelos como o GPT-4, DALL-E, TTS e Whisper, cada um com suas próprias funcionalidades e aplicações.'"
      ]
     },
     "execution_count": 26,
     "metadata": {},
     "output_type": "execute_result"
    }
   ],
   "source": [
    "from langchain_openai.chat_models import ChatOpenAI\n",
    "\n",
    "chat = ChatOpenAI(model='gpt-4o-mini')\n",
    "\n",
    "chain = setup | prompt | chat\n",
    "resposta = chain.invoke('O que é a OpenAI?')\n",
    "resposta.content"
   ]
  },
  {
   "cell_type": "markdown",
   "id": "64dcf45b",
   "metadata": {},
   "source": [
    "## Juntando tudo"
   ]
  },
  {
   "cell_type": "code",
   "execution_count": null,
   "id": "788f4637",
   "metadata": {},
   "outputs": [],
   "source": [
    "from dotenv import load_dotenv\n",
    "from langchain_core.prompts import ChatPromptTemplate as cpt\n",
    "from langchain_core.runnables import RunnableParallel, RunnablePassthrough\n",
    "from langchain_openai.chat_models import ChatOpenAI\n",
    "\n",
    "load_dotenv()\n",
    "\n",
    "prompt = cpt.from_template(\n",
    "    '''Responda as perguntas se baseando no contexto fornecido\n",
    "    \n",
    "    contexto: {contexto}\n",
    "    \n",
    "    pergunta: {pergunta}''')\n",
    "\n",
    "retriever = vectorstore.as_retriever(search_type='mmr', search_kwargs={'k':5, 'fetch_k': 25})\n",
    "\n",
    "def join_documents(input):\n",
    "    input['contexto'] = '\\n\\n'.join([c.page_content for c in input['contexto']])\n",
    "    return input\n",
    "\n",
    "setup = RunnableParallel({\n",
    "    'pergunta': RunnablePassthrough(),\n",
    "    'contexto': retriever\n",
    "}) | join_documents\n",
    "\n",
    "chat = ChatOpenAI(model='gpt-4o-mini')\n",
    "\n",
    "chain = setup | prompt | chat\n",
    "resposta = chain.invoke('O que é a OpenAI?')\n",
    "resposta.content"
   ]
  }
 ],
 "metadata": {
  "kernelspec": {
   "display_name": "venv311",
   "language": "python",
   "name": "python3"
  },
  "language_info": {
   "codemirror_mode": {
    "name": "ipython",
    "version": 3
   },
   "file_extension": ".py",
   "mimetype": "text/x-python",
   "name": "python",
   "nbconvert_exporter": "python",
   "pygments_lexer": "ipython3",
   "version": "3.11.9"
  }
 },
 "nbformat": 4,
 "nbformat_minor": 5
}
